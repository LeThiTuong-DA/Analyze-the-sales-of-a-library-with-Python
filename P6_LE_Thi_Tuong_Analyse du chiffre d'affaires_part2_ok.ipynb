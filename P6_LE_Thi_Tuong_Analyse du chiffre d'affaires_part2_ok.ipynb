{
 "cells": [
  {
   "cell_type": "markdown",
   "metadata": {},
   "source": [
    "# <center>Projet 6: Analysez les ventes d'une librairie avec Python<center>"
   ]
  },
  {
   "cell_type": "markdown",
   "metadata": {},
   "source": [
    "<div>\n",
    "<img src=\"logo-lapage.png\" style = \"width: 400px; height: 150px\" title = \"Lapage\"/>\n",
    "</div>"
   ]
  },
  {
   "cell_type": "markdown",
   "metadata": {},
   "source": [
    "### <center>Réalisée par: Thi Tuong Le</center>\n",
    "#### <center>Data Analyst</center>"
   ]
  },
  {
   "cell_type": "markdown",
   "metadata": {},
   "source": [
    "## Sommaire (Part. 2)\n",
    "1. [Librarie](#1.-Libraries)\n",
    "2. [Dataset](#2.-Dataset)\n",
    "3. [Indicateurs de vente: CA et nombre de ventes](#3.Indicateurs-de-vente:-CA-et-nombre-de-ventes)\n",
    "\n",
    "    3.1. [Chiffre d'affaires (CA) et nombre de ventes global](#3.1.-Chiffre-d'affaires-(CA)-et-nombre-de-ventes-global)\n",
    "    \n",
    "    3.2. [Chiffre d'affaire et nombre de ventes par année](#3.2.-Chiffre-d'affaire-et-nombre-de-ventes-par-année)\n",
    "    \n",
    "    3.3. [Chiffre d'affaire et nombre de ventes mensuel](#3.3.-Chiffre-d'affaire-et-nombre-de-ventes-mensuel)\n",
    "    \n",
    "    3.4. [Chiffre d'affaire et nombre de ventes journalier](#3.4.-Chiffre-d'affaire-et-nombre-de-ventes-journalier)\n",
    "    \n",
    "    3.5. [CA par produits et par catégories](#3.5.-CA-par-produits-et-par-catégories)\n",
    "    \n",
    "    3.6. [Etude CA sur les clients](#3.6.-Etude-CA-sur-les-clients)\n",
    "    \n",
    "    3.7. [Etude CA sur les produits](#3.7.-Etude-CA-sur-les-produits)"
   ]
  },
  {
   "cell_type": "markdown",
   "metadata": {},
   "source": [
    "## 1. Libraries"
   ]
  },
  {
   "cell_type": "code",
   "execution_count": 1,
   "metadata": {
    "ExecuteTime": {
     "end_time": "2022-03-25T11:41:34.851136Z",
     "start_time": "2022-03-25T11:41:31.901788Z"
    }
   },
   "outputs": [],
   "source": [
    "# Import tous les libraries\n",
    "import pandas as pd\n",
    "import numpy as np\n",
    "import matplotlib.pyplot as plt\n",
    "import matplotlib\n",
    "import seaborn as sns"
   ]
  },
  {
   "cell_type": "markdown",
   "metadata": {},
   "source": [
    "## 2. Dataset"
   ]
  },
  {
   "cell_type": "code",
   "execution_count": 2,
   "metadata": {
    "ExecuteTime": {
     "end_time": "2022-03-25T11:41:34.879372Z",
     "start_time": "2022-03-25T11:41:34.857004Z"
    }
   },
   "outputs": [
    {
     "data": {
      "text/plain": [
       "\"/Users/lethituong/Desktop/Data Analyst/P6-Analysez les ventes d'une librairie avec R ou Python/Ventes d'une librairie\""
      ]
     },
     "execution_count": 2,
     "metadata": {},
     "output_type": "execute_result"
    }
   ],
   "source": [
    "# Current working directory\n",
    "import os\n",
    "os.getcwd()"
   ]
  },
  {
   "cell_type": "code",
   "execution_count": 3,
   "metadata": {
    "ExecuteTime": {
     "end_time": "2022-03-25T11:41:37.286783Z",
     "start_time": "2022-03-25T11:41:34.887423Z"
    }
   },
   "outputs": [],
   "source": [
    "# Import le dataframe\n",
    "df = pd.read_csv(\"df.csv\")"
   ]
  },
  {
   "cell_type": "code",
   "execution_count": 4,
   "metadata": {
    "ExecuteTime": {
     "end_time": "2022-03-25T11:41:37.353536Z",
     "start_time": "2022-03-25T11:41:37.293726Z"
    }
   },
   "outputs": [
    {
     "data": {
      "text/html": [
       "<div>\n",
       "<style scoped>\n",
       "    .dataframe tbody tr th:only-of-type {\n",
       "        vertical-align: middle;\n",
       "    }\n",
       "\n",
       "    .dataframe tbody tr th {\n",
       "        vertical-align: top;\n",
       "    }\n",
       "\n",
       "    .dataframe thead th {\n",
       "        text-align: right;\n",
       "    }\n",
       "</style>\n",
       "<table border=\"1\" class=\"dataframe\">\n",
       "  <thead>\n",
       "    <tr style=\"text-align: right;\">\n",
       "      <th></th>\n",
       "      <th>id_prod</th>\n",
       "      <th>date</th>\n",
       "      <th>session_id</th>\n",
       "      <th>client_id</th>\n",
       "      <th>sex</th>\n",
       "      <th>birth</th>\n",
       "      <th>price</th>\n",
       "      <th>categ</th>\n",
       "      <th>year</th>\n",
       "      <th>month</th>\n",
       "      <th>day</th>\n",
       "      <th>age</th>\n",
       "      <th>age_ranges</th>\n",
       "    </tr>\n",
       "  </thead>\n",
       "  <tbody>\n",
       "    <tr>\n",
       "      <td>0</td>\n",
       "      <td>0_1518</td>\n",
       "      <td>2022-05-20 13:21:29.043970</td>\n",
       "      <td>s_211425</td>\n",
       "      <td>c_103</td>\n",
       "      <td>f</td>\n",
       "      <td>1986</td>\n",
       "      <td>4.18</td>\n",
       "      <td>0</td>\n",
       "      <td>2022</td>\n",
       "      <td>5</td>\n",
       "      <td>20</td>\n",
       "      <td>37</td>\n",
       "      <td>30-40</td>\n",
       "    </tr>\n",
       "    <tr>\n",
       "      <td>1</td>\n",
       "      <td>1_251</td>\n",
       "      <td>2022-02-02 07:55:19.149409</td>\n",
       "      <td>s_158752</td>\n",
       "      <td>c_8534</td>\n",
       "      <td>m</td>\n",
       "      <td>1988</td>\n",
       "      <td>15.99</td>\n",
       "      <td>1</td>\n",
       "      <td>2022</td>\n",
       "      <td>2</td>\n",
       "      <td>2</td>\n",
       "      <td>35</td>\n",
       "      <td>30-40</td>\n",
       "    </tr>\n",
       "    <tr>\n",
       "      <td>2</td>\n",
       "      <td>0_1277</td>\n",
       "      <td>2022-06-18 15:44:33.155329</td>\n",
       "      <td>s_225667</td>\n",
       "      <td>c_6714</td>\n",
       "      <td>f</td>\n",
       "      <td>1968</td>\n",
       "      <td>7.99</td>\n",
       "      <td>0</td>\n",
       "      <td>2022</td>\n",
       "      <td>6</td>\n",
       "      <td>18</td>\n",
       "      <td>55</td>\n",
       "      <td>52-61</td>\n",
       "    </tr>\n",
       "    <tr>\n",
       "      <td>3</td>\n",
       "      <td>2_209</td>\n",
       "      <td>2021-06-24 04:19:29.835891</td>\n",
       "      <td>s_52962</td>\n",
       "      <td>c_6941</td>\n",
       "      <td>m</td>\n",
       "      <td>2000</td>\n",
       "      <td>69.99</td>\n",
       "      <td>2</td>\n",
       "      <td>2021</td>\n",
       "      <td>6</td>\n",
       "      <td>24</td>\n",
       "      <td>23</td>\n",
       "      <td>19-29</td>\n",
       "    </tr>\n",
       "    <tr>\n",
       "      <td>4</td>\n",
       "      <td>0_1509</td>\n",
       "      <td>2023-01-11 08:22:08.194479</td>\n",
       "      <td>s_325227</td>\n",
       "      <td>c_4232</td>\n",
       "      <td>m</td>\n",
       "      <td>1980</td>\n",
       "      <td>4.99</td>\n",
       "      <td>0</td>\n",
       "      <td>2023</td>\n",
       "      <td>1</td>\n",
       "      <td>11</td>\n",
       "      <td>43</td>\n",
       "      <td>41-51</td>\n",
       "    </tr>\n",
       "  </tbody>\n",
       "</table>\n",
       "</div>"
      ],
      "text/plain": [
       "  id_prod                        date session_id client_id sex  birth  price  \\\n",
       "0  0_1518  2022-05-20 13:21:29.043970   s_211425     c_103   f   1986   4.18   \n",
       "1   1_251  2022-02-02 07:55:19.149409   s_158752    c_8534   m   1988  15.99   \n",
       "2  0_1277  2022-06-18 15:44:33.155329   s_225667    c_6714   f   1968   7.99   \n",
       "3   2_209  2021-06-24 04:19:29.835891    s_52962    c_6941   m   2000  69.99   \n",
       "4  0_1509  2023-01-11 08:22:08.194479   s_325227    c_4232   m   1980   4.99   \n",
       "\n",
       "   categ  year  month  day  age age_ranges  \n",
       "0      0  2022      5   20   37      30-40  \n",
       "1      1  2022      2    2   35      30-40  \n",
       "2      0  2022      6   18   55      52-61  \n",
       "3      2  2021      6   24   23      19-29  \n",
       "4      0  2023      1   11   43      41-51  "
      ]
     },
     "execution_count": 4,
     "metadata": {},
     "output_type": "execute_result"
    }
   ],
   "source": [
    "df.head()"
   ]
  },
  {
   "cell_type": "code",
   "execution_count": 5,
   "metadata": {
    "ExecuteTime": {
     "end_time": "2022-03-25T11:41:37.370527Z",
     "start_time": "2022-03-25T11:41:37.357219Z"
    }
   },
   "outputs": [
    {
     "data": {
      "text/plain": [
       "(679332, 13)"
      ]
     },
     "execution_count": 5,
     "metadata": {},
     "output_type": "execute_result"
    }
   ],
   "source": [
    "df.shape"
   ]
  },
  {
   "cell_type": "markdown",
   "metadata": {},
   "source": [
    "## 3. Indicateurs de vente: CA et nombre de ventes"
   ]
  },
  {
   "cell_type": "markdown",
   "metadata": {},
   "source": [
    "### 3.1. Chiffre d'affaires (CA) et nombre de ventes global"
   ]
  },
  {
   "cell_type": "code",
   "execution_count": 6,
   "metadata": {
    "ExecuteTime": {
     "end_time": "2022-03-25T11:41:37.397219Z",
     "start_time": "2022-03-25T11:41:37.375015Z"
    }
   },
   "outputs": [
    {
     "name": "stdout",
     "output_type": "stream",
     "text": [
      "Le CA total est de 11856080.12 €\n"
     ]
    }
   ],
   "source": [
    "#On calcul le CA total\n",
    "CA = np.round(df.price.sum(),2)\n",
    "print(\"Le CA total est de\", CA, \"€\")"
   ]
  },
  {
   "cell_type": "code",
   "execution_count": 7,
   "metadata": {
    "ExecuteTime": {
     "end_time": "2022-03-25T11:41:37.420561Z",
     "start_time": "2022-03-25T11:41:37.403096Z"
    }
   },
   "outputs": [
    {
     "name": "stdout",
     "output_type": "stream",
     "text": [
      "Le total de vente est de 679332\n"
     ]
    }
   ],
   "source": [
    "# Nombre de vente en total\n",
    "nbr_sales_total =  df[\"price\"].count()\n",
    "print(\"Le total de vente est de\", nbr_sales_total)"
   ]
  },
  {
   "cell_type": "markdown",
   "metadata": {},
   "source": [
    "### 3.2. Chiffre d'affaire et nombre de ventes par année"
   ]
  },
  {
   "cell_type": "code",
   "execution_count": 8,
   "metadata": {
    "ExecuteTime": {
     "end_time": "2022-03-25T11:41:37.462139Z",
     "start_time": "2022-03-25T11:41:37.433749Z"
    }
   },
   "outputs": [
    {
     "data": {
      "text/plain": [
       "year\n",
       "2021    4771752.24\n",
       "2022    6109958.61\n",
       "2023     974369.27\n",
       "Name: price, dtype: float64"
      ]
     },
     "execution_count": 8,
     "metadata": {},
     "output_type": "execute_result"
    }
   ],
   "source": [
    "# Calcul du CA par année\n",
    "np.round(df.groupby(\"year\")[\"price\"].sum(),2)"
   ]
  },
  {
   "cell_type": "code",
   "execution_count": 9,
   "metadata": {
    "ExecuteTime": {
     "end_time": "2022-03-25T11:41:37.498702Z",
     "start_time": "2022-03-25T11:41:37.468850Z"
    }
   },
   "outputs": [
    {
     "name": "stdout",
     "output_type": "stream",
     "text": [
      "Le nombre de vente par année est de year\n",
      "2021    278335\n",
      "2022    346500\n",
      "2023     54497\n",
      "Name: price, dtype: int64\n"
     ]
    }
   ],
   "source": [
    "# Nombre de vente par année\n",
    "nbr_sales_annee = df.groupby(\"year\")[\"price\"].count()\n",
    "print(\"Le nombre de vente par année est de\", nbr_sales_annee)"
   ]
  },
  {
   "cell_type": "code",
   "execution_count": 10,
   "metadata": {
    "ExecuteTime": {
     "end_time": "2022-03-25T11:41:38.036362Z",
     "start_time": "2022-03-25T11:41:37.504582Z"
    }
   },
   "outputs": [
    {
     "data": {
      "image/png": "[encoded data removed]",
      "text/plain": [
       "<Figure size 432x288 with 1 Axes>"
      ]
     },
     "metadata": {
      "needs_background": "light"
     },
     "output_type": "display_data"
    }
   ],
   "source": [
    "# Visualization les CA chaque année\n",
    "\n",
    "df.groupby(\"year\")[\"price\"].sum().plot(kind = \"bar\")\n",
    "plt.title(\"Chiffre d'affaires par année\", fontsize = 14, fontweight=\"bold\")\n",
    "plt.xticks(rotation=0, ha=\"center\")\n",
    "plt.xlabel(\"Année\")\n",
    "plt.ylabel(\"Chiffre d'affraire (€)\")\n",
    "plt.savefig(\"CA par année.png\", dpi=300)\n",
    "plt.show()"
   ]
  },
  {
   "cell_type": "markdown",
   "metadata": {},
   "source": [
    "<div class=\"alert alert-block alert-info\"><b>En 2022, le plus chiffre d'affaires a été observé."
   ]
  },
  {
   "cell_type": "markdown",
   "metadata": {},
   "source": [
    "### 3.3. Chiffre d'affaire et nombre de ventes mensuel"
   ]
  },
  {
   "cell_type": "code",
   "execution_count": 11,
   "metadata": {
    "ExecuteTime": {
     "end_time": "2022-03-25T11:41:46.494933Z",
     "start_time": "2022-03-25T11:41:38.040792Z"
    }
   },
   "outputs": [
    {
     "name": "stderr",
     "output_type": "stream",
     "text": [
      "/Users/lethituong/opt/anaconda3/lib/python3.7/site-packages/pandas/core/generic.py:3946: PerformanceWarning: dropping on a non-lexsorted multi-index without a level parameter may impact performance.\n",
      "  new_axis = axis.drop(labels, errors=errors)\n"
     ]
    },
    {
     "data": {
      "text/html": [
       "<div>\n",
       "<style scoped>\n",
       "    .dataframe tbody tr th:only-of-type {\n",
       "        vertical-align: middle;\n",
       "    }\n",
       "\n",
       "    .dataframe tbody tr th {\n",
       "        vertical-align: top;\n",
       "    }\n",
       "\n",
       "    .dataframe thead tr th {\n",
       "        text-align: left;\n",
       "    }\n",
       "</style>\n",
       "<table border=\"1\" class=\"dataframe\">\n",
       "  <thead>\n",
       "    <tr>\n",
       "      <th></th>\n",
       "      <th>year</th>\n",
       "      <th>month</th>\n",
       "      <th>ca_month</th>\n",
       "      <th>nbr_sales_month</th>\n",
       "    </tr>\n",
       "    <tr>\n",
       "      <th></th>\n",
       "      <th></th>\n",
       "      <th></th>\n",
       "      <th></th>\n",
       "      <th></th>\n",
       "    </tr>\n",
       "  </thead>\n",
       "  <tbody>\n",
       "    <tr>\n",
       "      <td>0</td>\n",
       "      <td>2021</td>\n",
       "      <td>3</td>\n",
       "      <td>482536.37</td>\n",
       "      <td>14203</td>\n",
       "    </tr>\n",
       "    <tr>\n",
       "      <td>1</td>\n",
       "      <td>2021</td>\n",
       "      <td>4</td>\n",
       "      <td>476258.26</td>\n",
       "      <td>13972</td>\n",
       "    </tr>\n",
       "    <tr>\n",
       "      <td>2</td>\n",
       "      <td>2021</td>\n",
       "      <td>5</td>\n",
       "      <td>493028.59</td>\n",
       "      <td>14169</td>\n",
       "    </tr>\n",
       "    <tr>\n",
       "      <td>3</td>\n",
       "      <td>2021</td>\n",
       "      <td>6</td>\n",
       "      <td>484163.04</td>\n",
       "      <td>13839</td>\n",
       "    </tr>\n",
       "    <tr>\n",
       "      <td>4</td>\n",
       "      <td>2021</td>\n",
       "      <td>7</td>\n",
       "      <td>482877.96</td>\n",
       "      <td>13573</td>\n",
       "    </tr>\n",
       "    <tr>\n",
       "      <td>5</td>\n",
       "      <td>2021</td>\n",
       "      <td>8</td>\n",
       "      <td>482380.55</td>\n",
       "      <td>13593</td>\n",
       "    </tr>\n",
       "    <tr>\n",
       "      <td>6</td>\n",
       "      <td>2021</td>\n",
       "      <td>9</td>\n",
       "      <td>507368.36</td>\n",
       "      <td>14850</td>\n",
       "    </tr>\n",
       "    <tr>\n",
       "      <td>7</td>\n",
       "      <td>2021</td>\n",
       "      <td>10</td>\n",
       "      <td>320873.22</td>\n",
       "      <td>11553</td>\n",
       "    </tr>\n",
       "    <tr>\n",
       "      <td>8</td>\n",
       "      <td>2021</td>\n",
       "      <td>11</td>\n",
       "      <td>516274.13</td>\n",
       "      <td>14608</td>\n",
       "    </tr>\n",
       "    <tr>\n",
       "      <td>9</td>\n",
       "      <td>2021</td>\n",
       "      <td>12</td>\n",
       "      <td>525991.76</td>\n",
       "      <td>15567</td>\n",
       "    </tr>\n",
       "    <tr>\n",
       "      <td>10</td>\n",
       "      <td>2022</td>\n",
       "      <td>1</td>\n",
       "      <td>525392.19</td>\n",
       "      <td>14979</td>\n",
       "    </tr>\n",
       "    <tr>\n",
       "      <td>11</td>\n",
       "      <td>2022</td>\n",
       "      <td>2</td>\n",
       "      <td>535688.54</td>\n",
       "      <td>14339</td>\n",
       "    </tr>\n",
       "    <tr>\n",
       "      <td>12</td>\n",
       "      <td>2022</td>\n",
       "      <td>3</td>\n",
       "      <td>515573.57</td>\n",
       "      <td>14827</td>\n",
       "    </tr>\n",
       "    <tr>\n",
       "      <td>13</td>\n",
       "      <td>2022</td>\n",
       "      <td>4</td>\n",
       "      <td>493147.90</td>\n",
       "      <td>14086</td>\n",
       "    </tr>\n",
       "    <tr>\n",
       "      <td>14</td>\n",
       "      <td>2022</td>\n",
       "      <td>5</td>\n",
       "      <td>517302.84</td>\n",
       "      <td>14960</td>\n",
       "    </tr>\n",
       "    <tr>\n",
       "      <td>15</td>\n",
       "      <td>2022</td>\n",
       "      <td>6</td>\n",
       "      <td>496090.60</td>\n",
       "      <td>14391</td>\n",
       "    </tr>\n",
       "    <tr>\n",
       "      <td>16</td>\n",
       "      <td>2022</td>\n",
       "      <td>7</td>\n",
       "      <td>510910.80</td>\n",
       "      <td>14653</td>\n",
       "    </tr>\n",
       "    <tr>\n",
       "      <td>17</td>\n",
       "      <td>2022</td>\n",
       "      <td>8</td>\n",
       "      <td>506552.39</td>\n",
       "      <td>14587</td>\n",
       "    </tr>\n",
       "    <tr>\n",
       "      <td>18</td>\n",
       "      <td>2022</td>\n",
       "      <td>9</td>\n",
       "      <td>494210.29</td>\n",
       "      <td>14264</td>\n",
       "    </tr>\n",
       "    <tr>\n",
       "      <td>19</td>\n",
       "      <td>2022</td>\n",
       "      <td>10</td>\n",
       "      <td>508024.17</td>\n",
       "      <td>14660</td>\n",
       "    </tr>\n",
       "    <tr>\n",
       "      <td>20</td>\n",
       "      <td>2022</td>\n",
       "      <td>11</td>\n",
       "      <td>496781.98</td>\n",
       "      <td>14226</td>\n",
       "    </tr>\n",
       "    <tr>\n",
       "      <td>21</td>\n",
       "      <td>2022</td>\n",
       "      <td>12</td>\n",
       "      <td>510283.34</td>\n",
       "      <td>14635</td>\n",
       "    </tr>\n",
       "    <tr>\n",
       "      <td>22</td>\n",
       "      <td>2023</td>\n",
       "      <td>1</td>\n",
       "      <td>517615.03</td>\n",
       "      <td>14758</td>\n",
       "    </tr>\n",
       "    <tr>\n",
       "      <td>23</td>\n",
       "      <td>2023</td>\n",
       "      <td>2</td>\n",
       "      <td>456754.24</td>\n",
       "      <td>13074</td>\n",
       "    </tr>\n",
       "  </tbody>\n",
       "</table>\n",
       "</div>"
      ],
      "text/plain": [
       "    year month   ca_month nbr_sales_month\n",
       "                                         \n",
       "0   2021     3  482536.37           14203\n",
       "1   2021     4  476258.26           13972\n",
       "2   2021     5  493028.59           14169\n",
       "3   2021     6  484163.04           13839\n",
       "4   2021     7  482877.96           13573\n",
       "5   2021     8  482380.55           13593\n",
       "6   2021     9  507368.36           14850\n",
       "7   2021    10  320873.22           11553\n",
       "8   2021    11  516274.13           14608\n",
       "9   2021    12  525991.76           15567\n",
       "10  2022     1  525392.19           14979\n",
       "11  2022     2  535688.54           14339\n",
       "12  2022     3  515573.57           14827\n",
       "13  2022     4  493147.90           14086\n",
       "14  2022     5  517302.84           14960\n",
       "15  2022     6  496090.60           14391\n",
       "16  2022     7  510910.80           14653\n",
       "17  2022     8  506552.39           14587\n",
       "18  2022     9  494210.29           14264\n",
       "19  2022    10  508024.17           14660\n",
       "20  2022    11  496781.98           14226\n",
       "21  2022    12  510283.34           14635\n",
       "22  2023     1  517615.03           14758\n",
       "23  2023     2  456754.24           13074"
      ]
     },
     "execution_count": 11,
     "metadata": {},
     "output_type": "execute_result"
    }
   ],
   "source": [
    "# On calcul le CA et nbr de ventes mensuel\n",
    "df_ca_mensuel = df[[\"year\", \"month\", \"session_id\",\"price\"]].groupby([\"year\", \"month\"]).agg([\"sum\",\"nunique\"]).reset_index()\n",
    "df_ca_mensuel[\"ca_month\"] = df_ca_mensuel[\"price\"][\"sum\"]\n",
    "df_ca_mensuel[\"nbr_sales_month\"] = df_ca_mensuel[\"session_id\"][\"nunique\"]\n",
    "df_ca_mensuel.drop([\"price\", \"session_id\"], axis=\"columns\", inplace=True)\n",
    "df_ca_mensuel"
   ]
  },
  {
   "cell_type": "code",
   "execution_count": 12,
   "metadata": {
    "ExecuteTime": {
     "end_time": "2022-03-25T11:41:47.347552Z",
     "start_time": "2022-03-25T11:41:46.499863Z"
    }
   },
   "outputs": [
    {
     "data": {
      "image/png": "[encoded data removed]",
      "text/plain": [
       "<Figure size 576x432 with 1 Axes>"
      ]
     },
     "metadata": {
      "needs_background": "light"
     },
     "output_type": "display_data"
    }
   ],
   "source": [
    "df_ca_mensuel.groupby(\"year\")[\"ca_month\"].plot(figsize=(8,6),marker=\"o\", linewidth = 1, markersize=6)\n",
    "plt.title(\"CA mensuel\", fontsize = 14, fontweight=\"bold\")\n",
    "plt.xlabel(\"Index des mois\")\n",
    "plt.ylabel(\"CA mensuel (€)\")\n",
    "plt.legend(frameon=False, title=\"CA mensuel par année\", loc=\"lower right\")\n",
    "plt.savefig(\"CA mensuel.png\", dpi=300)\n",
    "plt.show()"
   ]
  },
  {
   "cell_type": "code",
   "execution_count": 13,
   "metadata": {
    "ExecuteTime": {
     "end_time": "2022-03-25T11:41:47.401076Z",
     "start_time": "2022-03-25T11:41:47.368548Z"
    }
   },
   "outputs": [
    {
     "name": "stdout",
     "output_type": "stream",
     "text": [
      "CA mensuel moyen est de 494003.34 euros\n"
     ]
    }
   ],
   "source": [
    "# Calcul le CA mensuel moyen\n",
    "print(\"CA mensuel moyen est de\", round(df_ca_mensuel.ca_month.mean(),2),\"euros\")"
   ]
  },
  {
   "cell_type": "code",
   "execution_count": 14,
   "metadata": {
    "ExecuteTime": {
     "end_time": "2022-03-25T11:41:47.454021Z",
     "start_time": "2022-03-25T11:41:47.426836Z"
    }
   },
   "outputs": [
    {
     "name": "stdout",
     "output_type": "stream",
     "text": [
      "le nombre de ventes mensuelles moyen est de 14265.25 livres\n"
     ]
    }
   ],
   "source": [
    "# Calcul le nombre de ventes mensuelles moyen\n",
    "print(\"le nombre de ventes mensuelles moyen est de\",round(df_ca_mensuel.nbr_sales_month.mean(),2), \"livres\")"
   ]
  },
  {
   "cell_type": "markdown",
   "metadata": {},
   "source": [
    "<div class=\"alert alert-block alert-info\"><b>Synthèse de l'analyse du CA et du nombre de ventes au global:\n",
    "    \n",
    "- Le chiffre d'affaire généré depuis du 01/03/2021 au 28/02/2023 est de 11856080.12 € pour un total de 679332 ventes\n",
    "- CA mensuel et nombre de ventes moyens : 494003.34 € pour 14265.25 livres\n",
    "- Le mois d’octobre 2021 est marqué par une chute significative du CA généré --> Besoin de faire l'observation?"
   ]
  },
  {
   "cell_type": "markdown",
   "metadata": {},
   "source": [
    "### 3.4. Chiffre d'affaire et nombre de ventes journalier"
   ]
  },
  {
   "cell_type": "code",
   "execution_count": 15,
   "metadata": {
    "ExecuteTime": {
     "end_time": "2022-03-25T11:41:51.348093Z",
     "start_time": "2022-03-25T11:41:47.465463Z"
    }
   },
   "outputs": [
    {
     "name": "stderr",
     "output_type": "stream",
     "text": [
      "/Users/lethituong/opt/anaconda3/lib/python3.7/site-packages/pandas/core/generic.py:3946: PerformanceWarning: dropping on a non-lexsorted multi-index without a level parameter may impact performance.\n",
      "  new_axis = axis.drop(labels, errors=errors)\n"
     ]
    },
    {
     "data": {
      "text/html": [
       "<div>\n",
       "<style scoped>\n",
       "    .dataframe tbody tr th:only-of-type {\n",
       "        vertical-align: middle;\n",
       "    }\n",
       "\n",
       "    .dataframe tbody tr th {\n",
       "        vertical-align: top;\n",
       "    }\n",
       "\n",
       "    .dataframe thead tr th {\n",
       "        text-align: left;\n",
       "    }\n",
       "</style>\n",
       "<table border=\"1\" class=\"dataframe\">\n",
       "  <thead>\n",
       "    <tr>\n",
       "      <th></th>\n",
       "      <th>year</th>\n",
       "      <th>month</th>\n",
       "      <th>day</th>\n",
       "      <th>ca_day</th>\n",
       "      <th>nbr_sales_day</th>\n",
       "    </tr>\n",
       "    <tr>\n",
       "      <th></th>\n",
       "      <th></th>\n",
       "      <th></th>\n",
       "      <th></th>\n",
       "      <th></th>\n",
       "      <th></th>\n",
       "    </tr>\n",
       "  </thead>\n",
       "  <tbody>\n",
       "    <tr>\n",
       "      <td>0</td>\n",
       "      <td>2021</td>\n",
       "      <td>3</td>\n",
       "      <td>1</td>\n",
       "      <td>16575.86</td>\n",
       "      <td>487</td>\n",
       "    </tr>\n",
       "    <tr>\n",
       "      <td>1</td>\n",
       "      <td>2021</td>\n",
       "      <td>3</td>\n",
       "      <td>2</td>\n",
       "      <td>15497.09</td>\n",
       "      <td>471</td>\n",
       "    </tr>\n",
       "    <tr>\n",
       "      <td>2</td>\n",
       "      <td>2021</td>\n",
       "      <td>3</td>\n",
       "      <td>3</td>\n",
       "      <td>15198.69</td>\n",
       "      <td>437</td>\n",
       "    </tr>\n",
       "    <tr>\n",
       "      <td>3</td>\n",
       "      <td>2021</td>\n",
       "      <td>3</td>\n",
       "      <td>4</td>\n",
       "      <td>15196.07</td>\n",
       "      <td>449</td>\n",
       "    </tr>\n",
       "    <tr>\n",
       "      <td>4</td>\n",
       "      <td>2021</td>\n",
       "      <td>3</td>\n",
       "      <td>5</td>\n",
       "      <td>17471.37</td>\n",
       "      <td>496</td>\n",
       "    </tr>\n",
       "    <tr>\n",
       "      <td>...</td>\n",
       "      <td>...</td>\n",
       "      <td>...</td>\n",
       "      <td>...</td>\n",
       "      <td>...</td>\n",
       "      <td>...</td>\n",
       "    </tr>\n",
       "    <tr>\n",
       "      <td>725</td>\n",
       "      <td>2023</td>\n",
       "      <td>2</td>\n",
       "      <td>24</td>\n",
       "      <td>15207.89</td>\n",
       "      <td>460</td>\n",
       "    </tr>\n",
       "    <tr>\n",
       "      <td>726</td>\n",
       "      <td>2023</td>\n",
       "      <td>2</td>\n",
       "      <td>25</td>\n",
       "      <td>15761.25</td>\n",
       "      <td>463</td>\n",
       "    </tr>\n",
       "    <tr>\n",
       "      <td>727</td>\n",
       "      <td>2023</td>\n",
       "      <td>2</td>\n",
       "      <td>26</td>\n",
       "      <td>16304.72</td>\n",
       "      <td>487</td>\n",
       "    </tr>\n",
       "    <tr>\n",
       "      <td>728</td>\n",
       "      <td>2023</td>\n",
       "      <td>2</td>\n",
       "      <td>27</td>\n",
       "      <td>19170.81</td>\n",
       "      <td>519</td>\n",
       "    </tr>\n",
       "    <tr>\n",
       "      <td>729</td>\n",
       "      <td>2023</td>\n",
       "      <td>2</td>\n",
       "      <td>28</td>\n",
       "      <td>18105.15</td>\n",
       "      <td>488</td>\n",
       "    </tr>\n",
       "  </tbody>\n",
       "</table>\n",
       "<p>730 rows × 5 columns</p>\n",
       "</div>"
      ],
      "text/plain": [
       "     year month day    ca_day nbr_sales_day\n",
       "                                           \n",
       "0    2021     3   1  16575.86           487\n",
       "1    2021     3   2  15497.09           471\n",
       "2    2021     3   3  15198.69           437\n",
       "3    2021     3   4  15196.07           449\n",
       "4    2021     3   5  17471.37           496\n",
       "..    ...   ...  ..       ...           ...\n",
       "725  2023     2  24  15207.89           460\n",
       "726  2023     2  25  15761.25           463\n",
       "727  2023     2  26  16304.72           487\n",
       "728  2023     2  27  19170.81           519\n",
       "729  2023     2  28  18105.15           488\n",
       "\n",
       "[730 rows x 5 columns]"
      ]
     },
     "execution_count": 15,
     "metadata": {},
     "output_type": "execute_result"
    }
   ],
   "source": [
    "# On calcul le CA et nbr de ventes journalier\n",
    "df_ca_j = df[[\"year\", \"month\", \"day\", \"session_id\",\"price\"]].groupby([\"year\", \"month\", \"day\"]).agg([\"sum\",\"nunique\"]).reset_index()\n",
    "df_ca_j[\"ca_day\"] = df_ca_j[\"price\"][\"sum\"]\n",
    "df_ca_j[\"nbr_sales_day\"] = df_ca_j[\"session_id\"][\"nunique\"]\n",
    "df_ca_j.drop([\"price\", \"session_id\"], axis=\"columns\", inplace=True)\n",
    "df_ca_j"
   ]
  },
  {
   "cell_type": "code",
   "execution_count": 16,
   "metadata": {
    "ExecuteTime": {
     "end_time": "2022-03-25T11:41:53.010434Z",
     "start_time": "2022-03-25T11:41:51.357950Z"
    }
   },
   "outputs": [
    {
     "data": {
      "image/png": "[encoded data removed]",
      "text/plain": [
       "<Figure size 1296x576 with 1 Axes>"
      ]
     },
     "metadata": {
      "needs_background": "light"
     },
     "output_type": "display_data"
    }
   ],
   "source": [
    "df_ca_j.groupby(\"year\")[\"ca_day\"].plot(figsize=(18,8), kind=\"line\")\n",
    "plt.title('CA journalier sur les 3 années', fontsize = 14, fontweight=\"bold\")\n",
    "plt.xlabel(\"Day\")\n",
    "plt.ylabel(\"CA (€)\")\n",
    "plt.legend(frameon=False, title=\"CA journalier par année\", loc=\"lower right\")\n",
    "plt.savefig(\"CA journalier sur les 3 année.png\", dpi=300)\n",
    "plt.show()"
   ]
  },
  {
   "cell_type": "markdown",
   "metadata": {},
   "source": [
    "### 3.5. CA par produits et par catégories"
   ]
  },
  {
   "cell_type": "code",
   "execution_count": 17,
   "metadata": {
    "ExecuteTime": {
     "end_time": "2022-03-25T11:41:53.100829Z",
     "start_time": "2022-03-25T11:41:53.013524Z"
    }
   },
   "outputs": [],
   "source": [
    "# CA par catégorie par an\n",
    "df_finale_CA_cat_par_an= df.groupby([\"year\",\"categ\"]).agg({\"price\":\"sum\"})"
   ]
  },
  {
   "cell_type": "code",
   "execution_count": 18,
   "metadata": {
    "ExecuteTime": {
     "end_time": "2022-03-25T11:41:53.116181Z",
     "start_time": "2022-03-25T11:41:53.105595Z"
    }
   },
   "outputs": [
    {
     "name": "stdout",
     "output_type": "stream",
     "text": [
      "                   price\n",
      "year categ              \n",
      "2021 0      1.883946e+06\n",
      "     1      1.777996e+06\n",
      "     2      1.109810e+06\n",
      "2022 0      2.194247e+06\n",
      "     1      2.485275e+06\n",
      "     2      1.430436e+06\n",
      "2023 0      3.438890e+05\n",
      "     1      3.904516e+05\n",
      "     2      2.400286e+05\n"
     ]
    }
   ],
   "source": [
    "print(df_finale_CA_cat_par_an)"
   ]
  },
  {
   "cell_type": "code",
   "execution_count": 19,
   "metadata": {
    "ExecuteTime": {
     "end_time": "2022-03-25T11:41:53.185899Z",
     "start_time": "2022-03-25T11:41:53.122905Z"
    }
   },
   "outputs": [],
   "source": [
    "# CA par catégorie par mois\n",
    "df_finale_CA_cat_par_mois = df.groupby([\"month\",\"categ\"]).agg({\"price\":\"sum\"})"
   ]
  },
  {
   "cell_type": "code",
   "execution_count": 20,
   "metadata": {
    "ExecuteTime": {
     "end_time": "2022-03-25T11:41:53.200818Z",
     "start_time": "2022-03-25T11:41:53.189722Z"
    }
   },
   "outputs": [
    {
     "name": "stdout",
     "output_type": "stream",
     "text": [
      "                 price\n",
      "month categ           \n",
      "1     0      345621.25\n",
      "      1      466372.33\n",
      "      2      231013.64\n",
      "2     0      345845.85\n",
      "      1      393467.88\n",
      "      2      253129.05\n",
      "3     0      385306.91\n",
      "      1      393459.43\n",
      "      2      219343.60\n",
      "4     0      380517.64\n",
      "      1      351402.32\n",
      "      2      237486.20\n",
      "5     0      391314.42\n",
      "      1      371426.03\n",
      "      2      247590.98\n",
      "6     0      352026.97\n",
      "      1      391074.10\n",
      "      2      237152.57\n",
      "7     0      332018.03\n",
      "      1      382492.99\n",
      "      2      279277.74\n",
      "8     0      345291.26\n",
      "      1      374351.47\n",
      "      2      269290.21\n",
      "9     0      429906.59\n",
      "      1      385993.32\n",
      "      2      185678.74\n",
      "10    0      386860.88\n",
      "      1      233371.98\n",
      "      2      208664.53\n",
      "11    0      340727.35\n",
      "      1      453338.38\n",
      "      2      218990.38\n",
      "12    0      386645.26\n",
      "      1      456972.46\n",
      "      2      192657.38\n"
     ]
    }
   ],
   "source": [
    "print(df_finale_CA_cat_par_mois)"
   ]
  },
  {
   "cell_type": "code",
   "execution_count": 21,
   "metadata": {
    "ExecuteTime": {
     "end_time": "2022-03-25T11:41:53.312391Z",
     "start_time": "2022-03-25T11:41:53.205786Z"
    }
   },
   "outputs": [],
   "source": [
    "#CA_cat = pd.pivot(df[['month','categ','price']], index = ['month'], values=['price'], columns ='categ', aggfunc = 'sum')\n",
    "#CA_cat.head()\n",
    "# Créer une table pivot pour pouvoir représenter le CA par catégorie de produit par année et mois\n",
    "df_categ = pd.pivot_table(df, index = [\"year\",\"month\"], columns = \"categ\", values = \"price\",aggfunc={\"price\":\"sum\"})"
   ]
  },
  {
   "cell_type": "code",
   "execution_count": 22,
   "metadata": {
    "ExecuteTime": {
     "end_time": "2022-03-25T11:41:53.328144Z",
     "start_time": "2022-03-25T11:41:53.316011Z"
    }
   },
   "outputs": [
    {
     "data": {
      "text/plain": [
       "categ\n",
       "0    4422082.41\n",
       "1    4653722.69\n",
       "2    2780275.02\n",
       "dtype: float64"
      ]
     },
     "execution_count": 22,
     "metadata": {},
     "output_type": "execute_result"
    }
   ],
   "source": [
    "df_categ.sum()"
   ]
  },
  {
   "cell_type": "code",
   "execution_count": 23,
   "metadata": {
    "ExecuteTime": {
     "end_time": "2022-03-25T11:41:54.210395Z",
     "start_time": "2022-03-25T11:41:53.345492Z"
    }
   },
   "outputs": [
    {
     "data": {
      "image/png": "[encoded data removed]",
      "text/plain": [
       "<Figure size 432x288 with 1 Axes>"
      ]
     },
     "metadata": {
      "needs_background": "light"
     },
     "output_type": "display_data"
    }
   ],
   "source": [
    "# Visualisation les produits avec les prix par les categories pour vérifier si les produits de ces catégories ont la même échelle de prix.\n",
    "categ_0 = df[df[\"categ\"]==0][\"price\"]\n",
    "categ_1 = df[df[\"categ\"]==1][\"price\"]\n",
    "categ_2 = df[df[\"categ\"]==2][\"price\"]\n",
    "columns = [categ_0,categ_1,categ_2]\n",
    "fig, ax = plt.subplots()\n",
    "ax.boxplot(columns)\n",
    "plt.xticks([1, 2, 3], [\"categ_0\", \"categ_1\", \"categ_2\"])\n",
    "plt.title(\"Boxplot des prix par catégorie\", fontsize = 14, fontweight = \"bold\")\n",
    "plt.grid()\n",
    "plt.show()\n",
    "\n",
    "#Sauvegarde en PNG\n",
    "fig.savefig(\"graph_boxplot des prix par categ.png\")\n",
    "plt.close(fig)"
   ]
  },
  {
   "cell_type": "code",
   "execution_count": 24,
   "metadata": {
    "ExecuteTime": {
     "end_time": "2022-03-25T11:41:54.306876Z",
     "start_time": "2022-03-25T11:41:54.219689Z"
    }
   },
   "outputs": [
    {
     "data": {
      "text/html": [
       "<div>\n",
       "<style scoped>\n",
       "    .dataframe tbody tr th:only-of-type {\n",
       "        vertical-align: middle;\n",
       "    }\n",
       "\n",
       "    .dataframe tbody tr th {\n",
       "        vertical-align: top;\n",
       "    }\n",
       "\n",
       "    .dataframe thead tr th {\n",
       "        text-align: left;\n",
       "    }\n",
       "\n",
       "    .dataframe thead tr:last-of-type th {\n",
       "        text-align: right;\n",
       "    }\n",
       "</style>\n",
       "<table border=\"1\" class=\"dataframe\">\n",
       "  <thead>\n",
       "    <tr>\n",
       "      <th></th>\n",
       "      <th colspan=\"5\" halign=\"left\">price</th>\n",
       "    </tr>\n",
       "    <tr>\n",
       "      <th></th>\n",
       "      <th>min</th>\n",
       "      <th>max</th>\n",
       "      <th>mean</th>\n",
       "      <th>std</th>\n",
       "      <th>median</th>\n",
       "    </tr>\n",
       "    <tr>\n",
       "      <th>categ</th>\n",
       "      <th></th>\n",
       "      <th></th>\n",
       "      <th></th>\n",
       "      <th></th>\n",
       "      <th></th>\n",
       "    </tr>\n",
       "  </thead>\n",
       "  <tbody>\n",
       "    <tr>\n",
       "      <td>0</td>\n",
       "      <td>0.62</td>\n",
       "      <td>40.99</td>\n",
       "      <td>10.638189</td>\n",
       "      <td>4.932216</td>\n",
       "      <td>9.99</td>\n",
       "    </tr>\n",
       "    <tr>\n",
       "      <td>1</td>\n",
       "      <td>2.00</td>\n",
       "      <td>80.99</td>\n",
       "      <td>20.485730</td>\n",
       "      <td>7.584894</td>\n",
       "      <td>19.08</td>\n",
       "    </tr>\n",
       "    <tr>\n",
       "      <td>2</td>\n",
       "      <td>30.99</td>\n",
       "      <td>300.00</td>\n",
       "      <td>76.207412</td>\n",
       "      <td>39.749015</td>\n",
       "      <td>62.83</td>\n",
       "    </tr>\n",
       "  </tbody>\n",
       "</table>\n",
       "</div>"
      ],
      "text/plain": [
       "       price                                     \n",
       "         min     max       mean        std median\n",
       "categ                                            \n",
       "0       0.62   40.99  10.638189   4.932216   9.99\n",
       "1       2.00   80.99  20.485730   7.584894  19.08\n",
       "2      30.99  300.00  76.207412  39.749015  62.83"
      ]
     },
     "execution_count": 24,
     "metadata": {},
     "output_type": "execute_result"
    }
   ],
   "source": [
    "# On affiche les statistique descriptives\n",
    "df.groupby(\"categ\").agg({\"price\": [\"min\",\"max\",\"mean\",\"std\",\"median\"]})"
   ]
  },
  {
   "cell_type": "code",
   "execution_count": 25,
   "metadata": {
    "ExecuteTime": {
     "end_time": "2022-03-25T11:41:54.518522Z",
     "start_time": "2022-03-25T11:41:54.311514Z"
    }
   },
   "outputs": [],
   "source": [
    "# On affiche la liste de valeurs uniques de la colonne price\n",
    "categ_0_prix = sorted(df.loc[df[\"categ\"]==0].price.unique());\n",
    "categ_1_prix = sorted(df.loc[df[\"categ\"]==1].price.unique());\n",
    "categ_2_prix = sorted(df.loc[df[\"categ\"]==2].price.unique());"
   ]
  },
  {
   "cell_type": "code",
   "execution_count": 26,
   "metadata": {
    "ExecuteTime": {
     "end_time": "2022-03-25T11:41:54.951760Z",
     "start_time": "2022-03-25T11:41:54.522932Z"
    },
    "scrolled": true
   },
   "outputs": [
    {
     "data": {
      "image/png": "[encoded data removed]",
      "text/plain": [
       "<Figure size 432x288 with 1 Axes>"
      ]
     },
     "metadata": {
      "needs_background": "light"
     },
     "output_type": "display_data"
    }
   ],
   "source": [
    "# Visualization \n",
    "fig, ax = plt.subplots()\n",
    "\n",
    "ax.hist(categ_0_prix)\n",
    "ax.hist(categ_1_prix)\n",
    "ax.hist(categ_2_prix)\n",
    "\n",
    "plt.legend([\"Categorie 0\",\"Categorie 1\",\"Categorie 2\"], frameon = False)\n",
    "plt.title(\"Répartition des prix par catégorie\", fontsize = 14, fontweight=\"bold\")\n",
    "plt.show()\n",
    "\n",
    "#Sauvegarde en PNG\n",
    "fig.savefig(\"graph_repartition des prix par categ.png\")\n",
    "plt.close(fig)"
   ]
  },
  {
   "cell_type": "markdown",
   "metadata": {},
   "source": [
    "**Il s'agit de 3 catégories de produits de gammes différentes. La catégorie 2 est la plus haute gamme et la catégorie 0 est la plus faible**"
   ]
  },
  {
   "cell_type": "code",
   "execution_count": 27,
   "metadata": {
    "ExecuteTime": {
     "end_time": "2022-03-25T11:41:55.564370Z",
     "start_time": "2022-03-25T11:41:54.956045Z"
    },
    "scrolled": true
   },
   "outputs": [
    {
     "data": {
      "image/png": "[encoded data removed]",
      "text/plain": [
       "<Figure size 1008x360 with 1 Axes>"
      ]
     },
     "metadata": {
      "needs_background": "light"
     },
     "output_type": "display_data"
    }
   ],
   "source": [
    "# Visualization le CA par les catégories\n",
    "df_categ.plot(kind=\"bar\",stacked = True,figsize=(14,5),width = 0.7)\n",
    "plt.title(\"Répartition du CA par catégorie\", fontsize = 14, fontweight = \"bold\")\n",
    "plt.axvline(7,color=\"blue\",linestyle=\"--\")\n",
    "plt.xticks(rotation = 45,ha=\"right\")\n",
    "plt.legend(bbox_to_anchor=(1.05, 1), loc=\"upper left\", title = \"Catégorie\")\n",
    "plt.show()\n",
    "\n",
    "#Sauvegarde en PNG\n",
    "fig.savefig(\"graph_repartition du CA par categ.png\")\n",
    "plt.close(fig)"
   ]
  },
  {
   "cell_type": "markdown",
   "metadata": {},
   "source": [
    "**Le problème de CA en octobre 2021 à cause de CA de categ 1**"
   ]
  },
  {
   "cell_type": "markdown",
   "metadata": {},
   "source": [
    "### 3.6. Etude CA sur les clients"
   ]
  },
  {
   "cell_type": "code",
   "execution_count": 28,
   "metadata": {
    "ExecuteTime": {
     "end_time": "2022-03-25T11:41:55.731437Z",
     "start_time": "2022-03-25T11:41:55.567301Z"
    }
   },
   "outputs": [
    {
     "data": {
      "text/plain": [
       "(8600,)"
      ]
     },
     "execution_count": 28,
     "metadata": {},
     "output_type": "execute_result"
    }
   ],
   "source": [
    "# Je compte le nombre de clients uniques\n",
    "df.client_id.value_counts().shape"
   ]
  },
  {
   "cell_type": "code",
   "execution_count": 29,
   "metadata": {
    "ExecuteTime": {
     "end_time": "2022-03-25T11:41:55.849008Z",
     "start_time": "2022-03-25T11:41:55.735609Z"
    }
   },
   "outputs": [
    {
     "data": {
      "text/html": [
       "<div>\n",
       "<style scoped>\n",
       "    .dataframe tbody tr th:only-of-type {\n",
       "        vertical-align: middle;\n",
       "    }\n",
       "\n",
       "    .dataframe tbody tr th {\n",
       "        vertical-align: top;\n",
       "    }\n",
       "\n",
       "    .dataframe thead th {\n",
       "        text-align: right;\n",
       "    }\n",
       "</style>\n",
       "<table border=\"1\" class=\"dataframe\">\n",
       "  <thead>\n",
       "    <tr style=\"text-align: right;\">\n",
       "      <th></th>\n",
       "      <th>price</th>\n",
       "    </tr>\n",
       "    <tr>\n",
       "      <th>client_id</th>\n",
       "      <th></th>\n",
       "    </tr>\n",
       "  </thead>\n",
       "  <tbody>\n",
       "    <tr>\n",
       "      <td>c_1</td>\n",
       "      <td>558.18</td>\n",
       "    </tr>\n",
       "    <tr>\n",
       "      <td>c_10</td>\n",
       "      <td>1353.60</td>\n",
       "    </tr>\n",
       "    <tr>\n",
       "      <td>c_100</td>\n",
       "      <td>254.85</td>\n",
       "    </tr>\n",
       "    <tr>\n",
       "      <td>c_1000</td>\n",
       "      <td>2261.89</td>\n",
       "    </tr>\n",
       "    <tr>\n",
       "      <td>c_1001</td>\n",
       "      <td>1812.86</td>\n",
       "    </tr>\n",
       "  </tbody>\n",
       "</table>\n",
       "</div>"
      ],
      "text/plain": [
       "             price\n",
       "client_id         \n",
       "c_1         558.18\n",
       "c_10       1353.60\n",
       "c_100       254.85\n",
       "c_1000     2261.89\n",
       "c_1001     1812.86"
      ]
     },
     "execution_count": 29,
     "metadata": {},
     "output_type": "execute_result"
    }
   ],
   "source": [
    "# Je regroupe mes données par client_id et j'affiche le montant de leurs achats.\n",
    "df_client = df.groupby('client_id')[['price']].sum();\n",
    "df_client.head()"
   ]
  },
  {
   "cell_type": "code",
   "execution_count": 30,
   "metadata": {
    "ExecuteTime": {
     "end_time": "2022-03-25T11:41:55.875448Z",
     "start_time": "2022-03-25T11:41:55.853576Z"
    },
    "scrolled": true
   },
   "outputs": [
    {
     "data": {
      "text/html": [
       "<div>\n",
       "<style scoped>\n",
       "    .dataframe tbody tr th:only-of-type {\n",
       "        vertical-align: middle;\n",
       "    }\n",
       "\n",
       "    .dataframe tbody tr th {\n",
       "        vertical-align: top;\n",
       "    }\n",
       "\n",
       "    .dataframe thead th {\n",
       "        text-align: right;\n",
       "    }\n",
       "</style>\n",
       "<table border=\"1\" class=\"dataframe\">\n",
       "  <thead>\n",
       "    <tr style=\"text-align: right;\">\n",
       "      <th></th>\n",
       "      <th>price</th>\n",
       "    </tr>\n",
       "    <tr>\n",
       "      <th>client_id</th>\n",
       "      <th></th>\n",
       "    </tr>\n",
       "  </thead>\n",
       "  <tbody>\n",
       "    <tr>\n",
       "      <td>c_1609</td>\n",
       "      <td>324033.35</td>\n",
       "    </tr>\n",
       "    <tr>\n",
       "      <td>c_4958</td>\n",
       "      <td>289760.34</td>\n",
       "    </tr>\n",
       "    <tr>\n",
       "      <td>c_6714</td>\n",
       "      <td>153662.76</td>\n",
       "    </tr>\n",
       "    <tr>\n",
       "      <td>c_3454</td>\n",
       "      <td>113669.85</td>\n",
       "    </tr>\n",
       "    <tr>\n",
       "      <td>c_3263</td>\n",
       "      <td>5276.87</td>\n",
       "    </tr>\n",
       "    <tr>\n",
       "      <td>...</td>\n",
       "      <td>...</td>\n",
       "    </tr>\n",
       "    <tr>\n",
       "      <td>c_4648</td>\n",
       "      <td>11.20</td>\n",
       "    </tr>\n",
       "    <tr>\n",
       "      <td>c_240</td>\n",
       "      <td>11.06</td>\n",
       "    </tr>\n",
       "    <tr>\n",
       "      <td>c_8114</td>\n",
       "      <td>9.98</td>\n",
       "    </tr>\n",
       "    <tr>\n",
       "      <td>c_8140</td>\n",
       "      <td>8.30</td>\n",
       "    </tr>\n",
       "    <tr>\n",
       "      <td>c_8351</td>\n",
       "      <td>6.31</td>\n",
       "    </tr>\n",
       "  </tbody>\n",
       "</table>\n",
       "<p>8600 rows × 1 columns</p>\n",
       "</div>"
      ],
      "text/plain": [
       "               price\n",
       "client_id           \n",
       "c_1609     324033.35\n",
       "c_4958     289760.34\n",
       "c_6714     153662.76\n",
       "c_3454     113669.85\n",
       "c_3263       5276.87\n",
       "...              ...\n",
       "c_4648         11.20\n",
       "c_240          11.06\n",
       "c_8114          9.98\n",
       "c_8140          8.30\n",
       "c_8351          6.31\n",
       "\n",
       "[8600 rows x 1 columns]"
      ]
     },
     "execution_count": 30,
     "metadata": {},
     "output_type": "execute_result"
    }
   ],
   "source": [
    "# Trier les données de la colonne price par ordre croissant\n",
    "df_client.sort_values('price', ascending = False)"
   ]
  },
  {
   "cell_type": "markdown",
   "metadata": {},
   "source": [
    "**On remarque que les 4 clients (client_id=c_1609, c_4958, c_6714, et c_3454) ont dépensé beaucoup plus que les autres clients.**"
   ]
  },
  {
   "cell_type": "code",
   "execution_count": 31,
   "metadata": {
    "ExecuteTime": {
     "end_time": "2022-03-25T11:41:56.203032Z",
     "start_time": "2022-03-25T11:41:55.879887Z"
    }
   },
   "outputs": [],
   "source": [
    "# On trie les 4 et mettre dans nouvelle dataframe\n",
    "df_4_clients = df.loc[(df[\"client_id\"]==\"c_1609\")| (df[\"client_id\"]==\"c_4958\")| (df[\"client_id\"]==\"c_6714\") | (df[\"client_id\"]==\"c_3454\"),:]"
   ]
  },
  {
   "cell_type": "code",
   "execution_count": 32,
   "metadata": {
    "ExecuteTime": {
     "end_time": "2022-03-25T11:41:56.219563Z",
     "start_time": "2022-03-25T11:41:56.208031Z"
    }
   },
   "outputs": [
    {
     "name": "stdout",
     "output_type": "stream",
     "text": [
      "881126.3\n"
     ]
    }
   ],
   "source": [
    "# On calcule du CA généré par ces 4 clients \n",
    "ca_4_clients = df_4_clients.price.sum()\n",
    "print(ca_4_clients)"
   ]
  },
  {
   "cell_type": "code",
   "execution_count": 33,
   "metadata": {
    "ExecuteTime": {
     "end_time": "2022-03-25T11:41:56.248105Z",
     "start_time": "2022-03-25T11:41:56.225617Z"
    }
   },
   "outputs": [
    {
     "name": "stdout",
     "output_type": "stream",
     "text": [
      "7.431851767884311\n"
     ]
    }
   ],
   "source": [
    "# La proportion\n",
    "prop_ca_4_clients = df_4_clients.price.sum() /df.price.sum()*100;\n",
    "print(prop_ca_4_clients)"
   ]
  },
  {
   "cell_type": "code",
   "execution_count": 34,
   "metadata": {
    "ExecuteTime": {
     "end_time": "2022-03-25T11:41:56.292167Z",
     "start_time": "2022-03-25T11:41:56.254211Z"
    }
   },
   "outputs": [],
   "source": [
    "# ca par catégorie les 4 clients\n",
    "df_4_clients_categ = pd.pivot_table(df_4_clients, index = [\"year\",\"month\"], columns = \"categ\", values = \"price\",aggfunc={\"price\":\"sum\"});"
   ]
  },
  {
   "cell_type": "code",
   "execution_count": 35,
   "metadata": {
    "ExecuteTime": {
     "end_time": "2022-03-25T11:41:56.966392Z",
     "start_time": "2022-03-25T11:41:56.295467Z"
    },
    "scrolled": true
   },
   "outputs": [
    {
     "data": {
      "image/png": "[encoded data removed]",
      "text/plain": [
       "<Figure size 1080x360 with 1 Axes>"
      ]
     },
     "metadata": {
      "needs_background": "light"
     },
     "output_type": "display_data"
    }
   ],
   "source": [
    "# Visualization les 4 clients par catégorie\n",
    "df_4_clients_categ.plot(kind=\"bar\",stacked = True,figsize=(15,5),width = 0.7)\n",
    "plt.legend(bbox_to_anchor=(1.05, 1.0), loc=\"upper left\", title = \"Catégorie\")\n",
    "plt.title(\"Répartition du CA par catégorie des 4 clients\", fontsize=14, fontweight=\"bold\")\n",
    "plt.axvline(7,color=\"blue\",linestyle=\"--\")\n",
    "plt.xticks(rotation = 45,ha=\"right\")\n",
    "plt.show()\n",
    "\n",
    "#Sauvegarde en PNG\n",
    "fig.savefig(\"graph_repartition du CA par categ des 4 clients.png\")\n",
    "plt.close(fig)"
   ]
  },
  {
   "cell_type": "markdown",
   "metadata": {},
   "source": [
    "**On fait un zoom sur les 4 clients.**"
   ]
  },
  {
   "cell_type": "markdown",
   "metadata": {},
   "source": [
    "#### 3.6.1. Création d'une courbe de Lorenz par des clients"
   ]
  },
  {
   "cell_type": "code",
   "execution_count": 36,
   "metadata": {
    "ExecuteTime": {
     "end_time": "2022-03-25T11:41:56.982186Z",
     "start_time": "2022-03-25T11:41:56.969356Z"
    }
   },
   "outputs": [],
   "source": [
    "cum = df_client.cumsum()"
   ]
  },
  {
   "cell_type": "code",
   "execution_count": 37,
   "metadata": {
    "ExecuteTime": {
     "end_time": "2022-03-25T11:41:57.435333Z",
     "start_time": "2022-03-25T11:41:56.990013Z"
    }
   },
   "outputs": [
    {
     "data": {
      "image/png": "[encoded data removed]",
      "text/plain": [
       "<Figure size 432x288 with 1 Axes>"
      ]
     },
     "metadata": {
      "needs_background": "light"
     },
     "output_type": "display_data"
    }
   ],
   "source": [
    "dep = df_client[\"price\"]\n",
    "n = len(cum)\n",
    "lorenz = np.cumsum(np.sort(dep)) / dep.sum()\n",
    "# La courbe de Lorenz commence à 0\n",
    "lorenz = np.append([0],lorenz) \n",
    "\n",
    "# Calcul de l'intersection\n",
    "medial = lorenz[(lorenz < 0.5)].size / lorenz.size \n",
    "\n",
    "plt.plot(np.linspace(0,1,len(lorenz)), lorenz, drawstyle=\"steps-post\", color=\"red\", label=\"Lorenz\")\n",
    "plt.plot(np.linspace(0,1,len(lorenz)), np.linspace(0,1,len(lorenz)), dashes=[2,4], color=\"blue\")\n",
    "\n",
    "plt.vlines(medial, ymin=0, ymax=.5, color=\"brown\", linestyle=\"--\", linewidth=1.5, label=\"Medial\")\n",
    "plt.hlines(xmin=medial, xmax=0, y=.5, color=\"brown\", linestyle=\"--\", linewidth=1.5)\n",
    "plt.title(\"Courbe de Lorenz de la répartition du CA des clients\", fontsize = 14, fontweight=\"bold\")\n",
    "plt.xlabel(\"produit (%)\")\n",
    "plt.ylabel(\"CA total (%)\")\n",
    "plt.show()\n",
    "\n",
    "#Sauvegarde en PNG\n",
    "fig.savefig(\"graph_coubre de Lorenz CA des clients.png\")\n",
    "plt.close(fig)"
   ]
  },
  {
   "cell_type": "markdown",
   "metadata": {},
   "source": [
    "**Construire la courbe de Lorenz afin de vérifier si la répartition du montant des commandes est égalitaire. On peut voir sur le graphique que la répartition du montant des commandes n'est pas égalitaire.**"
   ]
  },
  {
   "cell_type": "markdown",
   "metadata": {},
   "source": [
    "#### 3.6.2. CA par le sexe des clients"
   ]
  },
  {
   "cell_type": "code",
   "execution_count": 38,
   "metadata": {
    "ExecuteTime": {
     "end_time": "2022-03-25T11:41:57.684984Z",
     "start_time": "2022-03-25T11:41:57.438365Z"
    }
   },
   "outputs": [],
   "source": [
    "# Je crée 2 dataframes \"homme\" et \"femme\"\n",
    "homme = df.loc[df[\"sex\"]==\"m\",:]\n",
    "femme = df.loc[df[\"sex\"]==\"f\",:]"
   ]
  },
  {
   "cell_type": "code",
   "execution_count": 39,
   "metadata": {
    "ExecuteTime": {
     "end_time": "2022-03-25T11:41:57.768177Z",
     "start_time": "2022-03-25T11:41:57.689452Z"
    }
   },
   "outputs": [
    {
     "name": "stdout",
     "output_type": "stream",
     "text": [
      "m    340930\n",
      "Name: sex, dtype: int64\n",
      "f    338402\n",
      "Name: sex, dtype: int64\n"
     ]
    }
   ],
   "source": [
    "# Nombre des clients par le sexe\n",
    "print(homme.sex.value_counts())\n",
    "print(femme.sex.value_counts())"
   ]
  },
  {
   "cell_type": "code",
   "execution_count": 40,
   "metadata": {
    "ExecuteTime": {
     "end_time": "2022-03-25T11:41:57.798819Z",
     "start_time": "2022-03-25T11:41:57.773834Z"
    }
   },
   "outputs": [
    {
     "name": "stdout",
     "output_type": "stream",
     "text": [
      "CA par les hommes est de 5995152.11 euros\n",
      "CA par les femmes est de 5860928.01 euros\n"
     ]
    }
   ],
   "source": [
    "# Calcul du CA généré par les hommes et femmes\n",
    "print(\"CA par les hommes est de\",homme.price.sum(), \"euros\")\n",
    "print(\"CA par les femmes est de\",femme.price.sum(),\"euros\")"
   ]
  },
  {
   "cell_type": "code",
   "execution_count": 41,
   "metadata": {
    "ExecuteTime": {
     "end_time": "2022-03-25T11:41:57.840392Z",
     "start_time": "2022-03-25T11:41:57.805687Z"
    }
   },
   "outputs": [],
   "source": [
    "# Je calcule la proportion de CA par sexe :\n",
    "homme_prop_ca = homme.price.sum()/df.price.sum()*100;\n",
    "femme_prop_ca = femme.price.sum()/df.price.sum()*100"
   ]
  },
  {
   "cell_type": "code",
   "execution_count": 42,
   "metadata": {
    "ExecuteTime": {
     "end_time": "2022-03-25T11:41:58.051121Z",
     "start_time": "2022-03-25T11:41:57.845104Z"
    }
   },
   "outputs": [
    {
     "data": {
      "image/png": "[encoded data removed]",
      "text/plain": [
       "<Figure size 432x288 with 1 Axes>"
      ]
     },
     "metadata": {},
     "output_type": "display_data"
    }
   ],
   "source": [
    "# Visualization la proportion par piechart\n",
    "portion = [homme_prop_ca,femme_prop_ca] \n",
    "plt.pie(portion,labels=[\"homme\", \"femme\"],colors = [\"blue\",\"green\"],autopct=\"%.2f%%\",pctdistance=0.5,textprops={'fontsize': 14})\n",
    "plt.title(\"Proportion du CA homme et femme\", fontsize = 14, fontweight=\"bold\")\n",
    "plt.show()\n",
    "\n",
    "#Sauvegarde en PNG\n",
    "fig.savefig(\"graph_proportion du CA H-F.png\")\n",
    "plt.close(fig)"
   ]
  },
  {
   "cell_type": "code",
   "execution_count": 43,
   "metadata": {
    "ExecuteTime": {
     "end_time": "2022-03-25T11:41:58.472471Z",
     "start_time": "2022-03-25T11:41:58.055445Z"
    }
   },
   "outputs": [
    {
     "data": {
      "image/png": "[encoded data removed]",
      "text/plain": [
       "<Figure size 432x288 with 1 Axes>"
      ]
     },
     "metadata": {
      "needs_background": "light"
     },
     "output_type": "display_data"
    }
   ],
   "source": [
    "# Visualization CA par genre\n",
    "homme.groupby([\"year\",\"month\"])[\"price\"].sum().plot()\n",
    "femme.groupby([\"year\",\"month\"])[\"price\"].sum().plot()\n",
    "plt.xlabel(\"Time\")\n",
    "plt.ylabel(\"CA (€)\")\n",
    "plt.legend([\"Homme\",\"Femme\"], frameon=False, loc = \"lower right\")\n",
    "plt.title(\"Répartition du CA entre hommes et femmes\", fontsize = 14, fontweight = \"bold\")\n",
    "plt.show()\n",
    "\n",
    "#Sauvegarde en PNG\n",
    "fig.savefig(\"graph_repartition du CA H-F.png\")\n",
    "plt.close(fig)"
   ]
  },
  {
   "cell_type": "markdown",
   "metadata": {},
   "source": [
    "#### 3.6.3. Création d'une courbe de Lorenz des clients par age"
   ]
  },
  {
   "cell_type": "code",
   "execution_count": 44,
   "metadata": {
    "ExecuteTime": {
     "end_time": "2022-03-25T11:41:58.492744Z",
     "start_time": "2022-03-25T11:41:58.475597Z"
    }
   },
   "outputs": [],
   "source": [
    "cum = df.age.cumsum()"
   ]
  },
  {
   "cell_type": "code",
   "execution_count": 45,
   "metadata": {
    "ExecuteTime": {
     "end_time": "2022-03-25T11:41:59.380463Z",
     "start_time": "2022-03-25T11:41:58.496181Z"
    }
   },
   "outputs": [
    {
     "data": {
      "image/png": "[encoded data removed]",
      "text/plain": [
       "<Figure size 432x288 with 1 Axes>"
      ]
     },
     "metadata": {
      "needs_background": "light"
     },
     "output_type": "display_data"
    }
   ],
   "source": [
    "dep = df[\"age\"]\n",
    "n = len(cum)\n",
    "lorenz = np.cumsum(np.sort(dep)) / dep.sum()\n",
    "# La courbe de Lorenz commence à 0\n",
    "lorenz = np.append([0],lorenz) \n",
    "\n",
    "# Calcul de l'intersection\n",
    "medial = lorenz[(lorenz < 0.5)].size / lorenz.size \n",
    "\n",
    "plt.plot(np.linspace(0,1,len(lorenz)), lorenz, drawstyle=\"steps-post\", color=\"red\", label=\"Lorenz\")\n",
    "plt.plot(np.linspace(0,1,len(lorenz)), np.linspace(0,1,len(lorenz)), dashes=[2,4], color=\"blue\")\n",
    "\n",
    "plt.vlines(medial, ymin=0, ymax=.5, color=\"brown\", linestyle=\"--\", linewidth=1.5, label=\"Medial\")\n",
    "plt.hlines(xmin=medial, xmax=0, y=.5, color=\"brown\", linestyle=\"--\", linewidth=1.5)\n",
    "plt.title(\"Courbe de Lorenz de la répartition du CA par age\", fontsize = 14, fontweight=\"bold\")\n",
    "plt.xlabel(\"Clients (%)\")\n",
    "plt.ylabel(\"CA total (%)\")\n",
    "plt.show()\n",
    "\n",
    "#Sauvegarde en PNG\n",
    "fig.savefig(\"graph_coubre de Lorenz CA par age.png\")\n",
    "plt.close(fig)"
   ]
  },
  {
   "cell_type": "markdown",
   "metadata": {},
   "source": [
    "**On peut voir une répartition quasiment égalitaire des clients par âge!**"
   ]
  },
  {
   "cell_type": "code",
   "execution_count": 46,
   "metadata": {
    "ExecuteTime": {
     "end_time": "2022-03-25T11:41:59.486690Z",
     "start_time": "2022-03-25T11:41:59.383562Z"
    }
   },
   "outputs": [],
   "source": [
    "# CA par age-ranges\n",
    "df_age = df.groupby(\"age_ranges\").agg({\"client_id\":\"count\", \"price\" : \"sum\"})"
   ]
  },
  {
   "cell_type": "code",
   "execution_count": 47,
   "metadata": {
    "ExecuteTime": {
     "end_time": "2022-03-25T11:41:59.502419Z",
     "start_time": "2022-03-25T11:41:59.490573Z"
    }
   },
   "outputs": [],
   "source": [
    "df_age = df_age.reset_index()\n",
    "df_age_client = df_age[[\"age_ranges\",\"client_id\"]]"
   ]
  },
  {
   "cell_type": "code",
   "execution_count": 48,
   "metadata": {
    "ExecuteTime": {
     "end_time": "2022-03-25T11:41:59.523107Z",
     "start_time": "2022-03-25T11:41:59.506757Z"
    }
   },
   "outputs": [
    {
     "data": {
      "text/html": [
       "<div>\n",
       "<style scoped>\n",
       "    .dataframe tbody tr th:only-of-type {\n",
       "        vertical-align: middle;\n",
       "    }\n",
       "\n",
       "    .dataframe tbody tr th {\n",
       "        vertical-align: top;\n",
       "    }\n",
       "\n",
       "    .dataframe thead th {\n",
       "        text-align: right;\n",
       "    }\n",
       "</style>\n",
       "<table border=\"1\" class=\"dataframe\">\n",
       "  <thead>\n",
       "    <tr style=\"text-align: right;\">\n",
       "      <th></th>\n",
       "      <th>age_ranges</th>\n",
       "      <th>client_id</th>\n",
       "    </tr>\n",
       "  </thead>\n",
       "  <tbody>\n",
       "    <tr>\n",
       "      <td>0</td>\n",
       "      <td>19-29</td>\n",
       "      <td>69488</td>\n",
       "    </tr>\n",
       "    <tr>\n",
       "      <td>1</td>\n",
       "      <td>30-40</td>\n",
       "      <td>185997</td>\n",
       "    </tr>\n",
       "    <tr>\n",
       "      <td>2</td>\n",
       "      <td>41-51</td>\n",
       "      <td>243571</td>\n",
       "    </tr>\n",
       "    <tr>\n",
       "      <td>3</td>\n",
       "      <td>52-61</td>\n",
       "      <td>96247</td>\n",
       "    </tr>\n",
       "    <tr>\n",
       "      <td>4</td>\n",
       "      <td>62-73</td>\n",
       "      <td>55915</td>\n",
       "    </tr>\n",
       "    <tr>\n",
       "      <td>5</td>\n",
       "      <td>74-84</td>\n",
       "      <td>22051</td>\n",
       "    </tr>\n",
       "    <tr>\n",
       "      <td>6</td>\n",
       "      <td>85-94</td>\n",
       "      <td>6063</td>\n",
       "    </tr>\n",
       "  </tbody>\n",
       "</table>\n",
       "</div>"
      ],
      "text/plain": [
       "  age_ranges  client_id\n",
       "0      19-29      69488\n",
       "1      30-40     185997\n",
       "2      41-51     243571\n",
       "3      52-61      96247\n",
       "4      62-73      55915\n",
       "5      74-84      22051\n",
       "6      85-94       6063"
      ]
     },
     "execution_count": 48,
     "metadata": {},
     "output_type": "execute_result"
    }
   ],
   "source": [
    "df_age_client"
   ]
  },
  {
   "cell_type": "code",
   "execution_count": 49,
   "metadata": {
    "ExecuteTime": {
     "end_time": "2022-03-25T11:41:59.885357Z",
     "start_time": "2022-03-25T11:41:59.527653Z"
    }
   },
   "outputs": [
    {
     "data": {
      "image/png": "[encoded data removed]",
      "text/plain": [
       "<Figure size 432x288 with 1 Axes>"
      ]
     },
     "metadata": {
      "needs_background": "light"
     },
     "output_type": "display_data"
    }
   ],
   "source": [
    "# Visualization\n",
    "df_age_client.plot(kind=\"bar\",)\n",
    "plt.xticks(rotation =0,ha=\"right\")\n",
    "plt.xlabel(\"Nombre de clients\")\n",
    "plt.ylabel(\"index de tranches âges\")\n",
    "plt.title(\"Répartition du nombre de clients par âge\", fontsize=14, fontweight=\"bold\")\n",
    "plt.grid()\n",
    "plt.show()\n",
    "\n",
    "#Sauvegarde en PNG\n",
    "fig.savefig(\"graph_repartition du nombre de clients par age.png\")\n",
    "plt.close(fig)"
   ]
  },
  {
   "cell_type": "code",
   "execution_count": 50,
   "metadata": {
    "ExecuteTime": {
     "end_time": "2022-03-25T11:41:59.895664Z",
     "start_time": "2022-03-25T11:41:59.888746Z"
    }
   },
   "outputs": [],
   "source": [
    "# CA par age_ranges\n",
    "df_age_CA = df_age[[\"age_ranges\",\"price\"]]"
   ]
  },
  {
   "cell_type": "code",
   "execution_count": 51,
   "metadata": {
    "ExecuteTime": {
     "end_time": "2022-03-25T11:41:59.912958Z",
     "start_time": "2022-03-25T11:41:59.901338Z"
    }
   },
   "outputs": [],
   "source": [
    "df_age_CA = df_age.groupby(\"age_ranges\").agg({\"price\" : \"sum\"})"
   ]
  },
  {
   "cell_type": "code",
   "execution_count": 52,
   "metadata": {
    "ExecuteTime": {
     "end_time": "2022-03-25T11:41:59.939121Z",
     "start_time": "2022-03-25T11:41:59.921339Z"
    }
   },
   "outputs": [
    {
     "data": {
      "text/html": [
       "<div>\n",
       "<style scoped>\n",
       "    .dataframe tbody tr th:only-of-type {\n",
       "        vertical-align: middle;\n",
       "    }\n",
       "\n",
       "    .dataframe tbody tr th {\n",
       "        vertical-align: top;\n",
       "    }\n",
       "\n",
       "    .dataframe thead th {\n",
       "        text-align: right;\n",
       "    }\n",
       "</style>\n",
       "<table border=\"1\" class=\"dataframe\">\n",
       "  <thead>\n",
       "    <tr style=\"text-align: right;\">\n",
       "      <th></th>\n",
       "      <th>price</th>\n",
       "    </tr>\n",
       "    <tr>\n",
       "      <th>age_ranges</th>\n",
       "      <th></th>\n",
       "    </tr>\n",
       "  </thead>\n",
       "  <tbody>\n",
       "    <tr>\n",
       "      <td>19-29</td>\n",
       "      <td>2.884717e+06</td>\n",
       "    </tr>\n",
       "    <tr>\n",
       "      <td>30-40</td>\n",
       "      <td>2.732845e+06</td>\n",
       "    </tr>\n",
       "    <tr>\n",
       "      <td>41-51</td>\n",
       "      <td>3.215976e+06</td>\n",
       "    </tr>\n",
       "    <tr>\n",
       "      <td>52-61</td>\n",
       "      <td>1.614295e+06</td>\n",
       "    </tr>\n",
       "    <tr>\n",
       "      <td>62-73</td>\n",
       "      <td>9.390230e+05</td>\n",
       "    </tr>\n",
       "    <tr>\n",
       "      <td>74-84</td>\n",
       "      <td>3.670488e+05</td>\n",
       "    </tr>\n",
       "    <tr>\n",
       "      <td>85-94</td>\n",
       "      <td>1.021749e+05</td>\n",
       "    </tr>\n",
       "  </tbody>\n",
       "</table>\n",
       "</div>"
      ],
      "text/plain": [
       "                   price\n",
       "age_ranges              \n",
       "19-29       2.884717e+06\n",
       "30-40       2.732845e+06\n",
       "41-51       3.215976e+06\n",
       "52-61       1.614295e+06\n",
       "62-73       9.390230e+05\n",
       "74-84       3.670488e+05\n",
       "85-94       1.021749e+05"
      ]
     },
     "execution_count": 52,
     "metadata": {},
     "output_type": "execute_result"
    }
   ],
   "source": [
    "df_age_CA"
   ]
  },
  {
   "cell_type": "code",
   "execution_count": 53,
   "metadata": {
    "ExecuteTime": {
     "end_time": "2022-03-25T11:42:00.285546Z",
     "start_time": "2022-03-25T11:41:59.946658Z"
    }
   },
   "outputs": [
    {
     "data": {
      "image/png": "[encoded data removed]",
      "text/plain": [
       "<Figure size 432x288 with 1 Axes>"
      ]
     },
     "metadata": {
      "needs_background": "light"
     },
     "output_type": "display_data"
    }
   ],
   "source": [
    "# Visualization\n",
    "df_age_CA.plot(kind=\"bar\",)\n",
    "plt.xticks(rotation =45,ha=\"right\")\n",
    "plt.xlabel(\"Age range\")\n",
    "plt.ylabel(\"CA (€)\")\n",
    "plt.title(\"Répartition du CA par d\\'âge\", fontsize=14, fontweight=\"bold\")\n",
    "plt.grid()\n",
    "plt.show()\n",
    "\n",
    "#Sauvegarde en PNG\n",
    "fig.savefig(\"graph_repartition du CA par d'age.png\")\n",
    "plt.close(fig)"
   ]
  },
  {
   "cell_type": "code",
   "execution_count": 54,
   "metadata": {
    "ExecuteTime": {
     "end_time": "2022-03-25T11:42:00.406127Z",
     "start_time": "2022-03-25T11:42:00.289372Z"
    }
   },
   "outputs": [],
   "source": [
    "# Par sex et par categ\n",
    "homme_categ = pd.pivot_table(homme, index = [\"year\",\"month\"], columns = \"categ\", values = \"price\",aggfunc={\"price\":\"sum\"});\n",
    "femme_categ = pd.pivot_table(femme, index = [\"year\",\"month\"], columns = \"categ\", values = \"price\",aggfunc={\"price\":\"sum\"});"
   ]
  },
  {
   "cell_type": "code",
   "execution_count": 55,
   "metadata": {
    "ExecuteTime": {
     "end_time": "2022-03-25T11:42:01.495740Z",
     "start_time": "2022-03-25T11:42:00.410028Z"
    }
   },
   "outputs": [
    {
     "data": {
      "image/png": "[encoded data removed]",
      "text/plain": [
       "<Figure size 1080x360 with 1 Axes>"
      ]
     },
     "metadata": {
      "needs_background": "light"
     },
     "output_type": "display_data"
    },
    {
     "data": {
      "image/png": "[encoded data removed]",
      "text/plain": [
       "<Figure size 1080x360 with 1 Axes>"
      ]
     },
     "metadata": {
      "needs_background": "light"
     },
     "output_type": "display_data"
    }
   ],
   "source": [
    "# Visualization de la répartition semblable du CA par catégorie de produits entre les hommes et les femmes.\n",
    "homme_categ.plot(kind=\"bar\",stacked = True,figsize=(15,5),width = 0.7)\n",
    "plt.xlabel(\"Time\")\n",
    "plt.ylabel(\"CA (€)\")\n",
    "plt.title(\"Répartition du CA par catégorie chez les hommes\", fontsize = 14, fontweight = \"bold\")\n",
    "plt.axvline(7,color=\"blue\",linestyle= \"--\")\n",
    "plt.xticks(rotation = 45,ha=\"right\")\n",
    "plt.legend(bbox_to_anchor=(1.05, 1), loc=\"upper left\", title = \"Catégorie\")\n",
    "plt.show()\n",
    "femme_categ.plot(kind='bar',stacked = True,figsize=(15,5),width = 0.7)\n",
    "plt.xlabel(\"Time\")\n",
    "plt.ylabel(\"CA (€)\")\n",
    "plt.title(\"Répartition du CA par catégorie chez les femmes\", fontsize = 14, fontweight = \"bold\")\n",
    "plt.axvline(7,color=\"blue\",linestyle= \"--\")\n",
    "plt.xticks(rotation = 45,ha=\"right\")\n",
    "plt.legend(bbox_to_anchor=(1.05, 1.0), loc=\"upper left\", title = \"Catégorie\")\n",
    "plt.show()\n",
    "\n",
    "#Sauvegarde en PNG\n",
    "fig.savefig(\"graph_repartition du CA par categorie.png\")\n",
    "plt.close(fig)"
   ]
  },
  {
   "cell_type": "markdown",
   "metadata": {},
   "source": [
    "### 3.7. Etude CA sur les produits"
   ]
  },
  {
   "cell_type": "code",
   "execution_count": 56,
   "metadata": {
    "ExecuteTime": {
     "end_time": "2022-03-25T11:42:01.557070Z",
     "start_time": "2022-03-25T11:42:01.499174Z"
    }
   },
   "outputs": [
    {
     "data": {
      "text/plain": [
       "679332"
      ]
     },
     "execution_count": 56,
     "metadata": {},
     "output_type": "execute_result"
    }
   ],
   "source": [
    "# On affiche les nombre d'articles\n",
    "df.id_prod.count()"
   ]
  },
  {
   "cell_type": "code",
   "execution_count": 57,
   "metadata": {
    "ExecuteTime": {
     "end_time": "2022-03-25T11:42:01.637435Z",
     "start_time": "2022-03-25T11:42:01.562618Z"
    }
   },
   "outputs": [
    {
     "data": {
      "text/plain": [
       "categ\n",
       "0    415680\n",
       "1    227169\n",
       "2     36483\n",
       "Name: id_prod, dtype: int64"
      ]
     },
     "execution_count": 57,
     "metadata": {},
     "output_type": "execute_result"
    }
   ],
   "source": [
    "# Par categ\n",
    "df.groupby(\"categ\").id_prod.count()"
   ]
  },
  {
   "cell_type": "markdown",
   "metadata": {},
   "source": [
    "**On peut concludre qu'il n'y a pas la même quantité de produits par catégorie.**"
   ]
  },
  {
   "cell_type": "code",
   "execution_count": 58,
   "metadata": {
    "ExecuteTime": {
     "end_time": "2022-03-25T11:42:01.942647Z",
     "start_time": "2022-03-25T11:42:01.645723Z"
    }
   },
   "outputs": [
    {
     "data": {
      "image/png": "[encoded data removed]",
      "text/plain": [
       "<Figure size 432x288 with 1 Axes>"
      ]
     },
     "metadata": {},
     "output_type": "display_data"
    }
   ],
   "source": [
    "# Visualization la répartition des produits par catégories\n",
    "plt.pie(df.groupby(\"categ\").id_prod.count(),labels=[\"Catégorie 0\", \"Catégorie 1\", \"Catégorie 2\"],colors = [\"green\",\"blue\",\"orange\"], autopct='%1.1f%%')\n",
    "plt.title(\"Répartition des produits par catégorie\", fontsize = 14, fontweight=\"bold\")\n",
    "plt.show()\n",
    "\n",
    "#Sauvegarde en PNG\n",
    "fig.savefig(\"Repartitions_des_produits_par_categorie.png\")\n",
    "plt.close(fig)"
   ]
  },
  {
   "cell_type": "markdown",
   "metadata": {},
   "source": [
    "#### 3.7.1. Top et flop par réference de produit"
   ]
  },
  {
   "cell_type": "code",
   "execution_count": 59,
   "metadata": {
    "ExecuteTime": {
     "end_time": "2022-03-25T11:42:01.960491Z",
     "start_time": "2022-03-25T11:42:01.945461Z"
    },
    "scrolled": true
   },
   "outputs": [
    {
     "data": {
      "text/plain": [
       "Index(['id_prod', 'date', 'session_id', 'client_id', 'sex', 'birth', 'price',\n",
       "       'categ', 'year', 'month', 'day', 'age', 'age_ranges'],\n",
       "      dtype='object')"
      ]
     },
     "execution_count": 59,
     "metadata": {},
     "output_type": "execute_result"
    }
   ],
   "source": [
    "df.columns"
   ]
  },
  {
   "cell_type": "code",
   "execution_count": 60,
   "metadata": {
    "ExecuteTime": {
     "end_time": "2022-03-25T11:42:02.131457Z",
     "start_time": "2022-03-25T11:42:01.966572Z"
    }
   },
   "outputs": [
    {
     "data": {
      "text/html": [
       "<div>\n",
       "<style scoped>\n",
       "    .dataframe tbody tr th:only-of-type {\n",
       "        vertical-align: middle;\n",
       "    }\n",
       "\n",
       "    .dataframe tbody tr th {\n",
       "        vertical-align: top;\n",
       "    }\n",
       "\n",
       "    .dataframe thead th {\n",
       "        text-align: right;\n",
       "    }\n",
       "</style>\n",
       "<table border=\"1\" class=\"dataframe\">\n",
       "  <thead>\n",
       "    <tr style=\"text-align: right;\">\n",
       "      <th></th>\n",
       "      <th>id_prod</th>\n",
       "      <th>sum</th>\n",
       "      <th>count</th>\n",
       "    </tr>\n",
       "  </thead>\n",
       "  <tbody>\n",
       "    <tr>\n",
       "      <td>3097</td>\n",
       "      <td>2_159</td>\n",
       "      <td>94893.50</td>\n",
       "      <td>650</td>\n",
       "    </tr>\n",
       "    <tr>\n",
       "      <td>3071</td>\n",
       "      <td>2_135</td>\n",
       "      <td>69334.95</td>\n",
       "      <td>1005</td>\n",
       "    </tr>\n",
       "    <tr>\n",
       "      <td>3046</td>\n",
       "      <td>2_112</td>\n",
       "      <td>65407.76</td>\n",
       "      <td>968</td>\n",
       "    </tr>\n",
       "    <tr>\n",
       "      <td>3035</td>\n",
       "      <td>2_102</td>\n",
       "      <td>60736.78</td>\n",
       "      <td>1027</td>\n",
       "    </tr>\n",
       "    <tr>\n",
       "      <td>3153</td>\n",
       "      <td>2_209</td>\n",
       "      <td>56971.86</td>\n",
       "      <td>814</td>\n",
       "    </tr>\n",
       "    <tr>\n",
       "      <td>...</td>\n",
       "      <td>...</td>\n",
       "      <td>...</td>\n",
       "      <td>...</td>\n",
       "    </tr>\n",
       "    <tr>\n",
       "      <td>665</td>\n",
       "      <td>0_1601</td>\n",
       "      <td>1.99</td>\n",
       "      <td>1</td>\n",
       "    </tr>\n",
       "    <tr>\n",
       "      <td>2080</td>\n",
       "      <td>0_807</td>\n",
       "      <td>1.99</td>\n",
       "      <td>1</td>\n",
       "    </tr>\n",
       "    <tr>\n",
       "      <td>719</td>\n",
       "      <td>0_1653</td>\n",
       "      <td>1.98</td>\n",
       "      <td>2</td>\n",
       "    </tr>\n",
       "    <tr>\n",
       "      <td>313</td>\n",
       "      <td>0_1284</td>\n",
       "      <td>1.38</td>\n",
       "      <td>1</td>\n",
       "    </tr>\n",
       "    <tr>\n",
       "      <td>595</td>\n",
       "      <td>0_1539</td>\n",
       "      <td>0.99</td>\n",
       "      <td>1</td>\n",
       "    </tr>\n",
       "  </tbody>\n",
       "</table>\n",
       "<p>3266 rows × 3 columns</p>\n",
       "</div>"
      ],
      "text/plain": [
       "     id_prod       sum  count\n",
       "3097   2_159  94893.50    650\n",
       "3071   2_135  69334.95   1005\n",
       "3046   2_112  65407.76    968\n",
       "3035   2_102  60736.78   1027\n",
       "3153   2_209  56971.86    814\n",
       "...      ...       ...    ...\n",
       "665   0_1601      1.99      1\n",
       "2080   0_807      1.99      1\n",
       "719   0_1653      1.98      2\n",
       "313   0_1284      1.38      1\n",
       "595   0_1539      0.99      1\n",
       "\n",
       "[3266 rows x 3 columns]"
      ]
     },
     "execution_count": 60,
     "metadata": {},
     "output_type": "execute_result"
    }
   ],
   "source": [
    "# ventes par reference de produit (id_prod)\n",
    "CA_ref = df.groupby('id_prod')['price'].agg(['sum','count'])\n",
    "CA_ref.reset_index(inplace=True)\n",
    "CA_ref.sort_values(by='sum',ascending = False)\n"
   ]
  },
  {
   "cell_type": "code",
   "execution_count": 61,
   "metadata": {
    "ExecuteTime": {
     "end_time": "2022-03-25T11:42:02.162751Z",
     "start_time": "2022-03-25T11:42:02.136357Z"
    }
   },
   "outputs": [
    {
     "data": {
      "text/html": [
       "<div>\n",
       "<style scoped>\n",
       "    .dataframe tbody tr th:only-of-type {\n",
       "        vertical-align: middle;\n",
       "    }\n",
       "\n",
       "    .dataframe tbody tr th {\n",
       "        vertical-align: top;\n",
       "    }\n",
       "\n",
       "    .dataframe thead th {\n",
       "        text-align: right;\n",
       "    }\n",
       "</style>\n",
       "<table border=\"1\" class=\"dataframe\">\n",
       "  <thead>\n",
       "    <tr style=\"text-align: right;\">\n",
       "      <th></th>\n",
       "      <th>id_prod</th>\n",
       "      <th>sum</th>\n",
       "      <th>count</th>\n",
       "    </tr>\n",
       "  </thead>\n",
       "  <tbody>\n",
       "    <tr>\n",
       "      <td>3</td>\n",
       "      <td>0_100</td>\n",
       "      <td>61.80</td>\n",
       "      <td>3</td>\n",
       "    </tr>\n",
       "    <tr>\n",
       "      <td>17</td>\n",
       "      <td>0_1012</td>\n",
       "      <td>97.20</td>\n",
       "      <td>3</td>\n",
       "    </tr>\n",
       "    <tr>\n",
       "      <td>41</td>\n",
       "      <td>0_1037</td>\n",
       "      <td>62.97</td>\n",
       "      <td>3</td>\n",
       "    </tr>\n",
       "    <tr>\n",
       "      <td>62</td>\n",
       "      <td>0_1056</td>\n",
       "      <td>9.84</td>\n",
       "      <td>4</td>\n",
       "    </tr>\n",
       "    <tr>\n",
       "      <td>78</td>\n",
       "      <td>0_1071</td>\n",
       "      <td>91.96</td>\n",
       "      <td>4</td>\n",
       "    </tr>\n",
       "    <tr>\n",
       "      <td>...</td>\n",
       "      <td>...</td>\n",
       "      <td>...</td>\n",
       "      <td>...</td>\n",
       "    </tr>\n",
       "    <tr>\n",
       "      <td>3248</td>\n",
       "      <td>2_81</td>\n",
       "      <td>86.99</td>\n",
       "      <td>1</td>\n",
       "    </tr>\n",
       "    <tr>\n",
       "      <td>3254</td>\n",
       "      <td>2_89</td>\n",
       "      <td>431.96</td>\n",
       "      <td>4</td>\n",
       "    </tr>\n",
       "    <tr>\n",
       "      <td>3259</td>\n",
       "      <td>2_93</td>\n",
       "      <td>157.98</td>\n",
       "      <td>2</td>\n",
       "    </tr>\n",
       "    <tr>\n",
       "      <td>3261</td>\n",
       "      <td>2_95</td>\n",
       "      <td>395.96</td>\n",
       "      <td>4</td>\n",
       "    </tr>\n",
       "    <tr>\n",
       "      <td>3264</td>\n",
       "      <td>2_98</td>\n",
       "      <td>149.74</td>\n",
       "      <td>1</td>\n",
       "    </tr>\n",
       "  </tbody>\n",
       "</table>\n",
       "<p>158 rows × 3 columns</p>\n",
       "</div>"
      ],
      "text/plain": [
       "     id_prod     sum  count\n",
       "3      0_100   61.80      3\n",
       "17    0_1012   97.20      3\n",
       "41    0_1037   62.97      3\n",
       "62    0_1056    9.84      4\n",
       "78    0_1071   91.96      4\n",
       "...      ...     ...    ...\n",
       "3248    2_81   86.99      1\n",
       "3254    2_89  431.96      4\n",
       "3259    2_93  157.98      2\n",
       "3261    2_95  395.96      4\n",
       "3264    2_98  149.74      1\n",
       "\n",
       "[158 rows x 3 columns]"
      ]
     },
     "execution_count": 61,
     "metadata": {},
     "output_type": "execute_result"
    }
   ],
   "source": [
    "#recherche des ref qui se sont vendues a moins de 5 exemplaires sur la periode.il y a 158 references qui se sont vendues a 4 exemplaires ou moins. \n",
    "CA_ref.loc[CA_ref['count']<5]"
   ]
  },
  {
   "cell_type": "code",
   "execution_count": 62,
   "metadata": {
    "ExecuteTime": {
     "end_time": "2022-03-25T11:42:02.196111Z",
     "start_time": "2022-03-25T11:42:02.169042Z"
    }
   },
   "outputs": [
    {
     "data": {
      "text/html": [
       "<div>\n",
       "<style scoped>\n",
       "    .dataframe tbody tr th:only-of-type {\n",
       "        vertical-align: middle;\n",
       "    }\n",
       "\n",
       "    .dataframe tbody tr th {\n",
       "        vertical-align: top;\n",
       "    }\n",
       "\n",
       "    .dataframe thead th {\n",
       "        text-align: right;\n",
       "    }\n",
       "</style>\n",
       "<table border=\"1\" class=\"dataframe\">\n",
       "  <thead>\n",
       "    <tr style=\"text-align: right;\">\n",
       "      <th></th>\n",
       "      <th>id_prod</th>\n",
       "      <th>sum</th>\n",
       "      <th>count</th>\n",
       "    </tr>\n",
       "  </thead>\n",
       "  <tbody>\n",
       "    <tr>\n",
       "      <td>595</td>\n",
       "      <td>0_1539</td>\n",
       "      <td>0.99</td>\n",
       "      <td>1</td>\n",
       "    </tr>\n",
       "    <tr>\n",
       "      <td>313</td>\n",
       "      <td>0_1284</td>\n",
       "      <td>1.38</td>\n",
       "      <td>1</td>\n",
       "    </tr>\n",
       "    <tr>\n",
       "      <td>719</td>\n",
       "      <td>0_1653</td>\n",
       "      <td>1.98</td>\n",
       "      <td>2</td>\n",
       "    </tr>\n",
       "    <tr>\n",
       "      <td>1785</td>\n",
       "      <td>0_541</td>\n",
       "      <td>1.99</td>\n",
       "      <td>1</td>\n",
       "    </tr>\n",
       "    <tr>\n",
       "      <td>2080</td>\n",
       "      <td>0_807</td>\n",
       "      <td>1.99</td>\n",
       "      <td>1</td>\n",
       "    </tr>\n",
       "    <tr>\n",
       "      <td>665</td>\n",
       "      <td>0_1601</td>\n",
       "      <td>1.99</td>\n",
       "      <td>1</td>\n",
       "    </tr>\n",
       "    <tr>\n",
       "      <td>802</td>\n",
       "      <td>0_1728</td>\n",
       "      <td>2.27</td>\n",
       "      <td>1</td>\n",
       "    </tr>\n",
       "    <tr>\n",
       "      <td>549</td>\n",
       "      <td>0_1498</td>\n",
       "      <td>2.48</td>\n",
       "      <td>1</td>\n",
       "    </tr>\n",
       "    <tr>\n",
       "      <td>2180</td>\n",
       "      <td>0_898</td>\n",
       "      <td>2.54</td>\n",
       "      <td>2</td>\n",
       "    </tr>\n",
       "    <tr>\n",
       "      <td>925</td>\n",
       "      <td>0_1840</td>\n",
       "      <td>2.56</td>\n",
       "      <td>2</td>\n",
       "    </tr>\n",
       "    <tr>\n",
       "      <td>1898</td>\n",
       "      <td>0_643</td>\n",
       "      <td>2.97</td>\n",
       "      <td>3</td>\n",
       "    </tr>\n",
       "    <tr>\n",
       "      <td>836</td>\n",
       "      <td>0_1759</td>\n",
       "      <td>2.97</td>\n",
       "      <td>3</td>\n",
       "    </tr>\n",
       "    <tr>\n",
       "      <td>210</td>\n",
       "      <td>0_1191</td>\n",
       "      <td>2.97</td>\n",
       "      <td>3</td>\n",
       "    </tr>\n",
       "    <tr>\n",
       "      <td>417</td>\n",
       "      <td>0_1379</td>\n",
       "      <td>2.99</td>\n",
       "      <td>1</td>\n",
       "    </tr>\n",
       "    <tr>\n",
       "      <td>752</td>\n",
       "      <td>0_1683</td>\n",
       "      <td>2.99</td>\n",
       "      <td>1</td>\n",
       "    </tr>\n",
       "    <tr>\n",
       "      <td>2109</td>\n",
       "      <td>0_833</td>\n",
       "      <td>2.99</td>\n",
       "      <td>1</td>\n",
       "    </tr>\n",
       "    <tr>\n",
       "      <td>1793</td>\n",
       "      <td>0_549</td>\n",
       "      <td>2.99</td>\n",
       "      <td>1</td>\n",
       "    </tr>\n",
       "    <tr>\n",
       "      <td>166</td>\n",
       "      <td>0_1151</td>\n",
       "      <td>2.99</td>\n",
       "      <td>1</td>\n",
       "    </tr>\n",
       "    <tr>\n",
       "      <td>1545</td>\n",
       "      <td>0_324</td>\n",
       "      <td>3.54</td>\n",
       "      <td>3</td>\n",
       "    </tr>\n",
       "    <tr>\n",
       "      <td>2186</td>\n",
       "      <td>0_902</td>\n",
       "      <td>3.68</td>\n",
       "      <td>4</td>\n",
       "    </tr>\n",
       "  </tbody>\n",
       "</table>\n",
       "</div>"
      ],
      "text/plain": [
       "     id_prod   sum  count\n",
       "595   0_1539  0.99      1\n",
       "313   0_1284  1.38      1\n",
       "719   0_1653  1.98      2\n",
       "1785   0_541  1.99      1\n",
       "2080   0_807  1.99      1\n",
       "665   0_1601  1.99      1\n",
       "802   0_1728  2.27      1\n",
       "549   0_1498  2.48      1\n",
       "2180   0_898  2.54      2\n",
       "925   0_1840  2.56      2\n",
       "1898   0_643  2.97      3\n",
       "836   0_1759  2.97      3\n",
       "210   0_1191  2.97      3\n",
       "417   0_1379  2.99      1\n",
       "752   0_1683  2.99      1\n",
       "2109   0_833  2.99      1\n",
       "1793   0_549  2.99      1\n",
       "166   0_1151  2.99      1\n",
       "1545   0_324  3.54      3\n",
       "2186   0_902  3.68      4"
      ]
     },
     "execution_count": 62,
     "metadata": {},
     "output_type": "execute_result"
    }
   ],
   "source": [
    "# afficher les 20 ref ayant realise le CA le moins eleve\n",
    "CA_ref.sort_values(by='sum').head(20)"
   ]
  },
  {
   "cell_type": "code",
   "execution_count": 63,
   "metadata": {
    "ExecuteTime": {
     "end_time": "2022-03-25T11:42:02.235349Z",
     "start_time": "2022-03-25T11:42:02.209586Z"
    }
   },
   "outputs": [
    {
     "data": {
      "text/html": [
       "<div>\n",
       "<style scoped>\n",
       "    .dataframe tbody tr th:only-of-type {\n",
       "        vertical-align: middle;\n",
       "    }\n",
       "\n",
       "    .dataframe tbody tr th {\n",
       "        vertical-align: top;\n",
       "    }\n",
       "\n",
       "    .dataframe thead th {\n",
       "        text-align: right;\n",
       "    }\n",
       "</style>\n",
       "<table border=\"1\" class=\"dataframe\">\n",
       "  <thead>\n",
       "    <tr style=\"text-align: right;\">\n",
       "      <th></th>\n",
       "      <th>id_prod</th>\n",
       "      <th>sum</th>\n",
       "      <th>count</th>\n",
       "    </tr>\n",
       "  </thead>\n",
       "  <tbody>\n",
       "    <tr>\n",
       "      <td>2592</td>\n",
       "      <td>1_369</td>\n",
       "      <td>54025.48</td>\n",
       "      <td>2252</td>\n",
       "    </tr>\n",
       "    <tr>\n",
       "      <td>2645</td>\n",
       "      <td>1_417</td>\n",
       "      <td>45947.11</td>\n",
       "      <td>2189</td>\n",
       "    </tr>\n",
       "    <tr>\n",
       "      <td>2642</td>\n",
       "      <td>1_414</td>\n",
       "      <td>51949.40</td>\n",
       "      <td>2180</td>\n",
       "    </tr>\n",
       "    <tr>\n",
       "      <td>2734</td>\n",
       "      <td>1_498</td>\n",
       "      <td>49731.36</td>\n",
       "      <td>2128</td>\n",
       "    </tr>\n",
       "    <tr>\n",
       "      <td>2654</td>\n",
       "      <td>1_425</td>\n",
       "      <td>35611.04</td>\n",
       "      <td>2096</td>\n",
       "    </tr>\n",
       "    <tr>\n",
       "      <td>2630</td>\n",
       "      <td>1_403</td>\n",
       "      <td>35260.40</td>\n",
       "      <td>1960</td>\n",
       "    </tr>\n",
       "    <tr>\n",
       "      <td>2640</td>\n",
       "      <td>1_412</td>\n",
       "      <td>32484.15</td>\n",
       "      <td>1951</td>\n",
       "    </tr>\n",
       "    <tr>\n",
       "      <td>2641</td>\n",
       "      <td>1_413</td>\n",
       "      <td>34990.55</td>\n",
       "      <td>1945</td>\n",
       "    </tr>\n",
       "    <tr>\n",
       "      <td>2633</td>\n",
       "      <td>1_406</td>\n",
       "      <td>48106.59</td>\n",
       "      <td>1939</td>\n",
       "    </tr>\n",
       "    <tr>\n",
       "      <td>2634</td>\n",
       "      <td>1_407</td>\n",
       "      <td>30940.65</td>\n",
       "      <td>1935</td>\n",
       "    </tr>\n",
       "    <tr>\n",
       "      <td>2621</td>\n",
       "      <td>1_396</td>\n",
       "      <td>35730.60</td>\n",
       "      <td>1921</td>\n",
       "    </tr>\n",
       "    <tr>\n",
       "      <td>2623</td>\n",
       "      <td>1_398</td>\n",
       "      <td>19495.89</td>\n",
       "      <td>1917</td>\n",
       "    </tr>\n",
       "    <tr>\n",
       "      <td>2620</td>\n",
       "      <td>1_395</td>\n",
       "      <td>54356.25</td>\n",
       "      <td>1875</td>\n",
       "    </tr>\n",
       "    <tr>\n",
       "      <td>2627</td>\n",
       "      <td>1_400</td>\n",
       "      <td>30527.40</td>\n",
       "      <td>1839</td>\n",
       "    </tr>\n",
       "    <tr>\n",
       "      <td>2618</td>\n",
       "      <td>1_392</td>\n",
       "      <td>33050.75</td>\n",
       "      <td>1825</td>\n",
       "    </tr>\n",
       "    <tr>\n",
       "      <td>2600</td>\n",
       "      <td>1_376</td>\n",
       "      <td>31639.41</td>\n",
       "      <td>1809</td>\n",
       "    </tr>\n",
       "    <tr>\n",
       "      <td>2622</td>\n",
       "      <td>1_397</td>\n",
       "      <td>34163.01</td>\n",
       "      <td>1799</td>\n",
       "    </tr>\n",
       "    <tr>\n",
       "      <td>2610</td>\n",
       "      <td>1_385</td>\n",
       "      <td>46730.02</td>\n",
       "      <td>1798</td>\n",
       "    </tr>\n",
       "    <tr>\n",
       "      <td>2613</td>\n",
       "      <td>1_388</td>\n",
       "      <td>29926.40</td>\n",
       "      <td>1792</td>\n",
       "    </tr>\n",
       "    <tr>\n",
       "      <td>2606</td>\n",
       "      <td>1_381</td>\n",
       "      <td>28478.19</td>\n",
       "      <td>1781</td>\n",
       "    </tr>\n",
       "  </tbody>\n",
       "</table>\n",
       "</div>"
      ],
      "text/plain": [
       "     id_prod       sum  count\n",
       "2592   1_369  54025.48   2252\n",
       "2645   1_417  45947.11   2189\n",
       "2642   1_414  51949.40   2180\n",
       "2734   1_498  49731.36   2128\n",
       "2654   1_425  35611.04   2096\n",
       "2630   1_403  35260.40   1960\n",
       "2640   1_412  32484.15   1951\n",
       "2641   1_413  34990.55   1945\n",
       "2633   1_406  48106.59   1939\n",
       "2634   1_407  30940.65   1935\n",
       "2621   1_396  35730.60   1921\n",
       "2623   1_398  19495.89   1917\n",
       "2620   1_395  54356.25   1875\n",
       "2627   1_400  30527.40   1839\n",
       "2618   1_392  33050.75   1825\n",
       "2600   1_376  31639.41   1809\n",
       "2622   1_397  34163.01   1799\n",
       "2610   1_385  46730.02   1798\n",
       "2613   1_388  29926.40   1792\n",
       "2606   1_381  28478.19   1781"
      ]
     },
     "execution_count": 63,
     "metadata": {},
     "output_type": "execute_result"
    }
   ],
   "source": [
    "# afficher les 20 references qui se sont le mieux vendues, par nombre de ventes. \n",
    "CA_ref.sort_values(by='count', ascending = False).head(20)"
   ]
  },
  {
   "cell_type": "code",
   "execution_count": 64,
   "metadata": {
    "ExecuteTime": {
     "end_time": "2022-03-25T11:42:02.445689Z",
     "start_time": "2022-03-25T11:42:02.244525Z"
    }
   },
   "outputs": [
    {
     "data": {
      "text/html": [
       "<div>\n",
       "<style scoped>\n",
       "    .dataframe tbody tr th:only-of-type {\n",
       "        vertical-align: middle;\n",
       "    }\n",
       "\n",
       "    .dataframe tbody tr th {\n",
       "        vertical-align: top;\n",
       "    }\n",
       "\n",
       "    .dataframe thead th {\n",
       "        text-align: right;\n",
       "    }\n",
       "</style>\n",
       "<table border=\"1\" class=\"dataframe\">\n",
       "  <thead>\n",
       "    <tr style=\"text-align: right;\">\n",
       "      <th></th>\n",
       "      <th>id_prod</th>\n",
       "      <th>sum</th>\n",
       "      <th>count</th>\n",
       "    </tr>\n",
       "  </thead>\n",
       "  <tbody>\n",
       "    <tr>\n",
       "      <td>1793</td>\n",
       "      <td>0_549</td>\n",
       "      <td>2.99</td>\n",
       "      <td>1</td>\n",
       "    </tr>\n",
       "    <tr>\n",
       "      <td>1327</td>\n",
       "      <td>0_2201</td>\n",
       "      <td>20.99</td>\n",
       "      <td>1</td>\n",
       "    </tr>\n",
       "    <tr>\n",
       "      <td>3176</td>\n",
       "      <td>2_23</td>\n",
       "      <td>115.99</td>\n",
       "      <td>1</td>\n",
       "    </tr>\n",
       "    <tr>\n",
       "      <td>313</td>\n",
       "      <td>0_1284</td>\n",
       "      <td>1.38</td>\n",
       "      <td>1</td>\n",
       "    </tr>\n",
       "    <tr>\n",
       "      <td>752</td>\n",
       "      <td>0_1683</td>\n",
       "      <td>2.99</td>\n",
       "      <td>1</td>\n",
       "    </tr>\n",
       "    <tr>\n",
       "      <td>2109</td>\n",
       "      <td>0_833</td>\n",
       "      <td>2.99</td>\n",
       "      <td>1</td>\n",
       "    </tr>\n",
       "    <tr>\n",
       "      <td>3264</td>\n",
       "      <td>2_98</td>\n",
       "      <td>149.74</td>\n",
       "      <td>1</td>\n",
       "    </tr>\n",
       "    <tr>\n",
       "      <td>698</td>\n",
       "      <td>0_1633</td>\n",
       "      <td>24.99</td>\n",
       "      <td>1</td>\n",
       "    </tr>\n",
       "    <tr>\n",
       "      <td>665</td>\n",
       "      <td>0_1601</td>\n",
       "      <td>1.99</td>\n",
       "      <td>1</td>\n",
       "    </tr>\n",
       "    <tr>\n",
       "      <td>3248</td>\n",
       "      <td>2_81</td>\n",
       "      <td>86.99</td>\n",
       "      <td>1</td>\n",
       "    </tr>\n",
       "    <tr>\n",
       "      <td>2080</td>\n",
       "      <td>0_807</td>\n",
       "      <td>1.99</td>\n",
       "      <td>1</td>\n",
       "    </tr>\n",
       "    <tr>\n",
       "      <td>1785</td>\n",
       "      <td>0_541</td>\n",
       "      <td>1.99</td>\n",
       "      <td>1</td>\n",
       "    </tr>\n",
       "    <tr>\n",
       "      <td>166</td>\n",
       "      <td>0_1151</td>\n",
       "      <td>2.99</td>\n",
       "      <td>1</td>\n",
       "    </tr>\n",
       "    <tr>\n",
       "      <td>2167</td>\n",
       "      <td>0_886</td>\n",
       "      <td>21.82</td>\n",
       "      <td>1</td>\n",
       "    </tr>\n",
       "    <tr>\n",
       "      <td>595</td>\n",
       "      <td>0_1539</td>\n",
       "      <td>0.99</td>\n",
       "      <td>1</td>\n",
       "    </tr>\n",
       "    <tr>\n",
       "      <td>417</td>\n",
       "      <td>0_1379</td>\n",
       "      <td>2.99</td>\n",
       "      <td>1</td>\n",
       "    </tr>\n",
       "    <tr>\n",
       "      <td>802</td>\n",
       "      <td>0_1728</td>\n",
       "      <td>2.27</td>\n",
       "      <td>1</td>\n",
       "    </tr>\n",
       "    <tr>\n",
       "      <td>549</td>\n",
       "      <td>0_1498</td>\n",
       "      <td>2.48</td>\n",
       "      <td>1</td>\n",
       "    </tr>\n",
       "    <tr>\n",
       "      <td>2160</td>\n",
       "      <td>0_88</td>\n",
       "      <td>16.60</td>\n",
       "      <td>2</td>\n",
       "    </tr>\n",
       "    <tr>\n",
       "      <td>884</td>\n",
       "      <td>0_1803</td>\n",
       "      <td>5.98</td>\n",
       "      <td>2</td>\n",
       "    </tr>\n",
       "  </tbody>\n",
       "</table>\n",
       "</div>"
      ],
      "text/plain": [
       "     id_prod     sum  count\n",
       "1793   0_549    2.99      1\n",
       "1327  0_2201   20.99      1\n",
       "3176    2_23  115.99      1\n",
       "313   0_1284    1.38      1\n",
       "752   0_1683    2.99      1\n",
       "2109   0_833    2.99      1\n",
       "3264    2_98  149.74      1\n",
       "698   0_1633   24.99      1\n",
       "665   0_1601    1.99      1\n",
       "3248    2_81   86.99      1\n",
       "2080   0_807    1.99      1\n",
       "1785   0_541    1.99      1\n",
       "166   0_1151    2.99      1\n",
       "2167   0_886   21.82      1\n",
       "595   0_1539    0.99      1\n",
       "417   0_1379    2.99      1\n",
       "802   0_1728    2.27      1\n",
       "549   0_1498    2.48      1\n",
       "2160    0_88   16.60      2\n",
       "884   0_1803    5.98      2"
      ]
     },
     "execution_count": 64,
     "metadata": {},
     "output_type": "execute_result"
    }
   ],
   "source": [
    "CA_ref.sort_values(by='count', ascending = True).head(20)"
   ]
  },
  {
   "cell_type": "markdown",
   "metadata": {},
   "source": [
    "#### 3.7.2. Panier moyen"
   ]
  },
  {
   "cell_type": "code",
   "execution_count": 65,
   "metadata": {
    "ExecuteTime": {
     "end_time": "2022-03-25T11:42:03.802882Z",
     "start_time": "2022-03-25T11:42:02.452827Z"
    }
   },
   "outputs": [
    {
     "name": "stdout",
     "output_type": "stream",
     "text": [
      "34.635000277587196\n"
     ]
    }
   ],
   "source": [
    "# Calculate le panier moyen\n",
    "panier_moyen = df.groupby([\"session_id\"])[\"price\"].sum().mean()\n",
    "print(panier_moyen)"
   ]
  },
  {
   "cell_type": "code",
   "execution_count": 66,
   "metadata": {
    "ExecuteTime": {
     "end_time": "2022-03-25T11:42:06.193561Z",
     "start_time": "2022-03-25T11:42:03.807600Z"
    }
   },
   "outputs": [],
   "source": [
    "# Création du dataframe par session (commande) pour calculer le panier moyen\n",
    "df_sessions = df.groupby([\"session_id\", \"client_id\", \"sex\", \"birth\", \"age\",\"age_ranges\",\"month\",\"year\"]).sum().reset_index()\n",
    "df_sessions = df_sessions[[\"session_id\",\"client_id\",\"sex\",\"birth\",\"age\",\"age_ranges\",\"month\",\"year\",\"price\"]].sort_values([\"year\", \"month\"])"
   ]
  },
  {
   "cell_type": "code",
   "execution_count": 67,
   "metadata": {
    "ExecuteTime": {
     "end_time": "2022-03-25T11:42:06.231734Z",
     "start_time": "2022-03-25T11:42:06.196720Z"
    }
   },
   "outputs": [
    {
     "data": {
      "text/html": [
       "<div>\n",
       "<style scoped>\n",
       "    .dataframe tbody tr th:only-of-type {\n",
       "        vertical-align: middle;\n",
       "    }\n",
       "\n",
       "    .dataframe tbody tr th {\n",
       "        vertical-align: top;\n",
       "    }\n",
       "\n",
       "    .dataframe thead th {\n",
       "        text-align: right;\n",
       "    }\n",
       "</style>\n",
       "<table border=\"1\" class=\"dataframe\">\n",
       "  <thead>\n",
       "    <tr style=\"text-align: right;\">\n",
       "      <th></th>\n",
       "      <th>session_id</th>\n",
       "      <th>client_id</th>\n",
       "      <th>sex</th>\n",
       "      <th>birth</th>\n",
       "      <th>age</th>\n",
       "      <th>age_ranges</th>\n",
       "      <th>month</th>\n",
       "      <th>year</th>\n",
       "      <th>price</th>\n",
       "    </tr>\n",
       "  </thead>\n",
       "  <tbody>\n",
       "    <tr>\n",
       "      <td>0</td>\n",
       "      <td>s_1</td>\n",
       "      <td>c_329</td>\n",
       "      <td>f</td>\n",
       "      <td>1967</td>\n",
       "      <td>56</td>\n",
       "      <td>52-61</td>\n",
       "      <td>3</td>\n",
       "      <td>2021</td>\n",
       "      <td>11.99</td>\n",
       "    </tr>\n",
       "    <tr>\n",
       "      <td>1</td>\n",
       "      <td>s_10</td>\n",
       "      <td>c_2218</td>\n",
       "      <td>f</td>\n",
       "      <td>1970</td>\n",
       "      <td>53</td>\n",
       "      <td>52-61</td>\n",
       "      <td>3</td>\n",
       "      <td>2021</td>\n",
       "      <td>26.99</td>\n",
       "    </tr>\n",
       "    <tr>\n",
       "      <td>2</td>\n",
       "      <td>s_100</td>\n",
       "      <td>c_3854</td>\n",
       "      <td>f</td>\n",
       "      <td>1978</td>\n",
       "      <td>45</td>\n",
       "      <td>41-51</td>\n",
       "      <td>3</td>\n",
       "      <td>2021</td>\n",
       "      <td>33.72</td>\n",
       "    </tr>\n",
       "    <tr>\n",
       "      <td>3</td>\n",
       "      <td>s_1000</td>\n",
       "      <td>c_1014</td>\n",
       "      <td>m</td>\n",
       "      <td>1989</td>\n",
       "      <td>34</td>\n",
       "      <td>30-40</td>\n",
       "      <td>3</td>\n",
       "      <td>2021</td>\n",
       "      <td>39.22</td>\n",
       "    </tr>\n",
       "    <tr>\n",
       "      <td>4</td>\n",
       "      <td>s_10000</td>\n",
       "      <td>c_476</td>\n",
       "      <td>f</td>\n",
       "      <td>1989</td>\n",
       "      <td>34</td>\n",
       "      <td>30-40</td>\n",
       "      <td>3</td>\n",
       "      <td>2021</td>\n",
       "      <td>41.49</td>\n",
       "    </tr>\n",
       "    <tr>\n",
       "      <td>...</td>\n",
       "      <td>...</td>\n",
       "      <td>...</td>\n",
       "      <td>...</td>\n",
       "      <td>...</td>\n",
       "      <td>...</td>\n",
       "      <td>...</td>\n",
       "      <td>...</td>\n",
       "      <td>...</td>\n",
       "      <td>...</td>\n",
       "    </tr>\n",
       "    <tr>\n",
       "      <td>270283</td>\n",
       "      <td>s_348443</td>\n",
       "      <td>c_4999</td>\n",
       "      <td>f</td>\n",
       "      <td>1972</td>\n",
       "      <td>51</td>\n",
       "      <td>41-51</td>\n",
       "      <td>2</td>\n",
       "      <td>2023</td>\n",
       "      <td>28.54</td>\n",
       "    </tr>\n",
       "    <tr>\n",
       "      <td>270284</td>\n",
       "      <td>s_348444</td>\n",
       "      <td>c_3573</td>\n",
       "      <td>f</td>\n",
       "      <td>1996</td>\n",
       "      <td>27</td>\n",
       "      <td>19-29</td>\n",
       "      <td>2</td>\n",
       "      <td>2023</td>\n",
       "      <td>21.92</td>\n",
       "    </tr>\n",
       "    <tr>\n",
       "      <td>270285</td>\n",
       "      <td>s_348445</td>\n",
       "      <td>c_50</td>\n",
       "      <td>f</td>\n",
       "      <td>1994</td>\n",
       "      <td>29</td>\n",
       "      <td>19-29</td>\n",
       "      <td>2</td>\n",
       "      <td>2023</td>\n",
       "      <td>48.99</td>\n",
       "    </tr>\n",
       "    <tr>\n",
       "      <td>270286</td>\n",
       "      <td>s_348446</td>\n",
       "      <td>c_488</td>\n",
       "      <td>f</td>\n",
       "      <td>1985</td>\n",
       "      <td>38</td>\n",
       "      <td>30-40</td>\n",
       "      <td>2</td>\n",
       "      <td>2023</td>\n",
       "      <td>26.99</td>\n",
       "    </tr>\n",
       "    <tr>\n",
       "      <td>270287</td>\n",
       "      <td>s_348447</td>\n",
       "      <td>c_4848</td>\n",
       "      <td>m</td>\n",
       "      <td>1953</td>\n",
       "      <td>70</td>\n",
       "      <td>62-73</td>\n",
       "      <td>2</td>\n",
       "      <td>2023</td>\n",
       "      <td>8.99</td>\n",
       "    </tr>\n",
       "  </tbody>\n",
       "</table>\n",
       "<p>342366 rows × 9 columns</p>\n",
       "</div>"
      ],
      "text/plain": [
       "       session_id client_id sex  birth  age age_ranges  month  year  price\n",
       "0             s_1     c_329   f   1967   56      52-61      3  2021  11.99\n",
       "1            s_10    c_2218   f   1970   53      52-61      3  2021  26.99\n",
       "2           s_100    c_3854   f   1978   45      41-51      3  2021  33.72\n",
       "3          s_1000    c_1014   m   1989   34      30-40      3  2021  39.22\n",
       "4         s_10000     c_476   f   1989   34      30-40      3  2021  41.49\n",
       "...           ...       ...  ..    ...  ...        ...    ...   ...    ...\n",
       "270283   s_348443    c_4999   f   1972   51      41-51      2  2023  28.54\n",
       "270284   s_348444    c_3573   f   1996   27      19-29      2  2023  21.92\n",
       "270285   s_348445      c_50   f   1994   29      19-29      2  2023  48.99\n",
       "270286   s_348446     c_488   f   1985   38      30-40      2  2023  26.99\n",
       "270287   s_348447    c_4848   m   1953   70      62-73      2  2023   8.99\n",
       "\n",
       "[342366 rows x 9 columns]"
      ]
     },
     "execution_count": 67,
     "metadata": {},
     "output_type": "execute_result"
    }
   ],
   "source": [
    "df_sessions"
   ]
  },
  {
   "cell_type": "code",
   "execution_count": 68,
   "metadata": {
    "ExecuteTime": {
     "end_time": "2022-03-25T11:42:06.666657Z",
     "start_time": "2022-03-25T11:42:06.262342Z"
    }
   },
   "outputs": [
    {
     "data": {
      "image/png": "[encoded data removed]",
      "text/plain": [
       "<Figure size 1008x360 with 1 Axes>"
      ]
     },
     "metadata": {
      "needs_background": "light"
     },
     "output_type": "display_data"
    }
   ],
   "source": [
    "df_sessions_mensuel = df_sessions.groupby(\"month\").mean().reset_index().sort_values([\"year\", \"month\"])\n",
    "\n",
    "fig=plt.figure(figsize=(14,5))\n",
    "ax = plt.axes()\n",
    "# Titres des axes\n",
    "ax = ax.set(xlabel=\"2021 - 2022\", ylabel=\"Panier moyen en €\")\n",
    "\n",
    "plt.plot(df_sessions_mensuel['month'], df_sessions_mensuel['price'], color=\"blue\")\n",
    "plt.text(8.5,42,('Panier moyen = '+ str(round(df_sessions_mensuel['price'].mean(),2)) + ' €'),horizontalalignment='center',\n",
    "     verticalalignment='center', fontsize=12)\n",
    "plt.yticks(np.arange(start=0, stop=70, step=10))\n",
    "plt.suptitle('Un panier moyen', \n",
    "  fontweight='bold', \n",
    "  fontsize=14)\n",
    "plt.title('Progression du panier moyen sur 12 mois.', \n",
    "  loc='center', \n",
    "  fontsize=12)\n",
    "plt.show()\n",
    "\n",
    "#Sauvegarde en PNG\n",
    "fig.savefig(\"graph_panier_moyen_mensuel.png\")\n",
    "plt.close(fig)"
   ]
  },
  {
   "cell_type": "markdown",
   "metadata": {},
   "source": [
    "#### 3.7.3. Top et flop par session_id"
   ]
  },
  {
   "cell_type": "code",
   "execution_count": 69,
   "metadata": {
    "ExecuteTime": {
     "end_time": "2022-03-25T11:42:07.354731Z",
     "start_time": "2022-03-25T11:42:06.670795Z"
    }
   },
   "outputs": [
    {
     "data": {
      "text/plain": [
       "(342315,)"
      ]
     },
     "execution_count": 69,
     "metadata": {},
     "output_type": "execute_result"
    }
   ],
   "source": [
    "# On affiche du nombre de sessions\n",
    "df.session_id.value_counts().shape"
   ]
  },
  {
   "cell_type": "code",
   "execution_count": 70,
   "metadata": {
    "ExecuteTime": {
     "end_time": "2022-03-25T11:42:08.203408Z",
     "start_time": "2022-03-25T11:42:07.359580Z"
    }
   },
   "outputs": [
    {
     "data": {
      "text/plain": [
       "count       679332\n",
       "unique      342315\n",
       "top       s_118668\n",
       "freq            14\n",
       "Name: session_id, dtype: object"
      ]
     },
     "execution_count": 70,
     "metadata": {},
     "output_type": "execute_result"
    }
   ],
   "source": [
    "# On affiche la statistique descriptive\n",
    "df.session_id.describe(include = \"all\")"
   ]
  },
  {
   "cell_type": "code",
   "execution_count": 71,
   "metadata": {
    "ExecuteTime": {
     "end_time": "2022-03-25T11:42:09.878692Z",
     "start_time": "2022-03-25T11:42:08.207739Z"
    }
   },
   "outputs": [
    {
     "data": {
      "text/html": [
       "<div>\n",
       "<style scoped>\n",
       "    .dataframe tbody tr th:only-of-type {\n",
       "        vertical-align: middle;\n",
       "    }\n",
       "\n",
       "    .dataframe tbody tr th {\n",
       "        vertical-align: top;\n",
       "    }\n",
       "\n",
       "    .dataframe thead tr th {\n",
       "        text-align: left;\n",
       "    }\n",
       "\n",
       "    .dataframe thead tr:last-of-type th {\n",
       "        text-align: right;\n",
       "    }\n",
       "</style>\n",
       "<table border=\"1\" class=\"dataframe\">\n",
       "  <thead>\n",
       "    <tr>\n",
       "      <th></th>\n",
       "      <th colspan=\"2\" halign=\"left\">price</th>\n",
       "    </tr>\n",
       "    <tr>\n",
       "      <th></th>\n",
       "      <th>sum</th>\n",
       "      <th>count</th>\n",
       "    </tr>\n",
       "    <tr>\n",
       "      <th>session_id</th>\n",
       "      <th></th>\n",
       "      <th></th>\n",
       "    </tr>\n",
       "  </thead>\n",
       "  <tbody>\n",
       "    <tr>\n",
       "      <td>s_95844</td>\n",
       "      <td>568.88</td>\n",
       "      <td>5</td>\n",
       "    </tr>\n",
       "    <tr>\n",
       "      <td>s_123227</td>\n",
       "      <td>539.23</td>\n",
       "      <td>3</td>\n",
       "    </tr>\n",
       "    <tr>\n",
       "      <td>s_335005</td>\n",
       "      <td>535.17</td>\n",
       "      <td>3</td>\n",
       "    </tr>\n",
       "    <tr>\n",
       "      <td>s_83158</td>\n",
       "      <td>535.17</td>\n",
       "      <td>3</td>\n",
       "    </tr>\n",
       "    <tr>\n",
       "      <td>s_150439</td>\n",
       "      <td>496.22</td>\n",
       "      <td>4</td>\n",
       "    </tr>\n",
       "    <tr>\n",
       "      <td>...</td>\n",
       "      <td>...</td>\n",
       "      <td>...</td>\n",
       "    </tr>\n",
       "    <tr>\n",
       "      <td>s_34456</td>\n",
       "      <td>0.62</td>\n",
       "      <td>1</td>\n",
       "    </tr>\n",
       "    <tr>\n",
       "      <td>s_107417</td>\n",
       "      <td>0.62</td>\n",
       "      <td>1</td>\n",
       "    </tr>\n",
       "    <tr>\n",
       "      <td>s_41352</td>\n",
       "      <td>0.62</td>\n",
       "      <td>1</td>\n",
       "    </tr>\n",
       "    <tr>\n",
       "      <td>s_104606</td>\n",
       "      <td>0.62</td>\n",
       "      <td>1</td>\n",
       "    </tr>\n",
       "    <tr>\n",
       "      <td>s_260416</td>\n",
       "      <td>0.62</td>\n",
       "      <td>1</td>\n",
       "    </tr>\n",
       "  </tbody>\n",
       "</table>\n",
       "<p>342315 rows × 2 columns</p>\n",
       "</div>"
      ],
      "text/plain": [
       "             price      \n",
       "               sum count\n",
       "session_id              \n",
       "s_95844     568.88     5\n",
       "s_123227    539.23     3\n",
       "s_335005    535.17     3\n",
       "s_83158     535.17     3\n",
       "s_150439    496.22     4\n",
       "...            ...   ...\n",
       "s_34456       0.62     1\n",
       "s_107417      0.62     1\n",
       "s_41352       0.62     1\n",
       "s_104606      0.62     1\n",
       "s_260416      0.62     1\n",
       "\n",
       "[342315 rows x 2 columns]"
      ]
     },
     "execution_count": 71,
     "metadata": {},
     "output_type": "execute_result"
    }
   ],
   "source": [
    "# On affiche le nombre d'articles vendus et le CA généré\n",
    "df_session = df.groupby([\"session_id\"]).agg({\"price\":[\"sum\", \"count\"]});\n",
    "# Les colonnes ()\"price\",\"sum\") par ordre décroissant\n",
    "df_session.sort_values((\"price\",\"sum\"), ascending= False)"
   ]
  },
  {
   "cell_type": "code",
   "execution_count": 72,
   "metadata": {
    "ExecuteTime": {
     "end_time": "2022-03-25T11:42:10.092300Z",
     "start_time": "2022-03-25T11:42:09.884268Z"
    }
   },
   "outputs": [
    {
     "data": {
      "text/html": [
       "<div>\n",
       "<style scoped>\n",
       "    .dataframe tbody tr th:only-of-type {\n",
       "        vertical-align: middle;\n",
       "    }\n",
       "\n",
       "    .dataframe tbody tr th {\n",
       "        vertical-align: top;\n",
       "    }\n",
       "\n",
       "    .dataframe thead tr th {\n",
       "        text-align: left;\n",
       "    }\n",
       "\n",
       "    .dataframe thead tr:last-of-type th {\n",
       "        text-align: right;\n",
       "    }\n",
       "</style>\n",
       "<table border=\"1\" class=\"dataframe\">\n",
       "  <thead>\n",
       "    <tr>\n",
       "      <th></th>\n",
       "      <th colspan=\"2\" halign=\"left\">price</th>\n",
       "    </tr>\n",
       "    <tr>\n",
       "      <th></th>\n",
       "      <th>sum</th>\n",
       "      <th>count</th>\n",
       "    </tr>\n",
       "    <tr>\n",
       "      <th>session_id</th>\n",
       "      <th></th>\n",
       "      <th></th>\n",
       "    </tr>\n",
       "  </thead>\n",
       "  <tbody>\n",
       "    <tr>\n",
       "      <td>s_260416</td>\n",
       "      <td>0.62</td>\n",
       "      <td>1</td>\n",
       "    </tr>\n",
       "    <tr>\n",
       "      <td>s_104606</td>\n",
       "      <td>0.62</td>\n",
       "      <td>1</td>\n",
       "    </tr>\n",
       "    <tr>\n",
       "      <td>s_41352</td>\n",
       "      <td>0.62</td>\n",
       "      <td>1</td>\n",
       "    </tr>\n",
       "    <tr>\n",
       "      <td>s_34456</td>\n",
       "      <td>0.62</td>\n",
       "      <td>1</td>\n",
       "    </tr>\n",
       "    <tr>\n",
       "      <td>s_107417</td>\n",
       "      <td>0.62</td>\n",
       "      <td>1</td>\n",
       "    </tr>\n",
       "    <tr>\n",
       "      <td>...</td>\n",
       "      <td>...</td>\n",
       "      <td>...</td>\n",
       "    </tr>\n",
       "    <tr>\n",
       "      <td>s_150439</td>\n",
       "      <td>496.22</td>\n",
       "      <td>4</td>\n",
       "    </tr>\n",
       "    <tr>\n",
       "      <td>s_335005</td>\n",
       "      <td>535.17</td>\n",
       "      <td>3</td>\n",
       "    </tr>\n",
       "    <tr>\n",
       "      <td>s_83158</td>\n",
       "      <td>535.17</td>\n",
       "      <td>3</td>\n",
       "    </tr>\n",
       "    <tr>\n",
       "      <td>s_123227</td>\n",
       "      <td>539.23</td>\n",
       "      <td>3</td>\n",
       "    </tr>\n",
       "    <tr>\n",
       "      <td>s_95844</td>\n",
       "      <td>568.88</td>\n",
       "      <td>5</td>\n",
       "    </tr>\n",
       "  </tbody>\n",
       "</table>\n",
       "<p>342315 rows × 2 columns</p>\n",
       "</div>"
      ],
      "text/plain": [
       "             price      \n",
       "               sum count\n",
       "session_id              \n",
       "s_260416      0.62     1\n",
       "s_104606      0.62     1\n",
       "s_41352       0.62     1\n",
       "s_34456       0.62     1\n",
       "s_107417      0.62     1\n",
       "...            ...   ...\n",
       "s_150439    496.22     4\n",
       "s_335005    535.17     3\n",
       "s_83158     535.17     3\n",
       "s_123227    539.23     3\n",
       "s_95844     568.88     5\n",
       "\n",
       "[342315 rows x 2 columns]"
      ]
     },
     "execution_count": 72,
     "metadata": {},
     "output_type": "execute_result"
    }
   ],
   "source": [
    "df_session.sort_values((\"price\",\"sum\"), ascending= True)"
   ]
  },
  {
   "cell_type": "code",
   "execution_count": 73,
   "metadata": {
    "ExecuteTime": {
     "end_time": "2022-03-25T11:42:10.867353Z",
     "start_time": "2022-03-25T11:42:10.098228Z"
    },
    "scrolled": true
   },
   "outputs": [
    {
     "data": {
      "image/png": "[encoded data removed]",
      "text/plain": [
       "<Figure size 1080x432 with 1 Axes>"
      ]
     },
     "metadata": {
      "needs_background": "light"
     },
     "output_type": "display_data"
    }
   ],
   "source": [
    "# Visualization le nombre de sessions\n",
    "df.groupby([\"year\",\"month\"]).agg({\"session_id\": \"count\"}).plot(kind=\"bar\",figsize=(15,6))\n",
    "plt.xticks(rotation=45)\n",
    "plt.title(\"Nombre de sessions par mois\", fontsize = 14, fontweight = \"bold\")\n",
    "plt.axvline(7,color=\"red\",linestyle=\"--\")\n",
    "plt.show()\n",
    "\n",
    "#Sauvegarde en PNG\n",
    "fig.savefig(\"graph_nombre_de_sessions_par_mois.png\")\n",
    "plt.close(fig)"
   ]
  },
  {
   "cell_type": "code",
   "execution_count": null,
   "metadata": {},
   "outputs": [],
   "source": []
  }
 ],
 "metadata": {
  "kernelspec": {
   "display_name": "Python 3",
   "language": "python",
   "name": "python3"
  },
  "language_info": {
   "codemirror_mode": {
    "name": "ipython",
    "version": 3
   },
   "file_extension": ".py",
   "mimetype": "text/x-python",
   "name": "python",
   "nbconvert_exporter": "python",
   "pygments_lexer": "ipython3",
   "version": "3.7.4"
  },
  "toc": {
   "base_numbering": 1,
   "nav_menu": {},
   "number_sections": false,
   "sideBar": true,
   "skip_h1_title": false,
   "title_cell": "Table of Contents",
   "title_sidebar": "Contents",
   "toc_cell": false,
   "toc_position": {},
   "toc_section_display": true,
   "toc_window_display": false
  }
 },
 "nbformat": 4,
 "nbformat_minor": 2
}
