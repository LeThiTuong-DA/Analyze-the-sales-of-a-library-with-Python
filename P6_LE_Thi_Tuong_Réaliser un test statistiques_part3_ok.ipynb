{
 "cells": [
  {
   "cell_type": "markdown",
   "metadata": {},
   "source": [
    "# <center>Projet 6: Analysez les ventes d'une librairie avec Python<center>"
   ]
  },
  {
   "cell_type": "markdown",
   "metadata": {},
   "source": [
    "<div>\n",
    "<img src=\"logo-lapage.png\" style = \"width: 400px; height: 150px\" title = \"Lapage\"/>\n",
    "</div>"
   ]
  },
  {
   "cell_type": "markdown",
   "metadata": {},
   "source": [
    "### <center>Réalisée par: Thi Tuong Le</center>\n",
    "#### <center>Data Analyst</center>"
   ]
  },
  {
   "cell_type": "markdown",
   "metadata": {
    "ExecuteTime": {
     "end_time": "2022-03-18T09:50:17.045991Z",
     "start_time": "2022-03-18T09:50:16.990752Z"
    }
   },
   "source": [
    "## Sommaire (Part. 3)\n",
    "1. [Librarie](#1.-Libraries)\n",
    "2. [Dataset](#2.-Dataset)\n",
    "3. [Réaliser un test statistique](#3.-Réaliser-un-test-statistique)\n",
    "\n",
    "    3.1. [Etude de la corrélation entre genre et catégorie](#3.1.-Etude-de-la-corrélation-entre-genre-et-catégorie)\n",
    "    \n",
    "    3.2. [Etude de la corrélation entre âge et Chiffre d'affaires](#3.2.-Etude-de-la-corrélation-entre-âge-et-Chiffre-d'affaires)\n",
    "    \n",
    "    3.3. [Etude de la corrélation entre âge et fréquence d'achat](#3.3.-Etude-de-la-corrélation-entre-âge-et-fréquence-d'achat)\n",
    "    \n",
    "    3.4. [Etude de la corrélation entre âge et panier moyen](#3.4.-Etude-de-la-corrélation-entre-âge-et-panier-moyen)\n",
    "    \n",
    "    3.5. [Etude de la corrélation entre âge et catégorie de produit](#3.5.-Etude-de-la-corrélation-entre-âge-et-catégorie-de-produit)"
   ]
  },
  {
   "cell_type": "markdown",
   "metadata": {
    "heading_collapsed": true
   },
   "source": [
    "## 1. Libraries"
   ]
  },
  {
   "cell_type": "code",
   "execution_count": 1,
   "metadata": {
    "ExecuteTime": {
     "end_time": "2022-03-25T11:39:28.225480Z",
     "start_time": "2022-03-25T11:39:24.650776Z"
    },
    "hidden": true
   },
   "outputs": [],
   "source": [
    "import pandas as pd\n",
    "import numpy as np\n",
    "import seaborn as sns\n",
    "import matplotlib.pyplot as plt"
   ]
  },
  {
   "cell_type": "markdown",
   "metadata": {
    "heading_collapsed": true
   },
   "source": [
    "## 2. Dataset"
   ]
  },
  {
   "cell_type": "code",
   "execution_count": 2,
   "metadata": {
    "ExecuteTime": {
     "end_time": "2022-03-25T11:39:28.248727Z",
     "start_time": "2022-03-25T11:39:28.230378Z"
    },
    "hidden": true
   },
   "outputs": [
    {
     "data": {
      "text/plain": [
       "\"/Users/lethituong/Desktop/Data Analyst/P6-Analysez les ventes d'une librairie avec R ou Python/Ventes d'une librairie\""
      ]
     },
     "execution_count": 2,
     "metadata": {},
     "output_type": "execute_result"
    }
   ],
   "source": [
    "# Current working directory\n",
    "import os\n",
    "os.getcwd()"
   ]
  },
  {
   "cell_type": "code",
   "execution_count": 3,
   "metadata": {
    "ExecuteTime": {
     "end_time": "2022-03-25T11:39:30.831110Z",
     "start_time": "2022-03-25T11:39:28.259251Z"
    },
    "hidden": true
   },
   "outputs": [],
   "source": [
    "# Import le dataframe\n",
    "df = pd.read_csv(\"df.csv\")"
   ]
  },
  {
   "cell_type": "code",
   "execution_count": 4,
   "metadata": {
    "ExecuteTime": {
     "end_time": "2022-03-25T11:39:30.872503Z",
     "start_time": "2022-03-25T11:39:30.835135Z"
    },
    "hidden": true
   },
   "outputs": [
    {
     "data": {
      "text/html": [
       "<div>\n",
       "<style scoped>\n",
       "    .dataframe tbody tr th:only-of-type {\n",
       "        vertical-align: middle;\n",
       "    }\n",
       "\n",
       "    .dataframe tbody tr th {\n",
       "        vertical-align: top;\n",
       "    }\n",
       "\n",
       "    .dataframe thead th {\n",
       "        text-align: right;\n",
       "    }\n",
       "</style>\n",
       "<table border=\"1\" class=\"dataframe\">\n",
       "  <thead>\n",
       "    <tr style=\"text-align: right;\">\n",
       "      <th></th>\n",
       "      <th>id_prod</th>\n",
       "      <th>date</th>\n",
       "      <th>session_id</th>\n",
       "      <th>client_id</th>\n",
       "      <th>sex</th>\n",
       "      <th>birth</th>\n",
       "      <th>price</th>\n",
       "      <th>categ</th>\n",
       "      <th>year</th>\n",
       "      <th>month</th>\n",
       "      <th>day</th>\n",
       "      <th>age</th>\n",
       "      <th>age_ranges</th>\n",
       "    </tr>\n",
       "  </thead>\n",
       "  <tbody>\n",
       "    <tr>\n",
       "      <td>0</td>\n",
       "      <td>0_1518</td>\n",
       "      <td>2022-05-20 13:21:29.043970</td>\n",
       "      <td>s_211425</td>\n",
       "      <td>c_103</td>\n",
       "      <td>f</td>\n",
       "      <td>1986</td>\n",
       "      <td>4.18</td>\n",
       "      <td>0</td>\n",
       "      <td>2022</td>\n",
       "      <td>5</td>\n",
       "      <td>20</td>\n",
       "      <td>37</td>\n",
       "      <td>30-40</td>\n",
       "    </tr>\n",
       "    <tr>\n",
       "      <td>1</td>\n",
       "      <td>1_251</td>\n",
       "      <td>2022-02-02 07:55:19.149409</td>\n",
       "      <td>s_158752</td>\n",
       "      <td>c_8534</td>\n",
       "      <td>m</td>\n",
       "      <td>1988</td>\n",
       "      <td>15.99</td>\n",
       "      <td>1</td>\n",
       "      <td>2022</td>\n",
       "      <td>2</td>\n",
       "      <td>2</td>\n",
       "      <td>35</td>\n",
       "      <td>30-40</td>\n",
       "    </tr>\n",
       "    <tr>\n",
       "      <td>2</td>\n",
       "      <td>0_1277</td>\n",
       "      <td>2022-06-18 15:44:33.155329</td>\n",
       "      <td>s_225667</td>\n",
       "      <td>c_6714</td>\n",
       "      <td>f</td>\n",
       "      <td>1968</td>\n",
       "      <td>7.99</td>\n",
       "      <td>0</td>\n",
       "      <td>2022</td>\n",
       "      <td>6</td>\n",
       "      <td>18</td>\n",
       "      <td>55</td>\n",
       "      <td>52-61</td>\n",
       "    </tr>\n",
       "    <tr>\n",
       "      <td>3</td>\n",
       "      <td>2_209</td>\n",
       "      <td>2021-06-24 04:19:29.835891</td>\n",
       "      <td>s_52962</td>\n",
       "      <td>c_6941</td>\n",
       "      <td>m</td>\n",
       "      <td>2000</td>\n",
       "      <td>69.99</td>\n",
       "      <td>2</td>\n",
       "      <td>2021</td>\n",
       "      <td>6</td>\n",
       "      <td>24</td>\n",
       "      <td>23</td>\n",
       "      <td>19-29</td>\n",
       "    </tr>\n",
       "    <tr>\n",
       "      <td>4</td>\n",
       "      <td>0_1509</td>\n",
       "      <td>2023-01-11 08:22:08.194479</td>\n",
       "      <td>s_325227</td>\n",
       "      <td>c_4232</td>\n",
       "      <td>m</td>\n",
       "      <td>1980</td>\n",
       "      <td>4.99</td>\n",
       "      <td>0</td>\n",
       "      <td>2023</td>\n",
       "      <td>1</td>\n",
       "      <td>11</td>\n",
       "      <td>43</td>\n",
       "      <td>41-51</td>\n",
       "    </tr>\n",
       "  </tbody>\n",
       "</table>\n",
       "</div>"
      ],
      "text/plain": [
       "  id_prod                        date session_id client_id sex  birth  price  \\\n",
       "0  0_1518  2022-05-20 13:21:29.043970   s_211425     c_103   f   1986   4.18   \n",
       "1   1_251  2022-02-02 07:55:19.149409   s_158752    c_8534   m   1988  15.99   \n",
       "2  0_1277  2022-06-18 15:44:33.155329   s_225667    c_6714   f   1968   7.99   \n",
       "3   2_209  2021-06-24 04:19:29.835891    s_52962    c_6941   m   2000  69.99   \n",
       "4  0_1509  2023-01-11 08:22:08.194479   s_325227    c_4232   m   1980   4.99   \n",
       "\n",
       "   categ  year  month  day  age age_ranges  \n",
       "0      0  2022      5   20   37      30-40  \n",
       "1      1  2022      2    2   35      30-40  \n",
       "2      0  2022      6   18   55      52-61  \n",
       "3      2  2021      6   24   23      19-29  \n",
       "4      0  2023      1   11   43      41-51  "
      ]
     },
     "execution_count": 4,
     "metadata": {},
     "output_type": "execute_result"
    }
   ],
   "source": [
    "df.head()"
   ]
  },
  {
   "cell_type": "code",
   "execution_count": 5,
   "metadata": {
    "ExecuteTime": {
     "end_time": "2022-03-25T11:39:30.911443Z",
     "start_time": "2022-03-25T11:39:30.884692Z"
    },
    "hidden": true
   },
   "outputs": [
    {
     "data": {
      "text/plain": [
       "(679332, 13)"
      ]
     },
     "execution_count": 5,
     "metadata": {},
     "output_type": "execute_result"
    }
   ],
   "source": [
    "df.shape"
   ]
  },
  {
   "cell_type": "markdown",
   "metadata": {
    "hidden": true
   },
   "source": [
    "**Pour répondre les questions de Julie, on doit tester de corrélation entre les clients et les produits concernant de critère dans ci-dessous:**\n",
    "- **Sexe et Catégorie**\n",
    "- **Age et Chiffre d'affaires**\n",
    "- **Age et fréquence d'achat**\n",
    "- **Age et Panier moyen**\n",
    "- **Age et catégorie de produit**"
   ]
  },
  {
   "cell_type": "markdown",
   "metadata": {},
   "source": [
    "## 3. Réaliser un test statistique"
   ]
  },
  {
   "cell_type": "markdown",
   "metadata": {},
   "source": [
    "### 3.1. Etude de la corrélation entre genre et catégorie"
   ]
  },
  {
   "cell_type": "markdown",
   "metadata": {},
   "source": [
    "**Je retire les 4 clients qui ont acheté énormément afin de ne pas biaiser les résultats de mes tests de corrélation.**"
   ]
  },
  {
   "cell_type": "code",
   "execution_count": 6,
   "metadata": {
    "ExecuteTime": {
     "end_time": "2022-03-25T11:39:31.420697Z",
     "start_time": "2022-03-25T11:39:30.921340Z"
    }
   },
   "outputs": [],
   "source": [
    "df_4_clients = df.loc[(df[\"client_id\"] == \"c_1609\")|(df[\"client_id\"] == \"c_4958\")|(df[\"client_id\"] == \"c_6714\")|(df[\"client_id\"] == \"c_3454\")]"
   ]
  },
  {
   "cell_type": "code",
   "execution_count": 7,
   "metadata": {
    "ExecuteTime": {
     "end_time": "2022-03-25T11:39:31.883035Z",
     "start_time": "2022-03-25T11:39:31.424707Z"
    }
   },
   "outputs": [],
   "source": [
    "# On drop les 4 clients\n",
    "df.drop( df[ (df[\"client_id\"] == \"c_1609\")|(df[\"client_id\"] == \"c_4958\")|(df[\"client_id\"] == \"c_6714\")|(df[\"client_id\"] == \"c_3454\")].index, inplace=True)"
   ]
  },
  {
   "cell_type": "markdown",
   "metadata": {},
   "source": [
    "**Les deux variables sont qualitatives -> Je choisie de réaliser le test du Chi² pour vérifier si ces 2 variables sont liées.**"
   ]
  },
  {
   "cell_type": "code",
   "execution_count": 8,
   "metadata": {
    "ExecuteTime": {
     "end_time": "2022-03-25T11:39:32.269208Z",
     "start_time": "2022-03-25T11:39:31.891413Z"
    }
   },
   "outputs": [
    {
     "name": "stdout",
     "output_type": "stream",
     "text": [
      "tableau de contingence : \n"
     ]
    },
    {
     "data": {
      "text/html": [
       "<div>\n",
       "<style scoped>\n",
       "    .dataframe tbody tr th:only-of-type {\n",
       "        vertical-align: middle;\n",
       "    }\n",
       "\n",
       "    .dataframe tbody tr th {\n",
       "        vertical-align: top;\n",
       "    }\n",
       "\n",
       "    .dataframe thead th {\n",
       "        text-align: right;\n",
       "    }\n",
       "</style>\n",
       "<table border=\"1\" class=\"dataframe\">\n",
       "  <thead>\n",
       "    <tr style=\"text-align: right;\">\n",
       "      <th>categ</th>\n",
       "      <th>0</th>\n",
       "      <th>1</th>\n",
       "      <th>2</th>\n",
       "      <th>Total</th>\n",
       "    </tr>\n",
       "    <tr>\n",
       "      <th>sex</th>\n",
       "      <th></th>\n",
       "      <th></th>\n",
       "      <th></th>\n",
       "      <th></th>\n",
       "    </tr>\n",
       "  </thead>\n",
       "  <tbody>\n",
       "    <tr>\n",
       "      <td>f</td>\n",
       "      <td>200904</td>\n",
       "      <td>111331</td>\n",
       "      <td>16980</td>\n",
       "      <td>329215</td>\n",
       "    </tr>\n",
       "    <tr>\n",
       "      <td>m</td>\n",
       "      <td>186589</td>\n",
       "      <td>101017</td>\n",
       "      <td>15868</td>\n",
       "      <td>303474</td>\n",
       "    </tr>\n",
       "    <tr>\n",
       "      <td>Total</td>\n",
       "      <td>387493</td>\n",
       "      <td>212348</td>\n",
       "      <td>32848</td>\n",
       "      <td>632689</td>\n",
       "    </tr>\n",
       "  </tbody>\n",
       "</table>\n",
       "</div>"
      ],
      "text/plain": [
       "categ       0       1      2   Total\n",
       "sex                                 \n",
       "f      200904  111331  16980  329215\n",
       "m      186589  101017  15868  303474\n",
       "Total  387493  212348  32848  632689"
      ]
     },
     "execution_count": 8,
     "metadata": {},
     "output_type": "execute_result"
    }
   ],
   "source": [
    "# Création de la table de contingence\n",
    "X = \"sex\"\n",
    "Y = \"categ\"\n",
    "\n",
    "cont = df[[X,Y]].pivot_table(index=X,columns=Y,aggfunc=len,margins=True,margins_name=\"Total\")\n",
    "print(\"tableau de contingence : \")\n",
    "cont"
   ]
  },
  {
   "cell_type": "code",
   "execution_count": 9,
   "metadata": {
    "ExecuteTime": {
     "end_time": "2022-03-25T11:39:32.288642Z",
     "start_time": "2022-03-25T11:39:32.278095Z"
    }
   },
   "outputs": [],
   "source": [
    "import scipy.stats as stats\n",
    "chi2, p, dof, exp = stats.chi2_contingency(cont)"
   ]
  },
  {
   "cell_type": "code",
   "execution_count": 10,
   "metadata": {
    "ExecuteTime": {
     "end_time": "2022-03-25T11:39:32.307139Z",
     "start_time": "2022-03-25T11:39:32.295158Z"
    }
   },
   "outputs": [
    {
     "name": "stdout",
     "output_type": "stream",
     "text": [
      "20.200173796862927\n"
     ]
    }
   ],
   "source": [
    "print(chi2)"
   ]
  },
  {
   "cell_type": "code",
   "execution_count": 11,
   "metadata": {
    "ExecuteTime": {
     "end_time": "2022-03-25T11:39:32.322674Z",
     "start_time": "2022-03-25T11:39:32.313002Z"
    }
   },
   "outputs": [
    {
     "name": "stdout",
     "output_type": "stream",
     "text": [
      "0.002551063708568263\n"
     ]
    }
   ],
   "source": [
    "print(p)"
   ]
  },
  {
   "cell_type": "code",
   "execution_count": 12,
   "metadata": {
    "ExecuteTime": {
     "end_time": "2022-03-25T11:39:32.354837Z",
     "start_time": "2022-03-25T11:39:32.333345Z"
    }
   },
   "outputs": [
    {
     "name": "stdout",
     "output_type": "stream",
     "text": [
      "H1: Il y a une dépendance entre les deux valeurs.\n"
     ]
    }
   ],
   "source": [
    "if p > .05:\n",
    "    print(\"H0: les valeurs sont independantes\")\n",
    "else:\n",
    "    print(\"H1: Il y a une dépendance entre les deux valeurs.\")"
   ]
  },
  {
   "cell_type": "code",
   "execution_count": 13,
   "metadata": {
    "ExecuteTime": {
     "end_time": "2022-03-25T11:39:32.511044Z",
     "start_time": "2022-03-25T11:39:32.364649Z"
    }
   },
   "outputs": [
    {
     "name": "stdout",
     "output_type": "stream",
     "text": [
      "tableau des effectifs théoriques : \n"
     ]
    },
    {
     "data": {
      "text/html": [
       "<div>\n",
       "<style scoped>\n",
       "    .dataframe tbody tr th:only-of-type {\n",
       "        vertical-align: middle;\n",
       "    }\n",
       "\n",
       "    .dataframe tbody tr th {\n",
       "        vertical-align: top;\n",
       "    }\n",
       "\n",
       "    .dataframe thead th {\n",
       "        text-align: right;\n",
       "    }\n",
       "</style>\n",
       "<table border=\"1\" class=\"dataframe\">\n",
       "  <thead>\n",
       "    <tr style=\"text-align: right;\">\n",
       "      <th></th>\n",
       "      <th>0</th>\n",
       "      <th>1</th>\n",
       "      <th>2</th>\n",
       "    </tr>\n",
       "  </thead>\n",
       "  <tbody>\n",
       "    <tr>\n",
       "      <td>f</td>\n",
       "      <td>201629.091062</td>\n",
       "      <td>110493.697251</td>\n",
       "      <td>17092.211687</td>\n",
       "    </tr>\n",
       "    <tr>\n",
       "      <td>m</td>\n",
       "      <td>185863.908938</td>\n",
       "      <td>101854.302749</td>\n",
       "      <td>15755.788313</td>\n",
       "    </tr>\n",
       "  </tbody>\n",
       "</table>\n",
       "</div>"
      ],
      "text/plain": [
       "               0              1             2\n",
       "f  201629.091062  110493.697251  17092.211687\n",
       "m  185863.908938  101854.302749  15755.788313"
      ]
     },
     "execution_count": 13,
     "metadata": {},
     "output_type": "execute_result"
    }
   ],
   "source": [
    "#Tableau de contingence théorique\n",
    "cont=cont.copy()\n",
    "tx=df[X].value_counts()\n",
    "ty=df[Y].value_counts()\n",
    "\n",
    "tx = pd.DataFrame(tx)\n",
    "ty = pd.DataFrame(ty)\n",
    "tx.columns= ['foo']\n",
    "ty.columns= ['foo']\n",
    "n = len(df)\n",
    "indep = tx.dot(ty.T)/n\n",
    "\n",
    "print(\"tableau des effectifs théoriques : \")\n",
    "indep"
   ]
  },
  {
   "cell_type": "code",
   "execution_count": 14,
   "metadata": {
    "ExecuteTime": {
     "end_time": "2022-03-25T11:39:32.927865Z",
     "start_time": "2022-03-25T11:39:32.516208Z"
    }
   },
   "outputs": [
    {
     "data": {
      "image/png": "[encoded data removed]",
      "text/plain": [
       "<Figure size 432x288 with 2 Axes>"
      ]
     },
     "metadata": {
      "needs_background": "light"
     },
     "output_type": "display_data"
    }
   ],
   "source": [
    "# Visualization \n",
    "tx = cont.loc[:,[\"Total\"]]\n",
    "ty = cont.loc[[\"Total\"],:]\n",
    "n = len(df)\n",
    "indep = tx.dot(ty) / n\n",
    "\n",
    "c = cont.fillna(0)\n",
    "measure = (c-indep)**2/indep\n",
    "\n",
    "xi_n = measure.sum().sum()\n",
    "table = measure/xi_n\n",
    "\n",
    "fig = plt.figure()\n",
    "sns.heatmap(table.iloc[:-1,:-1], annot=True, cmap=\"Purples\")\n",
    "\n",
    "plt.suptitle(\"Corrélation entre le sexe des clients et les catégories produits.\", \n",
    "  fontweight=\"bold\", \n",
    "  fontsize=14)\n",
    "plt.show()\n",
    "\n",
    "#Sauvegarde en PNG\n",
    "fig.savefig('graph_contingence_sexes_categories.png')\n",
    "plt.close(fig)"
   ]
  },
  {
   "cell_type": "markdown",
   "metadata": {},
   "source": [
    "**On remarque une forte corrélation entre les hommes et la catégorie 1.**"
   ]
  },
  {
   "cell_type": "markdown",
   "metadata": {
    "heading_collapsed": true
   },
   "source": [
    "### 3.2. Etude de la corrélation entre âge et Chiffre d'affaires"
   ]
  },
  {
   "cell_type": "markdown",
   "metadata": {
    "hidden": true
   },
   "source": [
    "**Âge et CA: les deux variables quantitatives mais non linéaires. J'utilise le test de Spearman.**"
   ]
  },
  {
   "cell_type": "code",
   "execution_count": 15,
   "metadata": {
    "ExecuteTime": {
     "end_time": "2022-03-25T11:39:32.948862Z",
     "start_time": "2022-03-25T11:39:32.932627Z"
    },
    "hidden": true
   },
   "outputs": [],
   "source": [
    "df_age_ca = df[[\"age\",\"price\"]]"
   ]
  },
  {
   "cell_type": "code",
   "execution_count": 16,
   "metadata": {
    "ExecuteTime": {
     "end_time": "2022-03-25T11:39:32.991810Z",
     "start_time": "2022-03-25T11:39:32.954288Z"
    },
    "hidden": true
   },
   "outputs": [],
   "source": [
    "df_age_ca = df_age_ca.groupby(\"age\").agg({\"price\":\"sum\"}).reset_index()"
   ]
  },
  {
   "cell_type": "code",
   "execution_count": 17,
   "metadata": {
    "ExecuteTime": {
     "end_time": "2022-03-25T11:39:33.021855Z",
     "start_time": "2022-03-25T11:39:32.995890Z"
    },
    "hidden": true
   },
   "outputs": [
    {
     "data": {
      "text/html": [
       "<div>\n",
       "<style scoped>\n",
       "    .dataframe tbody tr th:only-of-type {\n",
       "        vertical-align: middle;\n",
       "    }\n",
       "\n",
       "    .dataframe tbody tr th {\n",
       "        vertical-align: top;\n",
       "    }\n",
       "\n",
       "    .dataframe thead th {\n",
       "        text-align: right;\n",
       "    }\n",
       "</style>\n",
       "<table border=\"1\" class=\"dataframe\">\n",
       "  <thead>\n",
       "    <tr style=\"text-align: right;\">\n",
       "      <th></th>\n",
       "      <th>age</th>\n",
       "      <th>price</th>\n",
       "    </tr>\n",
       "  </thead>\n",
       "  <tbody>\n",
       "    <tr>\n",
       "      <td>0</td>\n",
       "      <td>19</td>\n",
       "      <td>609013.69</td>\n",
       "    </tr>\n",
       "    <tr>\n",
       "      <td>1</td>\n",
       "      <td>20</td>\n",
       "      <td>178195.78</td>\n",
       "    </tr>\n",
       "    <tr>\n",
       "      <td>2</td>\n",
       "      <td>21</td>\n",
       "      <td>184209.27</td>\n",
       "    </tr>\n",
       "    <tr>\n",
       "      <td>3</td>\n",
       "      <td>22</td>\n",
       "      <td>178497.70</td>\n",
       "    </tr>\n",
       "    <tr>\n",
       "      <td>4</td>\n",
       "      <td>23</td>\n",
       "      <td>165029.26</td>\n",
       "    </tr>\n",
       "    <tr>\n",
       "      <td>...</td>\n",
       "      <td>...</td>\n",
       "      <td>...</td>\n",
       "    </tr>\n",
       "    <tr>\n",
       "      <td>71</td>\n",
       "      <td>90</td>\n",
       "      <td>5264.99</td>\n",
       "    </tr>\n",
       "    <tr>\n",
       "      <td>72</td>\n",
       "      <td>91</td>\n",
       "      <td>5043.19</td>\n",
       "    </tr>\n",
       "    <tr>\n",
       "      <td>73</td>\n",
       "      <td>92</td>\n",
       "      <td>2815.45</td>\n",
       "    </tr>\n",
       "    <tr>\n",
       "      <td>74</td>\n",
       "      <td>93</td>\n",
       "      <td>4013.87</td>\n",
       "    </tr>\n",
       "    <tr>\n",
       "      <td>75</td>\n",
       "      <td>94</td>\n",
       "      <td>3221.85</td>\n",
       "    </tr>\n",
       "  </tbody>\n",
       "</table>\n",
       "<p>76 rows × 2 columns</p>\n",
       "</div>"
      ],
      "text/plain": [
       "    age      price\n",
       "0    19  609013.69\n",
       "1    20  178195.78\n",
       "2    21  184209.27\n",
       "3    22  178497.70\n",
       "4    23  165029.26\n",
       "..  ...        ...\n",
       "71   90    5264.99\n",
       "72   91    5043.19\n",
       "73   92    2815.45\n",
       "74   93    4013.87\n",
       "75   94    3221.85\n",
       "\n",
       "[76 rows x 2 columns]"
      ]
     },
     "execution_count": 17,
     "metadata": {},
     "output_type": "execute_result"
    }
   ],
   "source": [
    "df_age_ca"
   ]
  },
  {
   "cell_type": "code",
   "execution_count": 18,
   "metadata": {
    "ExecuteTime": {
     "end_time": "2022-03-25T11:39:33.437547Z",
     "start_time": "2022-03-25T11:39:33.027604Z"
    },
    "hidden": true
   },
   "outputs": [
    {
     "data": {
      "image/png": "[encoded data removed]",
      "text/plain": [
       "<Figure size 432x288 with 1 Axes>"
      ]
     },
     "metadata": {
      "needs_background": "light"
     },
     "output_type": "display_data"
    }
   ],
   "source": [
    "# Visualization\n",
    "plt.plot(df_age_ca[\"age\"],df_age_ca[\"price\"],\"o\")\n",
    "plt.xlabel(\"âge\")\n",
    "plt.ylabel(\"CA (€)\")\n",
    "plt.grid()\n",
    "plt.title(\"Répartition du CA par âge\", fontsize=14, fontweight=\"bold\")\n",
    "plt.show()\n",
    "\n",
    "\n",
    "#Sauvegarde en PNG\n",
    "fig.savefig(\"graph_repartition du CA par age.png\")\n",
    "plt.close(fig)"
   ]
  },
  {
   "cell_type": "markdown",
   "metadata": {
    "hidden": true
   },
   "source": [
    "**Ce graphique a montré que les deux variables ne sont pas linéaires.**"
   ]
  },
  {
   "cell_type": "code",
   "execution_count": 19,
   "metadata": {
    "ExecuteTime": {
     "end_time": "2022-03-25T11:39:33.452596Z",
     "start_time": "2022-03-25T11:39:33.441523Z"
    },
    "hidden": true
   },
   "outputs": [],
   "source": [
    "from scipy import stats\n",
    "from scipy.stats import spearmanr"
   ]
  },
  {
   "cell_type": "code",
   "execution_count": 20,
   "metadata": {
    "ExecuteTime": {
     "end_time": "2022-03-25T11:39:33.484554Z",
     "start_time": "2022-03-25T11:39:33.458097Z"
    },
    "hidden": true
   },
   "outputs": [
    {
     "data": {
      "text/plain": [
       "SpearmanrResult(correlation=-0.8736842105263158, pvalue=7.352708223159905e-25)"
      ]
     },
     "execution_count": 20,
     "metadata": {},
     "output_type": "execute_result"
    }
   ],
   "source": [
    "stats.spearmanr(df_age_ca[\"age\"],df_age_ca[\"price\"])"
   ]
  },
  {
   "cell_type": "markdown",
   "metadata": {
    "hidden": true
   },
   "source": [
    "**Avec une p-value de 7.352708223159905e-25, on peut rejeter l'hypothèse 0 et dire que les variables sont noncorrélées (-0.8736842105263158).**"
   ]
  },
  {
   "cell_type": "code",
   "execution_count": 21,
   "metadata": {
    "ExecuteTime": {
     "end_time": "2022-03-25T11:39:34.507690Z",
     "start_time": "2022-03-25T11:39:33.489183Z"
    },
    "hidden": true
   },
   "outputs": [
    {
     "name": "stdout",
     "output_type": "stream",
     "text": [
      "                   Results: Ordinary least squares\n",
      "=====================================================================\n",
      "Model:              OLS              Adj. R-squared:     0.039       \n",
      "Dependent Variable: price            AIC:                5434282.4302\n",
      "Date:               2022-03-25 12:39 BIC:                5434305.1457\n",
      "No. Observations:   632689           Log-Likelihood:     -2.7171e+06 \n",
      "Df Model:           1                F-statistic:        2.572e+04   \n",
      "Df Residuals:       632687           Prob (F-statistic): 0.00        \n",
      "R-squared:          0.039            Scale:              314.60      \n",
      "-----------------------------------------------------------------------\n",
      "             Coef.    Std.Err.       t       P>|t|     [0.025    0.975]\n",
      "-----------------------------------------------------------------------\n",
      "age         -0.2583     0.0016   -160.3893   0.0000   -0.2614   -0.2551\n",
      "intercept   29.0247     0.0761    381.1543   0.0000   28.8754   29.1739\n",
      "---------------------------------------------------------------------\n",
      "Omnibus:            655411.475     Durbin-Watson:        2.003       \n",
      "Prob(Omnibus):      0.000          Jarque-Bera (JB):     50181934.670\n",
      "Skew:               5.180          Prob(JB):             0.000       \n",
      "Kurtosis:           45.382         Condition No.:        162         \n",
      "=====================================================================\n",
      "\n"
     ]
    }
   ],
   "source": [
    "# Calcul de la régression linéaire\n",
    "#import scipy.stats as st\n",
    "import statsmodels.api as sm\n",
    "#import statsmodels.formula.api as smf\n",
    "#from scipy.stats.stats import pearsonr\n",
    "\n",
    "X = df[[\"age\"]]\n",
    "Y = df[\"price\"]\n",
    "\n",
    "X = X.assign(intercept = [1]*X.shape[0])\n",
    "\n",
    "lr = sm.OLS(Y, X).fit()\n",
    "print(lr.summary2())"
   ]
  },
  {
   "cell_type": "code",
   "execution_count": 22,
   "metadata": {
    "ExecuteTime": {
     "end_time": "2022-03-25T11:39:34.526055Z",
     "start_time": "2022-03-25T11:39:34.513145Z"
    },
    "hidden": true
   },
   "outputs": [
    {
     "name": "stdout",
     "output_type": "stream",
     "text": [
      "age          -0.258285\n",
      "intercept    29.024686\n",
      "dtype: float64\n"
     ]
    }
   ],
   "source": [
    "# Affichage de a et b, coefficients de ma droite de régression linéaire\n",
    "print(lr.params)"
   ]
  },
  {
   "cell_type": "code",
   "execution_count": 23,
   "metadata": {
    "ExecuteTime": {
     "end_time": "2022-03-25T11:39:34.563822Z",
     "start_time": "2022-03-25T11:39:34.551244Z"
    },
    "hidden": true
   },
   "outputs": [],
   "source": [
    "# Stockage de a et b dans les variables correspondantes\n",
    "a,b = lr.params[\"age\"], lr.params[\"intercept\"]"
   ]
  },
  {
   "cell_type": "code",
   "execution_count": 24,
   "metadata": {
    "ExecuteTime": {
     "end_time": "2022-03-25T11:39:38.317249Z",
     "start_time": "2022-03-25T11:39:34.577893Z"
    },
    "hidden": true
   },
   "outputs": [
    {
     "data": {
      "image/png": "[encoded data removed]",
      "text/plain": [
       "<Figure size 864x432 with 1 Axes>"
      ]
     },
     "metadata": {
      "needs_background": "light"
     },
     "output_type": "display_data"
    }
   ],
   "source": [
    "# Affichage du nuage de points avec la droite de régression linéaire\n",
    "\n",
    "X = df[\"age\"]\n",
    "y = df[\"price\"]\n",
    "plt.figure(figsize=(12,6))\n",
    "plt.plot(X, y, \"o\")\n",
    "plt.plot(np.arange(min(X), max(X)), [a*x+b for x in np.arange(min(X), max(X))])\n",
    "plt.title(\"Correlation de montant total des achats\",  fontsize = 14, fontweight=\"bold\")\n",
    "plt.xlabel(\"Âge (années)\")\n",
    "plt.ylabel(\"Montant total des achats (€)\")\n",
    "\n",
    "#Sauvegarde en PNG\n",
    "fig.savefig(\"graph_correlation age et ca.png\")\n",
    "plt.close(fig)"
   ]
  },
  {
   "cell_type": "code",
   "execution_count": 25,
   "metadata": {
    "ExecuteTime": {
     "end_time": "2022-03-25T11:39:39.066342Z",
     "start_time": "2022-03-25T11:39:38.320663Z"
    },
    "hidden": true
   },
   "outputs": [
    {
     "data": {
      "image/png": "[encoded data removed]",
      "text/plain": [
       "<Figure size 1296x648 with 1 Axes>"
      ]
     },
     "metadata": {
      "needs_background": "light"
     },
     "output_type": "display_data"
    }
   ],
   "source": [
    "# Modélisation des boxplots\n",
    "\n",
    "X = \"price\"\n",
    "Y = \"age_ranges\" \n",
    "\n",
    "plt.figure(figsize=(18, 9))\n",
    "sns.boxplot(x=df[X], y=df[Y], showmeans=True)\n",
    "plt.title(\"Montant total en fonction des catégories d'âge\", fontsize = 14, fontweight=\"bold\")\n",
    "plt.xlabel(\"Montant total d'achat\")\n",
    "plt.ylabel(\"Catégorie d'âge\")\n",
    "plt.xticks(fontsize=12)\n",
    "plt.yticks(fontsize=12)\n",
    "plt.show()\n",
    "\n",
    "#Sauvegarde en PNG\n",
    "fig.savefig(\"graph_boxplot age_ranges et montant.png\")\n",
    "plt.close(fig)"
   ]
  },
  {
   "cell_type": "code",
   "execution_count": 26,
   "metadata": {
    "ExecuteTime": {
     "end_time": "2022-03-25T11:39:42.484214Z",
     "start_time": "2022-03-25T11:39:39.070135Z"
    },
    "hidden": true
   },
   "outputs": [
    {
     "name": "stdout",
     "output_type": "stream",
     "text": [
      "                     sum_sq        df             F  PR(>F)\n",
      "C(age_ranges)  3.906080e+07       6.0  24505.849479     0.0\n",
      "Residual       1.680760e+08  632682.0           NaN     NaN\n"
     ]
    }
   ],
   "source": [
    "# Calcul de l'ANOVA (analyse de la variance)\n",
    "\n",
    "from statsmodels.formula.api import ols\n",
    "\n",
    "linear_model = ols(\"price ~ C(age_ranges)\", data=df).fit()\n",
    "table = sm.stats.anova_lm(linear_model, typ=2)\n",
    "print(table)"
   ]
  },
  {
   "cell_type": "code",
   "execution_count": 27,
   "metadata": {
    "ExecuteTime": {
     "end_time": "2022-03-25T11:39:42.508093Z",
     "start_time": "2022-03-25T11:39:42.487357Z"
    },
    "hidden": true
   },
   "outputs": [],
   "source": [
    "pvalue = linear_model.f_pvalue"
   ]
  },
  {
   "cell_type": "code",
   "execution_count": 28,
   "metadata": {
    "ExecuteTime": {
     "end_time": "2022-03-25T11:39:42.537298Z",
     "start_time": "2022-03-25T11:39:42.518965Z"
    },
    "hidden": true
   },
   "outputs": [
    {
     "data": {
      "text/plain": [
       "0.0"
      ]
     },
     "execution_count": 28,
     "metadata": {},
     "output_type": "execute_result"
    }
   ],
   "source": [
    "pvalue"
   ]
  },
  {
   "cell_type": "code",
   "execution_count": 29,
   "metadata": {
    "ExecuteTime": {
     "end_time": "2022-03-25T11:39:42.567320Z",
     "start_time": "2022-03-25T11:39:42.555315Z"
    },
    "hidden": true
   },
   "outputs": [
    {
     "name": "stdout",
     "output_type": "stream",
     "text": [
      "Ici le coefficient de corrélation est égal à 0.4342521501229164\n"
     ]
    }
   ],
   "source": [
    "import math\n",
    "rsquared = math.sqrt(linear_model.rsquared)\n",
    "print('Ici le coefficient de corrélation est égal à {}'.format(rsquared))"
   ]
  },
  {
   "cell_type": "code",
   "execution_count": 30,
   "metadata": {
    "ExecuteTime": {
     "end_time": "2022-03-25T11:39:42.717314Z",
     "start_time": "2022-03-25T11:39:42.572672Z"
    },
    "hidden": true
   },
   "outputs": [
    {
     "name": "stdout",
     "output_type": "stream",
     "text": [
      "                      Results: Ordinary least squares\n",
      "===========================================================================\n",
      "Model:                OLS                Adj. R-squared:       0.189       \n",
      "Dependent Variable:   price              AIC:                  5327299.2885\n",
      "Date:                 2022-03-25 12:39   BIC:                  5327378.7926\n",
      "No. Observations:     632689             Log-Likelihood:       -2.6636e+06 \n",
      "Df Model:             6                  F-statistic:          2.451e+04   \n",
      "Df Residuals:         632682             Prob (F-statistic):   0.00        \n",
      "R-squared:            0.189              Scale:                265.66      \n",
      "---------------------------------------------------------------------------\n",
      "                        Coef.   Std.Err.     t     P>|t|   [0.025   0.975] \n",
      "---------------------------------------------------------------------------\n",
      "Intercept               40.3614   0.0643  627.8967 0.0000  40.2354  40.4874\n",
      "C(age_ranges)[T.30-40] -25.6685   0.0746 -344.2333 0.0000 -25.8146 -25.5223\n",
      "C(age_ranges)[T.41-51] -27.1007   0.0731 -370.5091 0.0000 -27.2440 -26.9573\n",
      "C(age_ranges)[T.52-61] -23.5846   0.0863 -273.4125 0.0000 -23.7536 -23.4155\n",
      "C(age_ranges)[T.62-73] -23.5677   0.0942 -250.0551 0.0000 -23.7524 -23.3829\n",
      "C(age_ranges)[T.74-84] -23.7160   0.1272 -186.4493 0.0000 -23.9653 -23.4667\n",
      "C(age_ranges)[T.85-94] -23.5092   0.2190 -107.3627 0.0000 -23.9384 -23.0800\n",
      "---------------------------------------------------------------------------\n",
      "Omnibus:              641257.818       Durbin-Watson:          2.003       \n",
      "Prob(Omnibus):        0.000            Jarque-Bera (JB):       55514738.160\n",
      "Skew:                 4.928            Prob(JB):               0.000       \n",
      "Kurtosis:             47.819           Condition No.:          12          \n",
      "===========================================================================\n",
      "\n"
     ]
    }
   ],
   "source": [
    "# Affichage de la régression linéaire correspondante\n",
    "print(linear_model.summary2())"
   ]
  },
  {
   "cell_type": "code",
   "execution_count": 31,
   "metadata": {
    "ExecuteTime": {
     "end_time": "2022-03-25T11:39:42.734974Z",
     "start_time": "2022-03-25T11:39:42.723475Z"
    },
    "hidden": true
   },
   "outputs": [
    {
     "name": "stdout",
     "output_type": "stream",
     "text": [
      "On rejette HO : il y a une corrélation moyenne entre le montant total des achats et l'âge.\n"
     ]
    }
   ],
   "source": [
    "# P-value : choix d'un seuil de probabilité standard, de 5%\n",
    "norm = 0.05\n",
    "#Conclusion\n",
    "\n",
    "if pvalue < norm:\n",
    "    if rsquared > 0.5:\n",
    "        print(\"On rejette HO : il y a une corrélation forte entre le montant total des achats et l'âge.\")\n",
    "    elif rsquared > 0.3:\n",
    "        print(\"On rejette HO : il y a une corrélation moyenne entre le montant total des achats et l'âge.\")\n",
    "    elif rsquared > 0.1:\n",
    "        print(\"On rejette HO : il y a une petite corrélation entre le montant total des achats et l'âge.\")\n",
    "elif pvalue > norm : \n",
    "    print(\"On ne peut pas rejeter HO: il n'y a pas de corrélation entre le montant total des achats et l'âge.\")"
   ]
  },
  {
   "cell_type": "markdown",
   "metadata": {
    "heading_collapsed": true
   },
   "source": [
    "### 3.3. Etude de la corrélation entre âge et fréquence d'achat"
   ]
  },
  {
   "cell_type": "code",
   "execution_count": 32,
   "metadata": {
    "ExecuteTime": {
     "end_time": "2022-03-25T11:39:42.994388Z",
     "start_time": "2022-03-25T11:39:42.740122Z"
    },
    "hidden": true
   },
   "outputs": [],
   "source": [
    "# Groupby sur l'id_client pour avoir le montant total d'achats\n",
    "\n",
    "df_freq = df.groupby([\"client_id\",\"age\"]).agg({\"session_id\": \"count\"})\n",
    "df_freq = pd.DataFrame(df_freq)\n",
    "df_freq = df_freq.rename(columns={\"session_id\":\"nb_achats\"})\n",
    "\n",
    "nb_mois_annee = 12\n",
    "df_freq.nb_achats = df_freq.nb_achats/nb_mois_annee\n",
    "df_freq.reset_index(inplace=True)\n"
   ]
  },
  {
   "cell_type": "code",
   "execution_count": 33,
   "metadata": {
    "ExecuteTime": {
     "end_time": "2022-03-25T11:39:43.021598Z",
     "start_time": "2022-03-25T11:39:42.998115Z"
    },
    "hidden": true
   },
   "outputs": [
    {
     "data": {
      "text/html": [
       "<div>\n",
       "<style scoped>\n",
       "    .dataframe tbody tr th:only-of-type {\n",
       "        vertical-align: middle;\n",
       "    }\n",
       "\n",
       "    .dataframe tbody tr th {\n",
       "        vertical-align: top;\n",
       "    }\n",
       "\n",
       "    .dataframe thead th {\n",
       "        text-align: right;\n",
       "    }\n",
       "</style>\n",
       "<table border=\"1\" class=\"dataframe\">\n",
       "  <thead>\n",
       "    <tr style=\"text-align: right;\">\n",
       "      <th></th>\n",
       "      <th>client_id</th>\n",
       "      <th>age</th>\n",
       "      <th>nb_achats</th>\n",
       "    </tr>\n",
       "  </thead>\n",
       "  <tbody>\n",
       "    <tr>\n",
       "      <td>0</td>\n",
       "      <td>c_1</td>\n",
       "      <td>68</td>\n",
       "      <td>3.250000</td>\n",
       "    </tr>\n",
       "    <tr>\n",
       "      <td>1</td>\n",
       "      <td>c_10</td>\n",
       "      <td>67</td>\n",
       "      <td>4.833333</td>\n",
       "    </tr>\n",
       "    <tr>\n",
       "      <td>2</td>\n",
       "      <td>c_100</td>\n",
       "      <td>31</td>\n",
       "      <td>0.666667</td>\n",
       "    </tr>\n",
       "    <tr>\n",
       "      <td>3</td>\n",
       "      <td>c_1000</td>\n",
       "      <td>57</td>\n",
       "      <td>10.416667</td>\n",
       "    </tr>\n",
       "    <tr>\n",
       "      <td>4</td>\n",
       "      <td>c_1001</td>\n",
       "      <td>41</td>\n",
       "      <td>8.500000</td>\n",
       "    </tr>\n",
       "    <tr>\n",
       "      <td>...</td>\n",
       "      <td>...</td>\n",
       "      <td>...</td>\n",
       "      <td>...</td>\n",
       "    </tr>\n",
       "    <tr>\n",
       "      <td>8591</td>\n",
       "      <td>c_995</td>\n",
       "      <td>68</td>\n",
       "      <td>1.166667</td>\n",
       "    </tr>\n",
       "    <tr>\n",
       "      <td>8592</td>\n",
       "      <td>c_996</td>\n",
       "      <td>53</td>\n",
       "      <td>7.916667</td>\n",
       "    </tr>\n",
       "    <tr>\n",
       "      <td>8593</td>\n",
       "      <td>c_997</td>\n",
       "      <td>29</td>\n",
       "      <td>4.916667</td>\n",
       "    </tr>\n",
       "    <tr>\n",
       "      <td>8594</td>\n",
       "      <td>c_998</td>\n",
       "      <td>22</td>\n",
       "      <td>4.416667</td>\n",
       "    </tr>\n",
       "    <tr>\n",
       "      <td>8595</td>\n",
       "      <td>c_999</td>\n",
       "      <td>59</td>\n",
       "      <td>3.833333</td>\n",
       "    </tr>\n",
       "  </tbody>\n",
       "</table>\n",
       "<p>8596 rows × 3 columns</p>\n",
       "</div>"
      ],
      "text/plain": [
       "     client_id  age  nb_achats\n",
       "0          c_1   68   3.250000\n",
       "1         c_10   67   4.833333\n",
       "2        c_100   31   0.666667\n",
       "3       c_1000   57  10.416667\n",
       "4       c_1001   41   8.500000\n",
       "...        ...  ...        ...\n",
       "8591     c_995   68   1.166667\n",
       "8592     c_996   53   7.916667\n",
       "8593     c_997   29   4.916667\n",
       "8594     c_998   22   4.416667\n",
       "8595     c_999   59   3.833333\n",
       "\n",
       "[8596 rows x 3 columns]"
      ]
     },
     "execution_count": 33,
     "metadata": {},
     "output_type": "execute_result"
    }
   ],
   "source": [
    "df_freq"
   ]
  },
  {
   "cell_type": "code",
   "execution_count": 34,
   "metadata": {
    "ExecuteTime": {
     "end_time": "2022-03-25T11:39:43.477574Z",
     "start_time": "2022-03-25T11:39:43.026330Z"
    },
    "hidden": true
   },
   "outputs": [
    {
     "data": {
      "image/png": "[encoded data removed]",
      "text/plain": [
       "<Figure size 864x432 with 1 Axes>"
      ]
     },
     "metadata": {
      "needs_background": "light"
     },
     "output_type": "display_data"
    }
   ],
   "source": [
    "# Diagramme de dispersion\n",
    "X = df_freq[\"age\"]\n",
    "y = df_freq[\"nb_achats\"]\n",
    "\n",
    "plt.figure(figsize=(12,6))\n",
    "plt.scatter (X,y)\n",
    "\n",
    "plt.title(\"Age et fréquence des achats\", fontsize =14, fontweight=\"bold\")\n",
    "plt.xlabel(\"Âge\")\n",
    "plt.ylabel(\"Fréquence des achats par an\")\n",
    "plt.show()\n",
    "\n",
    "#Sauvegarde en PNG\n",
    "fig.savefig(\"graph_scatter age et frequence des achats.png\")\n",
    "plt.close(fig)"
   ]
  },
  {
   "cell_type": "code",
   "execution_count": 35,
   "metadata": {
    "ExecuteTime": {
     "end_time": "2022-03-25T11:39:43.545215Z",
     "start_time": "2022-03-25T11:39:43.481397Z"
    },
    "hidden": true
   },
   "outputs": [
    {
     "name": "stdout",
     "output_type": "stream",
     "text": [
      "                  Results: Ordinary least squares\n",
      "===================================================================\n",
      "Model:              OLS              Adj. R-squared:     0.001     \n",
      "Dependent Variable: nb_achats        AIC:                54180.1173\n",
      "Date:               2022-03-25 12:39 BIC:                54194.2354\n",
      "No. Observations:   8596             Log-Likelihood:     -27088.   \n",
      "Df Model:           1                F-statistic:        7.968     \n",
      "Df Residuals:       8594             Prob (F-statistic): 0.00477   \n",
      "R-squared:          0.001            Scale:              31.971    \n",
      "---------------------------------------------------------------------\n",
      "               Coef.    Std.Err.      t      P>|t|    [0.025   0.975]\n",
      "---------------------------------------------------------------------\n",
      "age            0.0102     0.0036    2.8227   0.0048   0.0031   0.0173\n",
      "intercept      5.6781     0.1725   32.9167   0.0000   5.3400   6.0162\n",
      "-------------------------------------------------------------------\n",
      "Omnibus:              2860.967      Durbin-Watson:         1.969   \n",
      "Prob(Omnibus):        0.000         Jarque-Bera (JB):      8207.613\n",
      "Skew:                 1.776         Prob(JB):              0.000   \n",
      "Kurtosis:             6.210         Condition No.:         135     \n",
      "===================================================================\n",
      "\n"
     ]
    }
   ],
   "source": [
    "# Calcul de la régression linéaire\n",
    "X = df_freq[[\"age\"]]\n",
    "y = df_freq[\"nb_achats\"]\n",
    "\n",
    "X = X.assign(intercept = [1]*X.shape[0])\n",
    "\n",
    "lr = sm.OLS(y, X).fit()\n",
    "print(lr.summary2())"
   ]
  },
  {
   "cell_type": "code",
   "execution_count": 36,
   "metadata": {
    "ExecuteTime": {
     "end_time": "2022-03-25T11:39:43.560980Z",
     "start_time": "2022-03-25T11:39:43.549703Z"
    },
    "hidden": true
   },
   "outputs": [
    {
     "name": "stdout",
     "output_type": "stream",
     "text": [
      "age          0.010180\n",
      "intercept    5.678094\n",
      "dtype: float64\n"
     ]
    }
   ],
   "source": [
    "# Affichage de a et b, coefficients de ma droite de régression linéaire\n",
    "print(lr.params)"
   ]
  },
  {
   "cell_type": "code",
   "execution_count": 37,
   "metadata": {
    "ExecuteTime": {
     "end_time": "2022-03-25T11:39:43.583058Z",
     "start_time": "2022-03-25T11:39:43.568459Z"
    },
    "hidden": true
   },
   "outputs": [],
   "source": [
    "# Stockage de a et b dans les variables correspondantes\n",
    "a,b = lr.params[\"age\"],lr.params[\"intercept\"]"
   ]
  },
  {
   "cell_type": "code",
   "execution_count": 38,
   "metadata": {
    "ExecuteTime": {
     "end_time": "2022-03-25T11:39:43.936786Z",
     "start_time": "2022-03-25T11:39:43.590949Z"
    },
    "hidden": true
   },
   "outputs": [
    {
     "data": {
      "image/png": "[encoded data removed]",
      "text/plain": [
       "<Figure size 864x432 with 1 Axes>"
      ]
     },
     "metadata": {
      "needs_background": "light"
     },
     "output_type": "display_data"
    }
   ],
   "source": [
    "# Créer la régression linéaire\n",
    "X = df_freq[\"age\"]\n",
    "y = df_freq[\"nb_achats\"]\n",
    "plt.figure(figsize=(12,6))\n",
    "plt.plot(X, y, \"o\")\n",
    "plt.plot(np.arange(min(X), max(X)), [a*x+b for x in np.arange(min(X), max(X))])\n",
    "plt.title(\"Diagramme de dispersion age, fréquence des achats\", fontsize = 14, fontweight=\"bold\")\n",
    "plt.xlabel(\"Âge\")\n",
    "plt.ylabel(\"Fréquence des achats\")\n",
    "plt.show()\n"
   ]
  },
  {
   "cell_type": "markdown",
   "metadata": {
    "hidden": true
   },
   "source": [
    "**La régression linéaire n'est pas adaptée -> Faire ANOVA.**"
   ]
  },
  {
   "cell_type": "code",
   "execution_count": 39,
   "metadata": {
    "ExecuteTime": {
     "end_time": "2022-03-25T11:39:44.170104Z",
     "start_time": "2022-03-25T11:39:43.942076Z"
    },
    "hidden": true
   },
   "outputs": [],
   "source": [
    "# Groupby sur l'id_client pour avoir la fréquence d'achat\n",
    "\n",
    "df_freq = df.groupby([\"client_id\",\"age_ranges\"], observed = True).agg({\"session_id\": \"count\"})\n",
    "df_freq = pd.DataFrame(df_freq)\n",
    "df_freq = df_freq.rename(columns={\"session_id\":\"nb_achats\"})\n",
    "\n",
    "nb_mois_annee = 12\n",
    "df_freq.nb_achats = df_freq.nb_achats/nb_mois_annee\n",
    "df_freq.reset_index(inplace=True)"
   ]
  },
  {
   "cell_type": "code",
   "execution_count": 40,
   "metadata": {
    "ExecuteTime": {
     "end_time": "2022-03-25T11:39:44.202333Z",
     "start_time": "2022-03-25T11:39:44.173456Z"
    },
    "hidden": true
   },
   "outputs": [
    {
     "data": {
      "text/html": [
       "<div>\n",
       "<style scoped>\n",
       "    .dataframe tbody tr th:only-of-type {\n",
       "        vertical-align: middle;\n",
       "    }\n",
       "\n",
       "    .dataframe tbody tr th {\n",
       "        vertical-align: top;\n",
       "    }\n",
       "\n",
       "    .dataframe thead th {\n",
       "        text-align: right;\n",
       "    }\n",
       "</style>\n",
       "<table border=\"1\" class=\"dataframe\">\n",
       "  <thead>\n",
       "    <tr style=\"text-align: right;\">\n",
       "      <th></th>\n",
       "      <th>client_id</th>\n",
       "      <th>age_ranges</th>\n",
       "      <th>nb_achats</th>\n",
       "    </tr>\n",
       "  </thead>\n",
       "  <tbody>\n",
       "    <tr>\n",
       "      <td>0</td>\n",
       "      <td>c_1</td>\n",
       "      <td>62-73</td>\n",
       "      <td>3.250000</td>\n",
       "    </tr>\n",
       "    <tr>\n",
       "      <td>1</td>\n",
       "      <td>c_10</td>\n",
       "      <td>62-73</td>\n",
       "      <td>4.833333</td>\n",
       "    </tr>\n",
       "    <tr>\n",
       "      <td>2</td>\n",
       "      <td>c_100</td>\n",
       "      <td>30-40</td>\n",
       "      <td>0.666667</td>\n",
       "    </tr>\n",
       "    <tr>\n",
       "      <td>3</td>\n",
       "      <td>c_1000</td>\n",
       "      <td>52-61</td>\n",
       "      <td>10.416667</td>\n",
       "    </tr>\n",
       "    <tr>\n",
       "      <td>4</td>\n",
       "      <td>c_1001</td>\n",
       "      <td>41-51</td>\n",
       "      <td>8.500000</td>\n",
       "    </tr>\n",
       "    <tr>\n",
       "      <td>...</td>\n",
       "      <td>...</td>\n",
       "      <td>...</td>\n",
       "      <td>...</td>\n",
       "    </tr>\n",
       "    <tr>\n",
       "      <td>8591</td>\n",
       "      <td>c_995</td>\n",
       "      <td>62-73</td>\n",
       "      <td>1.166667</td>\n",
       "    </tr>\n",
       "    <tr>\n",
       "      <td>8592</td>\n",
       "      <td>c_996</td>\n",
       "      <td>52-61</td>\n",
       "      <td>7.916667</td>\n",
       "    </tr>\n",
       "    <tr>\n",
       "      <td>8593</td>\n",
       "      <td>c_997</td>\n",
       "      <td>19-29</td>\n",
       "      <td>4.916667</td>\n",
       "    </tr>\n",
       "    <tr>\n",
       "      <td>8594</td>\n",
       "      <td>c_998</td>\n",
       "      <td>19-29</td>\n",
       "      <td>4.416667</td>\n",
       "    </tr>\n",
       "    <tr>\n",
       "      <td>8595</td>\n",
       "      <td>c_999</td>\n",
       "      <td>52-61</td>\n",
       "      <td>3.833333</td>\n",
       "    </tr>\n",
       "  </tbody>\n",
       "</table>\n",
       "<p>8596 rows × 3 columns</p>\n",
       "</div>"
      ],
      "text/plain": [
       "     client_id age_ranges  nb_achats\n",
       "0          c_1      62-73   3.250000\n",
       "1         c_10      62-73   4.833333\n",
       "2        c_100      30-40   0.666667\n",
       "3       c_1000      52-61  10.416667\n",
       "4       c_1001      41-51   8.500000\n",
       "...        ...        ...        ...\n",
       "8591     c_995      62-73   1.166667\n",
       "8592     c_996      52-61   7.916667\n",
       "8593     c_997      19-29   4.916667\n",
       "8594     c_998      19-29   4.416667\n",
       "8595     c_999      52-61   3.833333\n",
       "\n",
       "[8596 rows x 3 columns]"
      ]
     },
     "execution_count": 40,
     "metadata": {},
     "output_type": "execute_result"
    }
   ],
   "source": [
    "df_freq"
   ]
  },
  {
   "cell_type": "code",
   "execution_count": 41,
   "metadata": {
    "ExecuteTime": {
     "end_time": "2022-03-25T11:39:44.657529Z",
     "start_time": "2022-03-25T11:39:44.215239Z"
    },
    "hidden": true
   },
   "outputs": [
    {
     "data": {
      "image/png": "[encoded data removed]",
      "text/plain": [
       "<Figure size 864x432 with 1 Axes>"
      ]
     },
     "metadata": {
      "needs_background": "light"
     },
     "output_type": "display_data"
    }
   ],
   "source": [
    "# Visualization par boxplots\n",
    "\n",
    "X = \"nb_achats\" \n",
    "Y = \"age_ranges\"\n",
    "\n",
    "plt.figure(figsize=(12, 6))\n",
    "sns.boxplot(x=df_freq[X], y=df_freq[Y], showmeans=True)\n",
    "plt.title(\"Fréquence des achats par mois en fonction des âges\", fontsize = 14, fontweight= \"bold\")\n",
    "plt.xlabel(\"Nombre d'achats par mois\")\n",
    "plt.ylabel(\"Catégorie d'âge\")\n",
    "plt.xticks(fontsize=12)\n",
    "plt.yticks(fontsize=12)\n",
    "plt.show()"
   ]
  },
  {
   "cell_type": "code",
   "execution_count": 42,
   "metadata": {
    "ExecuteTime": {
     "end_time": "2022-03-25T11:39:44.747568Z",
     "start_time": "2022-03-25T11:39:44.663619Z"
    },
    "hidden": true
   },
   "outputs": [
    {
     "name": "stdout",
     "output_type": "stream",
     "text": [
      "                      sum_sq      df           F  PR(>F)\n",
      "C(age_ranges)   62842.766483     6.0  423.991951     0.0\n",
      "Residual       212172.471686  8589.0         NaN     NaN\n"
     ]
    }
   ],
   "source": [
    "# Calcul de l'ANOVA\n",
    "\n",
    "linear_model = ols(\"nb_achats ~ C(age_ranges)\", data=df_freq).fit()\n",
    "table = sm.stats.anova_lm(linear_model, typ=2)\n",
    "print(table)"
   ]
  },
  {
   "cell_type": "code",
   "execution_count": 43,
   "metadata": {
    "ExecuteTime": {
     "end_time": "2022-03-25T11:39:44.766450Z",
     "start_time": "2022-03-25T11:39:44.752400Z"
    },
    "hidden": true
   },
   "outputs": [
    {
     "name": "stdout",
     "output_type": "stream",
     "text": [
      "La p-value est égale à 0.0\n",
      "Le coefficient de corrélation est égal à 0.4780235234308734\n"
     ]
    }
   ],
   "source": [
    "pvalue = linear_model.f_pvalue\n",
    "print(\"La p-value est égale à {}\".format(pvalue))\n",
    "\n",
    "rsquared = math.sqrt(linear_model.rsquared)\n",
    "print(\"Le coefficient de corrélation est égal à {}\".format(rsquared))"
   ]
  },
  {
   "cell_type": "code",
   "execution_count": 44,
   "metadata": {
    "ExecuteTime": {
     "end_time": "2022-03-25T11:39:44.845398Z",
     "start_time": "2022-03-25T11:39:44.777791Z"
    },
    "hidden": true
   },
   "outputs": [
    {
     "name": "stdout",
     "output_type": "stream",
     "text": [
      "                  Results: Ordinary least squares\n",
      "===================================================================\n",
      "Model:              OLS              Adj. R-squared:     0.228     \n",
      "Dependent Variable: nb_achats        AIC:                51968.0484\n",
      "Date:               2022-03-25 12:39 BIC:                52017.4618\n",
      "No. Observations:   8596             Log-Likelihood:     -25977.   \n",
      "Df Model:           6                F-statistic:        424.0     \n",
      "Df Residuals:       8589             Prob (F-statistic): 0.00      \n",
      "R-squared:          0.229            Scale:              24.703    \n",
      "-------------------------------------------------------------------\n",
      "                       Coef.  Std.Err.    t    P>|t|  [0.025 0.975]\n",
      "-------------------------------------------------------------------\n",
      "Intercept              2.7560   0.1127 24.4490 0.0000 2.5351 2.9770\n",
      "C(age_ranges)[T.30-40] 5.9468   0.1630 36.4776 0.0000 5.6272 6.2664\n",
      "C(age_ranges)[T.41-51] 6.7789   0.1602 42.3121 0.0000 6.4648 7.0929\n",
      "C(age_ranges)[T.52-61] 1.9756   0.1737 11.3727 0.0000 1.6351 2.3162\n",
      "C(age_ranges)[T.62-73] 1.7810   0.1917  9.2893 0.0000 1.4052 2.1569\n",
      "C(age_ranges)[T.74-84] 1.8037   0.2720  6.6304 0.0000 1.2705 2.3370\n",
      "C(age_ranges)[T.85-94] 1.4196   0.4657  3.0484 0.0023 0.5067 2.3324\n",
      "-------------------------------------------------------------------\n",
      "Omnibus:              1985.639      Durbin-Watson:         1.980   \n",
      "Prob(Omnibus):        0.000         Jarque-Bera (JB):      4700.781\n",
      "Skew:                 1.289         Prob(JB):              0.000   \n",
      "Kurtosis:             5.545         Condition No.:         9       \n",
      "===================================================================\n",
      "\n"
     ]
    }
   ],
   "source": [
    "# Affichage le summary\n",
    "print(linear_model.summary2())"
   ]
  },
  {
   "cell_type": "code",
   "execution_count": 45,
   "metadata": {
    "ExecuteTime": {
     "end_time": "2022-03-25T11:39:44.861340Z",
     "start_time": "2022-03-25T11:39:44.849303Z"
    },
    "hidden": true
   },
   "outputs": [
    {
     "name": "stdout",
     "output_type": "stream",
     "text": [
      "On rejette HO : il y a une corrélation moyenne entre la fréquence des achats et l'âge.\n"
     ]
    }
   ],
   "source": [
    "# P-value : choix d'un seuil de probabilité standard, de 5%\n",
    "norm = 0.05\n",
    "\n",
    "#Conclusion\n",
    "\n",
    "if pvalue < norm:\n",
    "    if rsquared > 0.5:\n",
    "        print(\"On rejette HO : il y a une corrélation forte entre la fréquence des achats et l'âge.\")\n",
    "    elif rsquared > 0.3:\n",
    "        print(\"On rejette HO : il y a une corrélation moyenne entre la fréquence des achats et l'âge.\")\n",
    "    elif rsquared > 0.1:\n",
    "        print(\"On rejette HO : il y a une petite corrélation entre la fréquence des achatset l'âge.\")\n",
    "elif pvalue > norm : \n",
    "    print(\"On ne peut pas rejeter HO: il n'y a pas de corrélation entre la fréquence des achats et l'âge\")"
   ]
  },
  {
   "cell_type": "markdown",
   "metadata": {
    "heading_collapsed": true
   },
   "source": [
    "### 3.4. Etude de la corrélation entre âge et panier moyen"
   ]
  },
  {
   "cell_type": "code",
   "execution_count": 46,
   "metadata": {
    "ExecuteTime": {
     "end_time": "2022-03-25T11:39:44.880470Z",
     "start_time": "2022-03-25T11:39:44.867792Z"
    },
    "hidden": true
   },
   "outputs": [],
   "source": [
    "# Je calcule le panier moyen mensuel\n",
    "def panier_moyen(x):\n",
    "    d = {}\n",
    "    d[\"panier\"] = (x[\"price\"].sum()/ x[\"session_id\"].count())\n",
    "    return pd.Series(d, index=[\"panier\"])"
   ]
  },
  {
   "cell_type": "code",
   "execution_count": 47,
   "metadata": {
    "ExecuteTime": {
     "end_time": "2022-03-25T11:39:45.753081Z",
     "start_time": "2022-03-25T11:39:44.886108Z"
    },
    "hidden": true
   },
   "outputs": [],
   "source": [
    "# Je les regroupe par période et par tranche d'âge\n",
    "df_age_panier = df.groupby([\"month\",\"age_ranges\"]).apply(panier_moyen)"
   ]
  },
  {
   "cell_type": "code",
   "execution_count": 48,
   "metadata": {
    "ExecuteTime": {
     "end_time": "2022-03-25T11:39:45.781505Z",
     "start_time": "2022-03-25T11:39:45.757103Z"
    },
    "hidden": true
   },
   "outputs": [
    {
     "data": {
      "text/html": [
       "<div>\n",
       "<style scoped>\n",
       "    .dataframe tbody tr th:only-of-type {\n",
       "        vertical-align: middle;\n",
       "    }\n",
       "\n",
       "    .dataframe tbody tr th {\n",
       "        vertical-align: top;\n",
       "    }\n",
       "\n",
       "    .dataframe thead th {\n",
       "        text-align: right;\n",
       "    }\n",
       "</style>\n",
       "<table border=\"1\" class=\"dataframe\">\n",
       "  <thead>\n",
       "    <tr style=\"text-align: right;\">\n",
       "      <th></th>\n",
       "      <th>month</th>\n",
       "      <th>age_ranges</th>\n",
       "      <th>panier</th>\n",
       "    </tr>\n",
       "  </thead>\n",
       "  <tbody>\n",
       "    <tr>\n",
       "      <td>0</td>\n",
       "      <td>1</td>\n",
       "      <td>19-29</td>\n",
       "      <td>39.567002</td>\n",
       "    </tr>\n",
       "    <tr>\n",
       "      <td>1</td>\n",
       "      <td>1</td>\n",
       "      <td>30-40</td>\n",
       "      <td>15.269142</td>\n",
       "    </tr>\n",
       "    <tr>\n",
       "      <td>2</td>\n",
       "      <td>1</td>\n",
       "      <td>41-51</td>\n",
       "      <td>13.688452</td>\n",
       "    </tr>\n",
       "    <tr>\n",
       "      <td>3</td>\n",
       "      <td>1</td>\n",
       "      <td>52-61</td>\n",
       "      <td>17.237629</td>\n",
       "    </tr>\n",
       "    <tr>\n",
       "      <td>4</td>\n",
       "      <td>1</td>\n",
       "      <td>62-73</td>\n",
       "      <td>17.170865</td>\n",
       "    </tr>\n",
       "    <tr>\n",
       "      <td>...</td>\n",
       "      <td>...</td>\n",
       "      <td>...</td>\n",
       "      <td>...</td>\n",
       "    </tr>\n",
       "    <tr>\n",
       "      <td>79</td>\n",
       "      <td>12</td>\n",
       "      <td>41-51</td>\n",
       "      <td>13.498683</td>\n",
       "    </tr>\n",
       "    <tr>\n",
       "      <td>80</td>\n",
       "      <td>12</td>\n",
       "      <td>52-61</td>\n",
       "      <td>16.900016</td>\n",
       "    </tr>\n",
       "    <tr>\n",
       "      <td>81</td>\n",
       "      <td>12</td>\n",
       "      <td>62-73</td>\n",
       "      <td>17.039898</td>\n",
       "    </tr>\n",
       "    <tr>\n",
       "      <td>82</td>\n",
       "      <td>12</td>\n",
       "      <td>74-84</td>\n",
       "      <td>16.697274</td>\n",
       "    </tr>\n",
       "    <tr>\n",
       "      <td>83</td>\n",
       "      <td>12</td>\n",
       "      <td>85-94</td>\n",
       "      <td>16.843041</td>\n",
       "    </tr>\n",
       "  </tbody>\n",
       "</table>\n",
       "<p>84 rows × 3 columns</p>\n",
       "</div>"
      ],
      "text/plain": [
       "    month age_ranges     panier\n",
       "0       1      19-29  39.567002\n",
       "1       1      30-40  15.269142\n",
       "2       1      41-51  13.688452\n",
       "3       1      52-61  17.237629\n",
       "4       1      62-73  17.170865\n",
       "..    ...        ...        ...\n",
       "79     12      41-51  13.498683\n",
       "80     12      52-61  16.900016\n",
       "81     12      62-73  17.039898\n",
       "82     12      74-84  16.697274\n",
       "83     12      85-94  16.843041\n",
       "\n",
       "[84 rows x 3 columns]"
      ]
     },
     "execution_count": 48,
     "metadata": {},
     "output_type": "execute_result"
    }
   ],
   "source": [
    "df_age_panier =  df_age_panier.reset_index()\n",
    "df_age_panier"
   ]
  },
  {
   "cell_type": "code",
   "execution_count": 49,
   "metadata": {
    "ExecuteTime": {
     "end_time": "2022-03-25T11:39:45.816492Z",
     "start_time": "2022-03-25T11:39:45.787274Z"
    },
    "hidden": true
   },
   "outputs": [
    {
     "data": {
      "text/html": [
       "<div>\n",
       "<style scoped>\n",
       "    .dataframe tbody tr th:only-of-type {\n",
       "        vertical-align: middle;\n",
       "    }\n",
       "\n",
       "    .dataframe tbody tr th {\n",
       "        vertical-align: top;\n",
       "    }\n",
       "\n",
       "    .dataframe thead th {\n",
       "        text-align: right;\n",
       "    }\n",
       "</style>\n",
       "<table border=\"1\" class=\"dataframe\">\n",
       "  <thead>\n",
       "    <tr style=\"text-align: right;\">\n",
       "      <th></th>\n",
       "      <th>age_ranges</th>\n",
       "      <th>panier</th>\n",
       "    </tr>\n",
       "  </thead>\n",
       "  <tbody>\n",
       "    <tr>\n",
       "      <td>0</td>\n",
       "      <td>19-29</td>\n",
       "      <td>39.567002</td>\n",
       "    </tr>\n",
       "    <tr>\n",
       "      <td>1</td>\n",
       "      <td>30-40</td>\n",
       "      <td>15.269142</td>\n",
       "    </tr>\n",
       "    <tr>\n",
       "      <td>2</td>\n",
       "      <td>41-51</td>\n",
       "      <td>13.688452</td>\n",
       "    </tr>\n",
       "    <tr>\n",
       "      <td>3</td>\n",
       "      <td>52-61</td>\n",
       "      <td>17.237629</td>\n",
       "    </tr>\n",
       "    <tr>\n",
       "      <td>4</td>\n",
       "      <td>62-73</td>\n",
       "      <td>17.170865</td>\n",
       "    </tr>\n",
       "    <tr>\n",
       "      <td>...</td>\n",
       "      <td>...</td>\n",
       "      <td>...</td>\n",
       "    </tr>\n",
       "    <tr>\n",
       "      <td>79</td>\n",
       "      <td>41-51</td>\n",
       "      <td>13.498683</td>\n",
       "    </tr>\n",
       "    <tr>\n",
       "      <td>80</td>\n",
       "      <td>52-61</td>\n",
       "      <td>16.900016</td>\n",
       "    </tr>\n",
       "    <tr>\n",
       "      <td>81</td>\n",
       "      <td>62-73</td>\n",
       "      <td>17.039898</td>\n",
       "    </tr>\n",
       "    <tr>\n",
       "      <td>82</td>\n",
       "      <td>74-84</td>\n",
       "      <td>16.697274</td>\n",
       "    </tr>\n",
       "    <tr>\n",
       "      <td>83</td>\n",
       "      <td>85-94</td>\n",
       "      <td>16.843041</td>\n",
       "    </tr>\n",
       "  </tbody>\n",
       "</table>\n",
       "<p>84 rows × 2 columns</p>\n",
       "</div>"
      ],
      "text/plain": [
       "   age_ranges     panier\n",
       "0       19-29  39.567002\n",
       "1       30-40  15.269142\n",
       "2       41-51  13.688452\n",
       "3       52-61  17.237629\n",
       "4       62-73  17.170865\n",
       "..        ...        ...\n",
       "79      41-51  13.498683\n",
       "80      52-61  16.900016\n",
       "81      62-73  17.039898\n",
       "82      74-84  16.697274\n",
       "83      85-94  16.843041\n",
       "\n",
       "[84 rows x 2 columns]"
      ]
     },
     "execution_count": 49,
     "metadata": {},
     "output_type": "execute_result"
    }
   ],
   "source": [
    "df_age_panier = df_age_panier[[\"age_ranges\",\"panier\"]]\n",
    "df_age_panier"
   ]
  },
  {
   "cell_type": "code",
   "execution_count": 50,
   "metadata": {
    "ExecuteTime": {
     "end_time": "2022-03-25T11:39:46.260739Z",
     "start_time": "2022-03-25T11:39:45.829709Z"
    },
    "hidden": true
   },
   "outputs": [
    {
     "data": {
      "image/png": "[encoded data removed]",
      "text/plain": [
       "<Figure size 1080x648 with 1 Axes>"
      ]
     },
     "metadata": {
      "needs_background": "light"
     },
     "output_type": "display_data"
    }
   ],
   "source": [
    "# Boxplot\n",
    "\n",
    "fig = plt.figure(figsize=(15,9))\n",
    "\n",
    "sns.boxplot(x=\"age_ranges\",y=\"panier\",data=df_age_panier, showmeans=True)\n",
    "plt.title(\"Panier moyen par tranche d'âge\", fontsize=14, fontweight=\"bold\")\n",
    "plt.grid()\n",
    "plt.show()"
   ]
  },
  {
   "cell_type": "code",
   "execution_count": 51,
   "metadata": {
    "ExecuteTime": {
     "end_time": "2022-03-25T11:39:46.313639Z",
     "start_time": "2022-03-25T11:39:46.265098Z"
    },
    "hidden": true
   },
   "outputs": [
    {
     "name": "stdout",
     "output_type": "stream",
     "text": [
      "                    sum_sq    df            F        PR(>F)\n",
      "C(age_ranges)  6314.097785   6.0  1198.454542  7.245227e-74\n",
      "Residual         67.612845  77.0          NaN           NaN\n"
     ]
    },
    {
     "name": "stderr",
     "output_type": "stream",
     "text": [
      "/Users/lethituong/opt/anaconda3/lib/python3.7/site-packages/pandas/core/generic.py:5208: SettingWithCopyWarning: \n",
      "A value is trying to be set on a copy of a slice from a DataFrame.\n",
      "Try using .loc[row_indexer,col_indexer] = value instead\n",
      "\n",
      "See the caveats in the documentation: http://pandas.pydata.org/pandas-docs/stable/user_guide/indexing.html#returning-a-view-versus-a-copy\n",
      "  self[name] = value\n"
     ]
    }
   ],
   "source": [
    "# Calcul de l'ANOVA\n",
    "df_age_panier.panier = df_age_panier.panier.astype(\"float64\")\n",
    "\n",
    "linear_model = ols(\"panier ~ C(age_ranges)\", data=df_age_panier).fit()\n",
    "table = sm.stats.anova_lm(linear_model, typ=2)\n",
    "print(table)"
   ]
  },
  {
   "cell_type": "code",
   "execution_count": 52,
   "metadata": {
    "ExecuteTime": {
     "end_time": "2022-03-25T11:39:46.334095Z",
     "start_time": "2022-03-25T11:39:46.319144Z"
    },
    "hidden": true
   },
   "outputs": [
    {
     "name": "stdout",
     "output_type": "stream",
     "text": [
      "La p-value est égale à 7.245227386875832e-74\n",
      "Le coefficient de corrélation est égal à 0.9946885020206421\n"
     ]
    }
   ],
   "source": [
    "pvalue = linear_model.f_pvalue\n",
    "print(\"La p-value est égale à {}\".format(pvalue))\n",
    "\n",
    "rsquared = math.sqrt(linear_model.rsquared)\n",
    "print(\"Le coefficient de corrélation est égal à {}\".format(rsquared))\n"
   ]
  },
  {
   "cell_type": "code",
   "execution_count": 53,
   "metadata": {
    "ExecuteTime": {
     "end_time": "2022-03-25T11:39:46.411007Z",
     "start_time": "2022-03-25T11:39:46.341973Z"
    },
    "hidden": true
   },
   "outputs": [
    {
     "name": "stdout",
     "output_type": "stream",
     "text": [
      "                     Results: Ordinary least squares\n",
      "==========================================================================\n",
      "Model:                 OLS                 Adj. R-squared:        0.989   \n",
      "Dependent Variable:    panier              AIC:                   234.1521\n",
      "Date:                  2022-03-25 12:39    BIC:                   251.1678\n",
      "No. Observations:      84                  Log-Likelihood:        -110.08 \n",
      "Df Model:              6                   F-statistic:           1198.   \n",
      "Df Residuals:          77                  Prob (F-statistic):    7.25e-74\n",
      "R-squared:             0.989               Scale:                 0.87809 \n",
      "--------------------------------------------------------------------------\n",
      "                        Coef.   Std.Err.    t     P>|t|   [0.025   0.975] \n",
      "--------------------------------------------------------------------------\n",
      "Intercept               40.3350   0.2705 149.1088 0.0000  39.7963  40.8736\n",
      "C(age_ranges)[T.30-40] -25.6309   0.3826 -66.9992 0.0000 -26.3926 -24.8691\n",
      "C(age_ranges)[T.41-51] -27.0700   0.3826 -70.7612 0.0000 -27.8318 -26.3083\n",
      "C(age_ranges)[T.52-61] -23.5799   0.3826 -61.6380 0.0000 -24.3417 -22.8181\n",
      "C(age_ranges)[T.62-73] -23.5692   0.3826 -61.6100 0.0000 -24.3310 -22.8074\n",
      "C(age_ranges)[T.74-84] -23.7193   0.3826 -62.0023 0.0000 -24.4811 -22.9575\n",
      "C(age_ranges)[T.85-94] -23.4968   0.3826 -61.4206 0.0000 -24.2585 -22.7350\n",
      "--------------------------------------------------------------------------\n",
      "Omnibus:                22.799          Durbin-Watson:             1.585  \n",
      "Prob(Omnibus):          0.000           Jarque-Bera (JB):          163.438\n",
      "Skew:                   -0.307          Prob(JB):                  0.000  \n",
      "Kurtosis:               9.806           Condition No.:             8      \n",
      "==========================================================================\n",
      "\n"
     ]
    }
   ],
   "source": [
    "# Affichage de la régression linéaire correspondante\n",
    "print(linear_model.summary2())"
   ]
  },
  {
   "cell_type": "code",
   "execution_count": 54,
   "metadata": {
    "ExecuteTime": {
     "end_time": "2022-03-25T11:39:46.428026Z",
     "start_time": "2022-03-25T11:39:46.415430Z"
    },
    "hidden": true
   },
   "outputs": [
    {
     "name": "stdout",
     "output_type": "stream",
     "text": [
      "On rejette HO : il y a une corrélation forte entre la taille du panier moyen et l'âge.\n"
     ]
    }
   ],
   "source": [
    "# P-value : choix d'un seuil de probabilité standard, de 5%\n",
    "norm = 0.05\n",
    "\n",
    "#Conclusion\n",
    "\n",
    "if pvalue < norm:\n",
    "    if rsquared > 0.5:\n",
    "        print(\"On rejette HO : il y a une corrélation forte entre la taille du panier moyen et l'âge.\")\n",
    "    elif rsquared > 0.3:\n",
    "        print(\"On rejette HO : il y a une corrélation moyenne entre la taille du panier moyen et l'âge.\")\n",
    "    elif rsquared > 0.1:\n",
    "        print(\"On rejette HO : il y a une petite corrélation entre la taille du panier moyen et l'âge.\")\n",
    "elif pvalue > norm: \n",
    "    print(\"On ne peut pas rejeter HO: il n'y a pas de corrélation entre la taille du panier moyen et l'âge\")"
   ]
  },
  {
   "cell_type": "markdown",
   "metadata": {
    "heading_collapsed": true
   },
   "source": [
    "### 3.5. Etude de la corrélation entre âge et catégorie de produit"
   ]
  },
  {
   "cell_type": "markdown",
   "metadata": {
    "hidden": true
   },
   "source": [
    "**On va faire un test de Chi²**"
   ]
  },
  {
   "cell_type": "code",
   "execution_count": 55,
   "metadata": {
    "ExecuteTime": {
     "end_time": "2022-03-25T11:39:46.452085Z",
     "start_time": "2022-03-25T11:39:46.433320Z"
    },
    "hidden": true
   },
   "outputs": [],
   "source": [
    "df_age_categ = df[[\"age_ranges\",\"categ\"]]"
   ]
  },
  {
   "cell_type": "code",
   "execution_count": 56,
   "metadata": {
    "ExecuteTime": {
     "end_time": "2022-03-25T11:39:46.865565Z",
     "start_time": "2022-03-25T11:39:46.460622Z"
    },
    "hidden": true
   },
   "outputs": [
    {
     "data": {
      "text/html": [
       "<div>\n",
       "<style scoped>\n",
       "    .dataframe tbody tr th:only-of-type {\n",
       "        vertical-align: middle;\n",
       "    }\n",
       "\n",
       "    .dataframe tbody tr th {\n",
       "        vertical-align: top;\n",
       "    }\n",
       "\n",
       "    .dataframe thead th {\n",
       "        text-align: right;\n",
       "    }\n",
       "</style>\n",
       "<table border=\"1\" class=\"dataframe\">\n",
       "  <thead>\n",
       "    <tr style=\"text-align: right;\">\n",
       "      <th>categ</th>\n",
       "      <th>0</th>\n",
       "      <th>1</th>\n",
       "      <th>2</th>\n",
       "      <th>Total</th>\n",
       "    </tr>\n",
       "    <tr>\n",
       "      <th>age_ranges</th>\n",
       "      <th></th>\n",
       "      <th></th>\n",
       "      <th></th>\n",
       "      <th></th>\n",
       "    </tr>\n",
       "  </thead>\n",
       "  <tbody>\n",
       "    <tr>\n",
       "      <td>19-29</td>\n",
       "      <td>14414</td>\n",
       "      <td>24119</td>\n",
       "      <td>25760</td>\n",
       "      <td>64293</td>\n",
       "    </tr>\n",
       "    <tr>\n",
       "      <td>30-40</td>\n",
       "      <td>136264</td>\n",
       "      <td>44972</td>\n",
       "      <td>4761</td>\n",
       "      <td>185997</td>\n",
       "    </tr>\n",
       "    <tr>\n",
       "      <td>41-51</td>\n",
       "      <td>165443</td>\n",
       "      <td>51807</td>\n",
       "      <td>833</td>\n",
       "      <td>218083</td>\n",
       "    </tr>\n",
       "    <tr>\n",
       "      <td>52-61</td>\n",
       "      <td>34745</td>\n",
       "      <td>44831</td>\n",
       "      <td>711</td>\n",
       "      <td>80287</td>\n",
       "    </tr>\n",
       "    <tr>\n",
       "      <td>62-73</td>\n",
       "      <td>24351</td>\n",
       "      <td>31044</td>\n",
       "      <td>520</td>\n",
       "      <td>55915</td>\n",
       "    </tr>\n",
       "    <tr>\n",
       "      <td>74-84</td>\n",
       "      <td>9618</td>\n",
       "      <td>12239</td>\n",
       "      <td>194</td>\n",
       "      <td>22051</td>\n",
       "    </tr>\n",
       "    <tr>\n",
       "      <td>85-94</td>\n",
       "      <td>2658</td>\n",
       "      <td>3336</td>\n",
       "      <td>69</td>\n",
       "      <td>6063</td>\n",
       "    </tr>\n",
       "    <tr>\n",
       "      <td>Total</td>\n",
       "      <td>387493</td>\n",
       "      <td>212348</td>\n",
       "      <td>32848</td>\n",
       "      <td>632689</td>\n",
       "    </tr>\n",
       "  </tbody>\n",
       "</table>\n",
       "</div>"
      ],
      "text/plain": [
       "categ            0       1      2   Total\n",
       "age_ranges                               \n",
       "19-29        14414   24119  25760   64293\n",
       "30-40       136264   44972   4761  185997\n",
       "41-51       165443   51807    833  218083\n",
       "52-61        34745   44831    711   80287\n",
       "62-73        24351   31044    520   55915\n",
       "74-84         9618   12239    194   22051\n",
       "85-94         2658    3336     69    6063\n",
       "Total       387493  212348  32848  632689"
      ]
     },
     "execution_count": 56,
     "metadata": {},
     "output_type": "execute_result"
    }
   ],
   "source": [
    "# Le tableau de contingence réel\n",
    "X = \"age_ranges\"\n",
    "Y = \"categ\"\n",
    "\n",
    "cont_1 = df[[X,Y]].pivot_table(index=X,columns=Y,aggfunc=len,margins=True,margins_name=\"Total\")\n",
    "cont_1"
   ]
  },
  {
   "cell_type": "code",
   "execution_count": 57,
   "metadata": {
    "ExecuteTime": {
     "end_time": "2022-03-25T11:39:46.992686Z",
     "start_time": "2022-03-25T11:39:46.872795Z"
    },
    "hidden": true
   },
   "outputs": [
    {
     "name": "stdout",
     "output_type": "stream",
     "text": [
      "tableau des effectifs théoriques : \n"
     ]
    },
    {
     "data": {
      "text/html": [
       "<div>\n",
       "<style scoped>\n",
       "    .dataframe tbody tr th:only-of-type {\n",
       "        vertical-align: middle;\n",
       "    }\n",
       "\n",
       "    .dataframe tbody tr th {\n",
       "        vertical-align: top;\n",
       "    }\n",
       "\n",
       "    .dataframe thead th {\n",
       "        text-align: right;\n",
       "    }\n",
       "</style>\n",
       "<table border=\"1\" class=\"dataframe\">\n",
       "  <thead>\n",
       "    <tr style=\"text-align: right;\">\n",
       "      <th></th>\n",
       "      <th>0</th>\n",
       "      <th>1</th>\n",
       "      <th>2</th>\n",
       "    </tr>\n",
       "  </thead>\n",
       "  <tbody>\n",
       "    <tr>\n",
       "      <td>41-51</td>\n",
       "      <td>133565.837116</td>\n",
       "      <td>73194.711594</td>\n",
       "      <td>11322.451290</td>\n",
       "    </tr>\n",
       "    <tr>\n",
       "      <td>30-40</td>\n",
       "      <td>113914.633447</td>\n",
       "      <td>62425.758874</td>\n",
       "      <td>9656.607679</td>\n",
       "    </tr>\n",
       "    <tr>\n",
       "      <td>52-61</td>\n",
       "      <td>49172.105870</td>\n",
       "      <td>26946.547002</td>\n",
       "      <td>4168.347128</td>\n",
       "    </tr>\n",
       "    <tr>\n",
       "      <td>19-29</td>\n",
       "      <td>39376.514289</td>\n",
       "      <td>21578.516402</td>\n",
       "      <td>3337.969309</td>\n",
       "    </tr>\n",
       "    <tr>\n",
       "      <td>62-73</td>\n",
       "      <td>34245.373469</td>\n",
       "      <td>18766.626921</td>\n",
       "      <td>2902.999610</td>\n",
       "    </tr>\n",
       "    <tr>\n",
       "      <td>74-84</td>\n",
       "      <td>13505.226332</td>\n",
       "      <td>7400.928020</td>\n",
       "      <td>1144.845648</td>\n",
       "    </tr>\n",
       "    <tr>\n",
       "      <td>85-94</td>\n",
       "      <td>3713.309476</td>\n",
       "      <td>2034.911187</td>\n",
       "      <td>314.779337</td>\n",
       "    </tr>\n",
       "  </tbody>\n",
       "</table>\n",
       "</div>"
      ],
      "text/plain": [
       "                   0             1             2\n",
       "41-51  133565.837116  73194.711594  11322.451290\n",
       "30-40  113914.633447  62425.758874   9656.607679\n",
       "52-61   49172.105870  26946.547002   4168.347128\n",
       "19-29   39376.514289  21578.516402   3337.969309\n",
       "62-73   34245.373469  18766.626921   2902.999610\n",
       "74-84   13505.226332   7400.928020   1144.845648\n",
       "85-94    3713.309476   2034.911187    314.779337"
      ]
     },
     "execution_count": 57,
     "metadata": {},
     "output_type": "execute_result"
    }
   ],
   "source": [
    "# Tableau de contingence théorique\n",
    "\n",
    "cont_1=cont_1.copy()\n",
    "tx=df[X].value_counts()\n",
    "ty=df[Y].value_counts()\n",
    "\n",
    "tx = pd.DataFrame(tx)\n",
    "ty = pd.DataFrame(ty)\n",
    "tx.columns= [\"foo\"]\n",
    "ty.columns= [\"foo\"]\n",
    "n = len(df)\n",
    "indep = tx.dot(ty.T)/n\n",
    "\n",
    "print(\"tableau des effectifs théoriques : \")\n",
    "indep\n"
   ]
  },
  {
   "cell_type": "code",
   "execution_count": 58,
   "metadata": {
    "ExecuteTime": {
     "end_time": "2022-03-25T11:39:47.007701Z",
     "start_time": "2022-03-25T11:39:46.996928Z"
    },
    "hidden": true
   },
   "outputs": [],
   "source": [
    "chi2, p, dof, exp = stats.chi2_contingency(cont_1)"
   ]
  },
  {
   "cell_type": "code",
   "execution_count": 59,
   "metadata": {
    "ExecuteTime": {
     "end_time": "2022-03-25T11:39:47.039625Z",
     "start_time": "2022-03-25T11:39:47.022099Z"
    },
    "hidden": true
   },
   "outputs": [
    {
     "name": "stdout",
     "output_type": "stream",
     "text": [
      "240272.9242918959\n"
     ]
    }
   ],
   "source": [
    "print(chi2)"
   ]
  },
  {
   "cell_type": "code",
   "execution_count": 60,
   "metadata": {
    "ExecuteTime": {
     "end_time": "2022-03-25T11:39:47.066527Z",
     "start_time": "2022-03-25T11:39:47.056323Z"
    },
    "hidden": true
   },
   "outputs": [
    {
     "name": "stdout",
     "output_type": "stream",
     "text": [
      "0.0\n"
     ]
    }
   ],
   "source": [
    "print(p)"
   ]
  },
  {
   "cell_type": "code",
   "execution_count": 61,
   "metadata": {
    "ExecuteTime": {
     "end_time": "2022-03-25T11:39:47.084809Z",
     "start_time": "2022-03-25T11:39:47.072539Z"
    },
    "hidden": true
   },
   "outputs": [
    {
     "name": "stdout",
     "output_type": "stream",
     "text": [
      "H1: Il y a une dépendance entre les deux valeurs.\n"
     ]
    }
   ],
   "source": [
    "if p > .05:\n",
    "    print(\"H0: les valeurs sont independantes\")\n",
    "else:\n",
    "    print(\"H1: Il y a une dépendance entre les deux valeurs.\")"
   ]
  },
  {
   "cell_type": "code",
   "execution_count": 62,
   "metadata": {
    "ExecuteTime": {
     "end_time": "2022-03-25T11:39:47.518653Z",
     "start_time": "2022-03-25T11:39:47.092030Z"
    },
    "hidden": true
   },
   "outputs": [
    {
     "data": {
      "image/png": "[encoded data removed]",
      "text/plain": [
       "<Figure size 432x288 with 2 Axes>"
      ]
     },
     "metadata": {
      "needs_background": "light"
     },
     "output_type": "display_data"
    }
   ],
   "source": [
    "tx = cont_1.loc[:,[\"Total\"]]\n",
    "ty = cont_1.loc[[\"Total\"],:]\n",
    "n = len(df)\n",
    "indep = tx.dot(ty) / n\n",
    "\n",
    "c = cont_1.fillna(0) \n",
    "measure = (c-indep)**2/indep\n",
    "xi_n = measure.sum().sum()\n",
    "table = measure/xi_n\n",
    "sns.heatmap(table.iloc[:-1,:-1],annot=True)\n",
    "plt.title(\"Corrélation entre la catégorie d'âge et la catégorie.\", fontsize = 14, fontweight=\"bold\")\n",
    "plt.ylabel(\"Catégorie d'âge\")\n",
    "plt.xlabel(\"Catégorie de produit\")\n",
    "plt.show()"
   ]
  },
  {
   "cell_type": "markdown",
   "metadata": {
    "hidden": true
   },
   "source": [
    "**Il y a une forte corrélation entre les personnes âgés de 19-29 ans pour la catégorie 2 des produits.**"
   ]
  },
  {
   "cell_type": "code",
   "execution_count": null,
   "metadata": {
    "hidden": true
   },
   "outputs": [],
   "source": []
  }
 ],
 "metadata": {
  "kernelspec": {
   "display_name": "Python 3",
   "language": "python",
   "name": "python3"
  },
  "language_info": {
   "codemirror_mode": {
    "name": "ipython",
    "version": 3
   },
   "file_extension": ".py",
   "mimetype": "text/x-python",
   "name": "python",
   "nbconvert_exporter": "python",
   "pygments_lexer": "ipython3",
   "version": "3.7.4"
  },
  "toc": {
   "base_numbering": 1,
   "nav_menu": {},
   "number_sections": false,
   "sideBar": true,
   "skip_h1_title": false,
   "title_cell": "Table of Contents",
   "title_sidebar": "Contents",
   "toc_cell": false,
   "toc_position": {},
   "toc_section_display": true,
   "toc_window_display": false
  }
 },
 "nbformat": 4,
 "nbformat_minor": 2
}
